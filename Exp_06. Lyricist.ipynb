{
 "cells": [
  {
   "cell_type": "markdown",
   "id": "54dae65b",
   "metadata": {},
   "source": [
    "### Step 1. 라이브러리 버전"
   ]
  },
  {
   "cell_type": "code",
   "execution_count": 1,
   "id": "7c32cbaa",
   "metadata": {},
   "outputs": [
    {
     "name": "stdout",
     "output_type": "stream",
     "text": [
      "2.6.0\n"
     ]
    }
   ],
   "source": [
    "import glob, os\n",
    "import tensorflow\n",
    "\n",
    "print(tensorflow.__version__)"
   ]
  },
  {
   "cell_type": "markdown",
   "id": "2a6817ae",
   "metadata": {},
   "source": [
    "### Step 2. 데이터 읽어오기"
   ]
  },
  {
   "cell_type": "code",
   "execution_count": 2,
   "id": "cc0029ad",
   "metadata": {},
   "outputs": [],
   "source": [
    "txt_file_path = os.getenv('HOME') + '/aiffel/lyricist/data/lyrics/*'"
   ]
  },
  {
   "cell_type": "code",
   "execution_count": 3,
   "id": "269d65ff",
   "metadata": {},
   "outputs": [],
   "source": [
    "txt_list = glob.glob(txt_file_path)"
   ]
  },
  {
   "cell_type": "code",
   "execution_count": 4,
   "id": "6d2da297",
   "metadata": {},
   "outputs": [
    {
     "name": "stdout",
     "output_type": "stream",
     "text": [
      "데이터 크기 : 187088\n",
      "Examples : \n",
      " [\"Now I've heard there was a secret chord\", 'That David played, and it pleased the Lord', \"But you don't really care for music, do you?\"]\n"
     ]
    }
   ],
   "source": [
    "raw_corpus = []\n",
    "\n",
    "for txt_file in txt_list:\n",
    "    with open(txt_file, 'r') as f:\n",
    "        raw = f.read().splitlines()\n",
    "        raw_corpus.extend(raw)\n",
    "\n",
    "print('데이터 크기 :', len(raw_corpus))\n",
    "print('Examples : \\n', raw_corpus[:3])"
   ]
  },
  {
   "cell_type": "markdown",
   "id": "43f98151",
   "metadata": {},
   "source": [
    "### Step 3. 데이터 정제"
   ]
  },
  {
   "cell_type": "code",
   "execution_count": 5,
   "id": "820cf773",
   "metadata": {},
   "outputs": [],
   "source": [
    "import re"
   ]
  },
  {
   "cell_type": "code",
   "execution_count": 6,
   "id": "4ba5db16",
   "metadata": {},
   "outputs": [
    {
     "name": "stdout",
     "output_type": "stream",
     "text": [
      "<start> this is sample sentence . <end>\n"
     ]
    }
   ],
   "source": [
    "def preprocess_sentence(sentence):\n",
    "    sentence = sentence.lower().strip() # 1\n",
    "    sentence = re.sub(r\"([?.!,¿])\", r\" \\1 \", sentence) # 2\n",
    "    sentence = re.sub(r'[\" \"]+', \" \", sentence) # 3\n",
    "    sentence = re.sub(r\"[^a-zA-Z?.!,¿]+\", \" \", sentence) # 4\n",
    "    sentence = sentence.strip() # 5\n",
    "    sentence = '<start> ' + sentence + ' <end>' # 6\n",
    "    return sentence\n",
    "\n",
    "# 이 문장이 어떻게 필터링되는지 확인해 보세요.\n",
    "print(preprocess_sentence(\"This @_is ;;;sample        sentence.\"))"
   ]
  },
  {
   "cell_type": "code",
   "execution_count": 7,
   "id": "1f83e7ff",
   "metadata": {
    "scrolled": true
   },
   "outputs": [
    {
     "data": {
      "text/plain": [
       "['<start> now i ve heard there was a secret chord <end>',\n",
       " '<start> that david played , and it pleased the lord <end>',\n",
       " '<start> but you don t really care for music , do you ? <end>',\n",
       " '<start> it goes like this <end>',\n",
       " '<start> the fourth , the fifth <end>',\n",
       " '<start> the minor fall , the major lift <end>',\n",
       " '<start> the baffled king composing hallelujah hallelujah <end>',\n",
       " '<start> hallelujah <end>',\n",
       " '<start> hallelujah <end>',\n",
       " '<start> hallelujah your faith was strong but you needed proof <end>']"
      ]
     },
     "execution_count": 7,
     "metadata": {},
     "output_type": "execute_result"
    }
   ],
   "source": [
    "# 여기에 정제된 문장을 모을겁니다\n",
    "corpus = []\n",
    "\n",
    "# raw_corpus list에 저장된 문장들을 순서대로 반환하여 sentence에 저장\n",
    "for sentence in raw_corpus:\n",
    "    # 우리가 원하지 않는 문장은 건너뜁니다\n",
    "    if len(sentence) == 0: continue\n",
    "    if sentence[-1] == \":\": continue\n",
    "    \n",
    "    # 앞서 구현한 preprocess_sentence() 함수를 이용하여 문장을 정제를 하고 담아주세요\n",
    "    preprocessed_sentence = preprocess_sentence(sentence)\n",
    "    \n",
    "    if len(preprocessed_sentence.split(' ')) <= 15:\n",
    "        corpus.append(preprocessed_sentence)\n",
    "        \n",
    "# 정제된 결과를 10개만 확인해보죠\n",
    "corpus[:10]"
   ]
  },
  {
   "cell_type": "code",
   "execution_count": 8,
   "id": "e0080049",
   "metadata": {
    "scrolled": true
   },
   "outputs": [
    {
     "data": {
      "text/plain": [
       "156013"
      ]
     },
     "execution_count": 8,
     "metadata": {},
     "output_type": "execute_result"
    }
   ],
   "source": [
    "corpus.__len__()"
   ]
  },
  {
   "cell_type": "code",
   "execution_count": 9,
   "id": "bfd74cd3",
   "metadata": {},
   "outputs": [],
   "source": [
    "import tensorflow as tf"
   ]
  },
  {
   "cell_type": "code",
   "execution_count": 12,
   "id": "bd3b1b65",
   "metadata": {},
   "outputs": [
    {
     "name": "stdout",
     "output_type": "stream",
     "text": [
      "[[   2   50    4 ...    0    0    0]\n",
      " [   2   15 2967 ...    0    0    0]\n",
      " [   2   33    7 ...   46    3    0]\n",
      " ...\n",
      " [   2    4  118 ...    0    0    0]\n",
      " [   2  258  194 ...   12    3    0]\n",
      " [   2    7   34 ...    0    0    0]] <keras_preprocessing.text.Tokenizer object at 0x7f9324420460>\n"
     ]
    }
   ],
   "source": [
    "def tokenize(corpus):\n",
    "    tokenizer = tf.keras.preprocessing.text.Tokenizer(\n",
    "        num_words=12000,\n",
    "        filters=' ',\n",
    "        oov_token=\"<unk>\"\n",
    "    )\n",
    "    tokenizer.fit_on_texts(corpus)\n",
    "    tensor = tokenizer.texts_to_sequences(corpus)\n",
    "    tensor = tf.keras.preprocessing.sequence.pad_sequences(tensor, padding='post')  \n",
    "    \n",
    "    print(tensor,tokenizer)\n",
    "    return tensor, tokenizer\n",
    "\n",
    "tensor, tokenizer = tokenize(corpus)"
   ]
  },
  {
   "cell_type": "code",
   "execution_count": 13,
   "id": "77fdba06",
   "metadata": {
    "scrolled": true
   },
   "outputs": [
    {
     "name": "stdout",
     "output_type": "stream",
     "text": [
      "1 : <unk>\n",
      "2 : <start>\n",
      "3 : <end>\n",
      "4 : i\n",
      "5 : ,\n",
      "6 : the\n",
      "7 : you\n",
      "8 : and\n",
      "9 : a\n",
      "10 : to\n"
     ]
    }
   ],
   "source": [
    "# tokenizer.index_word: 현재 계산된 단어의 인덱스와 인덱스에 해당하는 단어를 dictionary 형대로 반환 (Ex. {index: '~~', index: '~~', ...})\n",
    "for idx in tokenizer.index_word:\n",
    "    print(idx, \":\", tokenizer.index_word[idx])\n",
    "\n",
    "    if idx >= 10: break"
   ]
  },
  {
   "cell_type": "markdown",
   "id": "fdd9edf5",
   "metadata": {},
   "source": [
    "### Step 4. 평가 데이터셋 분리"
   ]
  },
  {
   "cell_type": "code",
   "execution_count": 15,
   "id": "11826fec",
   "metadata": {},
   "outputs": [],
   "source": [
    "from sklearn.model_selection import train_test_split"
   ]
  },
  {
   "cell_type": "code",
   "execution_count": 14,
   "id": "164b6351",
   "metadata": {},
   "outputs": [
    {
     "name": "stdout",
     "output_type": "stream",
     "text": [
      "[   2   50    4   95  303   62   53    9  946 6263    3    0    0    0]\n",
      "[  50    4   95  303   62   53    9  946 6263    3    0    0    0    0]\n"
     ]
    }
   ],
   "source": [
    "src_input = tensor[:, :-1]  \n",
    "tgt_input = tensor[:, 1:]    \n",
    "\n",
    "print(src_input[0])\n",
    "print(tgt_input[0])"
   ]
  },
  {
   "cell_type": "code",
   "execution_count": 16,
   "id": "e3505708",
   "metadata": {},
   "outputs": [],
   "source": [
    "enc_train, enc_val, dec_train, dec_val = train_test_split(src_input, tgt_input, test_size= 0.2)"
   ]
  },
  {
   "cell_type": "code",
   "execution_count": 20,
   "id": "6a3baf6f",
   "metadata": {},
   "outputs": [
    {
     "data": {
      "text/plain": [
       "<BatchDataset shapes: ((256, 14), (256, 14)), types: (tf.int32, tf.int32)>"
      ]
     },
     "execution_count": 20,
     "metadata": {},
     "output_type": "execute_result"
    }
   ],
   "source": [
    "BUFFER_SIZE = len(src_input)\n",
    "BATCH_SIZE = 256\n",
    "steps_per_epoch = len(src_input) // BATCH_SIZE\n",
    "\n",
    "VOCAB_SIZE = tokenizer.num_words + 1   \n",
    "\n",
    "dataset = tf.data.Dataset.from_tensor_slices((src_input, tgt_input))\n",
    "dataset = dataset.shuffle(BUFFER_SIZE)\n",
    "dataset = dataset.batch(BATCH_SIZE, drop_remainder=True)\n",
    "dataset"
   ]
  },
  {
   "cell_type": "markdown",
   "id": "b658fdac",
   "metadata": {},
   "source": [
    "### Step 5. 모델 학습"
   ]
  },
  {
   "cell_type": "code",
   "execution_count": 21,
   "id": "130bd279",
   "metadata": {},
   "outputs": [],
   "source": [
    "class TextGenerator(tf.keras.Model):\n",
    "    def __init__(self, vocab_size, embedding_size, hidden_size):\n",
    "        super().__init__()\n",
    "        self.embedding = tf.keras.layers.Embedding(vocab_size, embedding_size) \n",
    "        self.rnn_1 = tf.keras.layers.LSTM(hidden_size, return_sequences=True)  \n",
    "        self.rnn_2 = tf.keras.layers.LSTM(hidden_size, return_sequences=True)\n",
    "        self.linear = tf.keras.layers.Dense(vocab_size)\n",
    "        \n",
    "    def call(self, x):\n",
    "        out = self.embedding(x)\n",
    "        out = self.rnn_1(out)\n",
    "        out = self.rnn_2(out)\n",
    "        out = self.linear(out)\n",
    "        \n",
    "        return out\n",
    "    \n",
    "embedding_size = 256\n",
    "hidden_size = 1024\n",
    "model = TextGenerator(tokenizer.num_words + 1, embedding_size , hidden_size) # tokenizer.num_words에 +1인 이유는 문장에 없는 pad가 사용되었기 때문이다."
   ]
  },
  {
   "cell_type": "code",
   "execution_count": 22,
   "id": "02803c17",
   "metadata": {
    "collapsed": true
   },
   "outputs": [
    {
     "data": {
      "text/plain": [
       "<tf.Tensor: shape=(256, 14, 12001), dtype=float32, numpy=\n",
       "array([[[ 2.76809616e-04, -1.64152094e-04,  2.67026859e-04, ...,\n",
       "         -5.51319281e-05, -6.67849745e-05, -1.18391408e-05],\n",
       "        [ 5.49796736e-04, -3.30991577e-04,  5.42493479e-04, ...,\n",
       "         -1.67273829e-04, -1.12152120e-04,  1.48283987e-04],\n",
       "        [ 6.75649673e-04, -5.50219498e-04,  6.53348921e-04, ...,\n",
       "         -2.75901315e-04, -3.38702637e-04, -1.81055701e-04],\n",
       "        ...,\n",
       "        [ 1.20358495e-03, -3.26063426e-04,  1.11383828e-03, ...,\n",
       "         -7.51923071e-05, -8.10368045e-04, -8.78806168e-04],\n",
       "        [ 1.53952010e-03, -4.57625254e-04,  1.09998696e-03, ...,\n",
       "         -3.67376022e-04, -1.08685333e-03, -1.07017322e-03],\n",
       "        [ 1.83737359e-03, -5.74726786e-04,  1.08697009e-03, ...,\n",
       "         -6.88949600e-04, -1.32381474e-03, -1.25818013e-03]],\n",
       "\n",
       "       [[ 2.76809616e-04, -1.64152094e-04,  2.67026859e-04, ...,\n",
       "         -5.51319281e-05, -6.67849745e-05, -1.18391408e-05],\n",
       "        [ 3.33809468e-04, -4.63741628e-04,  5.07265155e-04, ...,\n",
       "         -3.27412446e-04,  2.24484029e-04, -1.83127748e-04],\n",
       "        [ 1.85376834e-04, -6.47258770e-04,  6.67487213e-04, ...,\n",
       "         -3.37331032e-04,  2.12631465e-04, -3.14785313e-04],\n",
       "        ...,\n",
       "        [ 1.01155939e-03,  2.82617490e-04, -6.03350782e-05, ...,\n",
       "          3.38495505e-04, -1.43049867e-03, -3.39811260e-04],\n",
       "        [ 1.51073176e-03,  1.04034800e-04, -7.65345321e-05, ...,\n",
       "         -2.52380014e-05, -1.65562308e-03, -6.57153898e-04],\n",
       "        [ 1.93455641e-03, -7.88843754e-05, -5.41795598e-05, ...,\n",
       "         -4.19608084e-04, -1.83781399e-03, -9.67715227e-04]],\n",
       "\n",
       "       [[ 2.76809616e-04, -1.64152094e-04,  2.67026859e-04, ...,\n",
       "         -5.51319281e-05, -6.67849745e-05, -1.18391408e-05],\n",
       "        [ 5.97660546e-04, -4.46017366e-04,  3.78852012e-04, ...,\n",
       "         -1.09112862e-05, -1.79280942e-05, -1.46219230e-04],\n",
       "        [ 6.51906128e-04, -7.30065687e-04,  4.36548842e-04, ...,\n",
       "          7.04540653e-05, -4.50908519e-05, -3.37371690e-04],\n",
       "        ...,\n",
       "        [ 9.19292506e-04, -2.02023846e-04,  2.05322140e-05, ...,\n",
       "          1.75997266e-04, -4.97449539e-04,  3.31190444e-04],\n",
       "        [ 1.25726173e-03, -2.71030760e-04, -1.55146234e-04, ...,\n",
       "          1.33773166e-04, -7.93698768e-04, -7.53616914e-05],\n",
       "        [ 1.61299435e-03, -3.87945707e-04, -2.61054316e-04, ...,\n",
       "         -4.06292493e-05, -1.09669566e-03, -5.00698690e-04]],\n",
       "\n",
       "       ...,\n",
       "\n",
       "       [[ 2.76809616e-04, -1.64152094e-04,  2.67026859e-04, ...,\n",
       "         -5.51319281e-05, -6.67849745e-05, -1.18391408e-05],\n",
       "        [ 1.50027510e-04, -3.25202040e-04,  7.54673383e-04, ...,\n",
       "         -7.16230861e-05, -5.64464019e-04, -1.15572766e-04],\n",
       "        [ 2.65736569e-04, -4.87131270e-04,  1.07751682e-03, ...,\n",
       "         -6.98888616e-05, -8.35523591e-04, -9.35326170e-06],\n",
       "        ...,\n",
       "        [-5.75874175e-04, -4.90237086e-04,  2.93131173e-03, ...,\n",
       "         -2.34073159e-04, -1.62476354e-04,  2.19647365e-04],\n",
       "        [-6.33632415e-04, -4.21500037e-04,  2.69316137e-03, ...,\n",
       "          9.50970789e-05,  7.53884524e-05,  1.07545784e-04],\n",
       "        [-3.46151792e-04, -4.89615661e-04,  2.41092569e-03, ...,\n",
       "          1.79949289e-04, -2.79019787e-06, -2.16111424e-04]],\n",
       "\n",
       "       [[ 2.76809616e-04, -1.64152094e-04,  2.67026859e-04, ...,\n",
       "         -5.51319281e-05, -6.67849745e-05, -1.18391408e-05],\n",
       "        [ 5.56238636e-04, -3.51050578e-04,  5.00004855e-04, ...,\n",
       "         -7.46771766e-05, -1.55459245e-04,  1.86494668e-04],\n",
       "        [ 7.41879398e-04, -3.58117657e-04,  5.89214324e-04, ...,\n",
       "         -2.18076821e-04, -4.54404886e-04,  2.49212724e-04],\n",
       "        ...,\n",
       "        [-2.59372027e-04,  7.02357909e-04,  3.97470605e-04, ...,\n",
       "         -7.16638824e-05, -1.48860016e-03,  7.63253716e-04],\n",
       "        [ 1.76447411e-05,  6.30282681e-04,  3.58797493e-04, ...,\n",
       "         -3.02216395e-05, -1.69517845e-03,  5.04055643e-04],\n",
       "        [ 4.14745242e-04,  4.88271064e-04,  3.29657370e-04, ...,\n",
       "         -1.73503970e-04, -1.91058754e-03,  1.59778894e-04]],\n",
       "\n",
       "       [[ 2.76809616e-04, -1.64152094e-04,  2.67026859e-04, ...,\n",
       "         -5.51319281e-05, -6.67849745e-05, -1.18391408e-05],\n",
       "        [ 4.38400690e-04,  1.17264369e-06,  4.41327051e-04, ...,\n",
       "         -1.86149264e-04, -4.32236207e-04, -6.52399176e-05],\n",
       "        [ 5.85941481e-04,  8.13147635e-05,  4.25060753e-05, ...,\n",
       "         -2.71710916e-04, -7.68559868e-04, -3.01676249e-04],\n",
       "        ...,\n",
       "        [ 7.83004274e-04,  1.10027126e-04,  3.81561636e-04, ...,\n",
       "          2.09372767e-04, -2.23116469e-04, -5.07906254e-04],\n",
       "        [ 8.99834849e-04,  2.04040680e-05,  2.90155673e-04, ...,\n",
       "          1.87390106e-04, -2.71463301e-04, -2.40746755e-04],\n",
       "        [ 8.83873203e-04,  3.89085726e-05,  1.55049274e-04, ...,\n",
       "          4.22795012e-04, -3.33515520e-04, -6.50413931e-05]]],\n",
       "      dtype=float32)>"
      ]
     },
     "execution_count": 22,
     "metadata": {},
     "output_type": "execute_result"
    }
   ],
   "source": [
    "for src_sample, tgt_sample in dataset.take(1): break\n",
    "\n",
    "model(src_sample)"
   ]
  },
  {
   "cell_type": "code",
   "execution_count": 23,
   "id": "8b9b8448",
   "metadata": {},
   "outputs": [
    {
     "name": "stdout",
     "output_type": "stream",
     "text": [
      "Model: \"text_generator_1\"\n",
      "_________________________________________________________________\n",
      "Layer (type)                 Output Shape              Param #   \n",
      "=================================================================\n",
      "embedding_1 (Embedding)      multiple                  3072256   \n",
      "_________________________________________________________________\n",
      "lstm_2 (LSTM)                multiple                  5246976   \n",
      "_________________________________________________________________\n",
      "lstm_3 (LSTM)                multiple                  8392704   \n",
      "_________________________________________________________________\n",
      "dense_1 (Dense)              multiple                  12301025  \n",
      "=================================================================\n",
      "Total params: 29,012,961\n",
      "Trainable params: 29,012,961\n",
      "Non-trainable params: 0\n",
      "_________________________________________________________________\n"
     ]
    }
   ],
   "source": [
    "model.summary()"
   ]
  },
  {
   "cell_type": "code",
   "execution_count": 24,
   "id": "c1bc5e9c",
   "metadata": {},
   "outputs": [
    {
     "name": "stdout",
     "output_type": "stream",
     "text": [
      "Epoch 1/30\n",
      "609/609 [==============================] - 112s 180ms/step - loss: 3.4006\n",
      "Epoch 2/30\n",
      "609/609 [==============================] - 111s 182ms/step - loss: 2.9590\n",
      "Epoch 3/30\n",
      "609/609 [==============================] - 111s 182ms/step - loss: 2.7853\n",
      "Epoch 4/30\n",
      "609/609 [==============================] - 111s 182ms/step - loss: 2.6540\n",
      "Epoch 5/30\n",
      "609/609 [==============================] - 111s 182ms/step - loss: 2.5414\n",
      "Epoch 6/30\n",
      "609/609 [==============================] - 111s 182ms/step - loss: 2.4403\n",
      "Epoch 7/30\n",
      "609/609 [==============================] - 111s 182ms/step - loss: 2.3467\n",
      "Epoch 8/30\n",
      "609/609 [==============================] - 111s 182ms/step - loss: 2.2599\n",
      "Epoch 9/30\n",
      "609/609 [==============================] - 111s 182ms/step - loss: 2.1785\n",
      "Epoch 10/30\n",
      "609/609 [==============================] - 111s 182ms/step - loss: 2.1014\n",
      "Epoch 11/30\n",
      "609/609 [==============================] - 111s 182ms/step - loss: 2.0291\n",
      "Epoch 12/30\n",
      "609/609 [==============================] - 111s 182ms/step - loss: 1.9606\n",
      "Epoch 13/30\n",
      "609/609 [==============================] - 111s 182ms/step - loss: 1.8946\n",
      "Epoch 14/30\n",
      "609/609 [==============================] - 111s 182ms/step - loss: 1.8328\n",
      "Epoch 15/30\n",
      "609/609 [==============================] - 111s 182ms/step - loss: 1.7728\n",
      "Epoch 16/30\n",
      "609/609 [==============================] - 111s 182ms/step - loss: 1.7154\n",
      "Epoch 17/30\n",
      "609/609 [==============================] - 111s 182ms/step - loss: 1.6610\n",
      "Epoch 18/30\n",
      "609/609 [==============================] - 111s 182ms/step - loss: 1.6089\n",
      "Epoch 19/30\n",
      "609/609 [==============================] - 111s 182ms/step - loss: 1.5595\n",
      "Epoch 20/30\n",
      "609/609 [==============================] - 111s 182ms/step - loss: 1.5117\n",
      "Epoch 21/30\n",
      "609/609 [==============================] - 111s 182ms/step - loss: 1.4667\n",
      "Epoch 22/30\n",
      "609/609 [==============================] - 111s 182ms/step - loss: 1.4236\n",
      "Epoch 23/30\n",
      "609/609 [==============================] - 111s 182ms/step - loss: 1.3830\n",
      "Epoch 24/30\n",
      "609/609 [==============================] - 111s 182ms/step - loss: 1.3446\n",
      "Epoch 25/30\n",
      "609/609 [==============================] - 111s 182ms/step - loss: 1.3079\n",
      "Epoch 26/30\n",
      "609/609 [==============================] - 111s 182ms/step - loss: 1.2742\n",
      "Epoch 27/30\n",
      "609/609 [==============================] - 111s 182ms/step - loss: 1.2421\n",
      "Epoch 28/30\n",
      "609/609 [==============================] - 111s 182ms/step - loss: 1.2125\n",
      "Epoch 29/30\n",
      "609/609 [==============================] - 111s 182ms/step - loss: 1.1842\n",
      "Epoch 30/30\n",
      "609/609 [==============================] - 111s 182ms/step - loss: 1.1581\n"
     ]
    },
    {
     "data": {
      "text/plain": [
       "<keras.callbacks.History at 0x7f92842ab0d0>"
      ]
     },
     "execution_count": 24,
     "metadata": {},
     "output_type": "execute_result"
    }
   ],
   "source": [
    "optimizer = tf.keras.optimizers.Adam() \n",
    "loss = tf.keras.losses.SparseCategoricalCrossentropy( \n",
    "    from_logits=True, reduction='none')\n",
    "model.compile(loss=loss, optimizer=optimizer)\n",
    "model.fit(dataset, epochs=30)"
   ]
  },
  {
   "cell_type": "markdown",
   "id": "79190b0f",
   "metadata": {},
   "source": [
    "### Step 6. 모델 평가"
   ]
  },
  {
   "cell_type": "code",
   "execution_count": 26,
   "id": "71c5cf60",
   "metadata": {},
   "outputs": [],
   "source": [
    "def generate_text(model, tokenizer, init_sentence=\"<start>\", max_len=20): \n",
    "    test_input = tokenizer.texts_to_sequences([init_sentence])\n",
    "    test_tensor = tf.convert_to_tensor(test_input, dtype=tf.int64)\n",
    "    end_token = tokenizer.word_index[\"<end>\"]\n",
    "\n",
    "    while True:\n",
    "        predict = model(test_tensor) \n",
    "        predict_word = tf.argmax(tf.nn.softmax(predict, axis=-1), axis=-1)[:, -1] \n",
    "        test_tensor = tf.concat([test_tensor, tf.expand_dims(predict_word, axis=0)], axis=-1)\n",
    "        if predict_word.numpy()[0] == end_token: break\n",
    "        if test_tensor.shape[1] >= max_len: break\n",
    "\n",
    "    generated = \"\"\n",
    "    for word_index in test_tensor[0].numpy():\n",
    "        generated += tokenizer.index_word[word_index] + \" \"\n",
    "\n",
    "    return generated"
   ]
  },
  {
   "cell_type": "code",
   "execution_count": 28,
   "id": "72b462ae",
   "metadata": {
    "scrolled": true
   },
   "outputs": [
    {
     "data": {
      "text/plain": [
       "'<start> i love you mom , you always be my favorite girl . <end> '"
      ]
     },
     "execution_count": 28,
     "metadata": {},
     "output_type": "execute_result"
    }
   ],
   "source": [
    "generate_text(model, tokenizer, init_sentence=\"<start> i love\", max_len=20)"
   ]
  },
  {
   "cell_type": "code",
   "execution_count": 29,
   "id": "6f0c4a37",
   "metadata": {
    "scrolled": true
   },
   "outputs": [
    {
     "data": {
      "text/plain": [
       "'<start> i will survive , i will survive <end> '"
      ]
     },
     "execution_count": 29,
     "metadata": {},
     "output_type": "execute_result"
    }
   ],
   "source": [
    "generate_text(model, tokenizer, init_sentence=\"<start> i will\", max_len=20)"
   ]
  },
  {
   "cell_type": "code",
   "execution_count": 30,
   "id": "8bc84cbc",
   "metadata": {},
   "outputs": [
    {
     "data": {
      "text/plain": [
       "'<start> you are the only thing that keeps me goin <end> '"
      ]
     },
     "execution_count": 30,
     "metadata": {},
     "output_type": "execute_result"
    }
   ],
   "source": [
    "generate_text(model, tokenizer, init_sentence=\"<start> You are\", max_len=20)"
   ]
  },
  {
   "cell_type": "code",
   "execution_count": 31,
   "id": "7fd6a78a",
   "metadata": {},
   "outputs": [
    {
     "data": {
      "text/plain": [
       "'<start> it is not too late <end> '"
      ]
     },
     "execution_count": 31,
     "metadata": {},
     "output_type": "execute_result"
    }
   ],
   "source": [
    "generate_text(model, tokenizer, init_sentence=\"<start> It is\", max_len=20)"
   ]
  },
  {
   "cell_type": "code",
   "execution_count": 34,
   "id": "4ef859e1",
   "metadata": {},
   "outputs": [
    {
     "data": {
      "text/plain": [
       "'<start> you can t be wonderin why they always stayin dead broke <end> '"
      ]
     },
     "execution_count": 34,
     "metadata": {},
     "output_type": "execute_result"
    }
   ],
   "source": [
    "generate_text(model, tokenizer, init_sentence=\"<start> You can\", max_len=20)"
   ]
  },
  {
   "cell_type": "markdown",
   "id": "cdc0129b",
   "metadata": {},
   "source": [
    "### 회고"
   ]
  },
  {
   "cell_type": "markdown",
   "id": "041e3474",
   "metadata": {},
   "source": [
    "#### 1. NLP에 익숙치 않았는데 전반적인 과정을 이해하고, 배울 수 있어서 좋았습니다.\n",
    "#### 2. 데이터 전처리 과정에 여전히 의문점이 남아있고, 이를 조금 더 조사해볼 계획이다. ( 임베딩이 어떻게 일어나는지에 대해 )\n",
    "#### 3. 출력 시 작은 따옴표나 마침표가 잘 찍히지 않는 문제점을 발견하였고, 이를 개선해 볼 계획이다."
   ]
  }
 ],
 "metadata": {
  "kernelspec": {
   "display_name": "Python 3 (ipykernel)",
   "language": "python",
   "name": "python3"
  },
  "language_info": {
   "codemirror_mode": {
    "name": "ipython",
    "version": 3
   },
   "file_extension": ".py",
   "mimetype": "text/x-python",
   "name": "python",
   "nbconvert_exporter": "python",
   "pygments_lexer": "ipython3",
   "version": "3.9.7"
  }
 },
 "nbformat": 4,
 "nbformat_minor": 5
}
