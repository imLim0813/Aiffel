{
 "cells": [
  {
   "cell_type": "markdown",
   "id": "b103ec18",
   "metadata": {},
   "source": [
    "### 1 ) 라이브러리 호출"
   ]
  },
  {
   "cell_type": "code",
   "execution_count": 1,
   "id": "852b677a",
   "metadata": {},
   "outputs": [],
   "source": [
    "import pandas as pd\n",
    "import konlpy\n",
    "import gensim\n",
    "import re"
   ]
  },
  {
   "cell_type": "markdown",
   "id": "c6d12aa9",
   "metadata": {},
   "source": [
    "### 2 ) 데이터 호출 및 확인"
   ]
  },
  {
   "cell_type": "code",
   "execution_count": 2,
   "id": "25b61f07",
   "metadata": {
    "scrolled": false
   },
   "outputs": [
    {
     "data": {
      "text/html": [
       "<div>\n",
       "<style scoped>\n",
       "    .dataframe tbody tr th:only-of-type {\n",
       "        vertical-align: middle;\n",
       "    }\n",
       "\n",
       "    .dataframe tbody tr th {\n",
       "        vertical-align: top;\n",
       "    }\n",
       "\n",
       "    .dataframe thead th {\n",
       "        text-align: right;\n",
       "    }\n",
       "</style>\n",
       "<table border=\"1\" class=\"dataframe\">\n",
       "  <thead>\n",
       "    <tr style=\"text-align: right;\">\n",
       "      <th></th>\n",
       "      <th>id</th>\n",
       "      <th>document</th>\n",
       "      <th>label</th>\n",
       "    </tr>\n",
       "  </thead>\n",
       "  <tbody>\n",
       "    <tr>\n",
       "      <th>0</th>\n",
       "      <td>9976970</td>\n",
       "      <td>아 더빙.. 진짜 짜증나네요 목소리</td>\n",
       "      <td>0</td>\n",
       "    </tr>\n",
       "    <tr>\n",
       "      <th>1</th>\n",
       "      <td>3819312</td>\n",
       "      <td>흠...포스터보고 초딩영화줄....오버연기조차 가볍지 않구나</td>\n",
       "      <td>1</td>\n",
       "    </tr>\n",
       "    <tr>\n",
       "      <th>2</th>\n",
       "      <td>10265843</td>\n",
       "      <td>너무재밓었다그래서보는것을추천한다</td>\n",
       "      <td>0</td>\n",
       "    </tr>\n",
       "    <tr>\n",
       "      <th>3</th>\n",
       "      <td>9045019</td>\n",
       "      <td>교도소 이야기구먼 ..솔직히 재미는 없다..평점 조정</td>\n",
       "      <td>0</td>\n",
       "    </tr>\n",
       "    <tr>\n",
       "      <th>4</th>\n",
       "      <td>6483659</td>\n",
       "      <td>사이몬페그의 익살스런 연기가 돋보였던 영화!스파이더맨에서 늙어보이기만 했던 커스틴 ...</td>\n",
       "      <td>1</td>\n",
       "    </tr>\n",
       "  </tbody>\n",
       "</table>\n",
       "</div>"
      ],
      "text/plain": [
       "         id                                           document  label\n",
       "0   9976970                                아 더빙.. 진짜 짜증나네요 목소리      0\n",
       "1   3819312                  흠...포스터보고 초딩영화줄....오버연기조차 가볍지 않구나      1\n",
       "2  10265843                                  너무재밓었다그래서보는것을추천한다      0\n",
       "3   9045019                      교도소 이야기구먼 ..솔직히 재미는 없다..평점 조정      0\n",
       "4   6483659  사이몬페그의 익살스런 연기가 돋보였던 영화!스파이더맨에서 늙어보이기만 했던 커스틴 ...      1"
      ]
     },
     "execution_count": 2,
     "metadata": {},
     "output_type": "execute_result"
    }
   ],
   "source": [
    "train_data = pd.read_table('~/aiffel/sentiment_classification/data/ratings_train.txt')\n",
    "test_data = pd.read_table('~/aiffel/sentiment_classification/data/ratings_test.txt')\n",
    "\n",
    "train_data.head()"
   ]
  },
  {
   "cell_type": "code",
   "execution_count": 3,
   "id": "6197b39c",
   "metadata": {},
   "outputs": [
    {
     "data": {
      "text/plain": [
       "((150000, 3), (50000, 3))"
      ]
     },
     "execution_count": 3,
     "metadata": {},
     "output_type": "execute_result"
    }
   ],
   "source": [
    "train_data.shape, test_data.shape"
   ]
  },
  {
   "cell_type": "markdown",
   "id": "769a1b10",
   "metadata": {},
   "source": [
    "### 데이터로더 구성"
   ]
  },
  {
   "cell_type": "code",
   "execution_count": 4,
   "id": "d89e6604",
   "metadata": {},
   "outputs": [],
   "source": [
    "def get_encoded_sentence(sentence, word_to_index):\n",
    "    return [word_to_index['<BOS>']]+[word_to_index[word] if word in word_to_index else word_to_index['<UNK>'] for word in sentence.split()]\n",
    "\n",
    "def get_encoded_sentences(sentences, word_to_index):\n",
    "    return [get_encoded_sentence(sentence, word_to_index) for sentence in sentences]\n",
    "\n",
    "def get_decoded_sentence(encoded_sentence, index_to_word):\n",
    "    return ' '.join(index_to_word[index] if index in index_to_word else '<UNK>' for index in encoded_sentence[1:])  #[1:]를 통해 <BOS>를 제외\n",
    "\n",
    "def get_decoded_sentences(encoded_sentences, index_to_word):\n",
    "    return [get_decoded_sentence(encoded_sentence, index_to_word) for encoded_sentence in encoded_sentences]"
   ]
  },
  {
   "cell_type": "markdown",
   "id": "e386eec1",
   "metadata": {},
   "source": [
    "#### NaN 결측치 제거 및 중복 값 제거"
   ]
  },
  {
   "cell_type": "code",
   "execution_count": 5,
   "id": "d86ac00a",
   "metadata": {},
   "outputs": [],
   "source": [
    "def preprocess_(dataset):\n",
    "    dataset.drop(dataset[dataset['document'].duplicated()].index.values, inplace=True)\n",
    "    dataset.drop(dataset[dataset['document'].isnull()].index.values, inplace=True)"
   ]
  },
  {
   "cell_type": "code",
   "execution_count": 6,
   "id": "8322926f",
   "metadata": {},
   "outputs": [],
   "source": [
    "preprocess_(train_data)"
   ]
  },
  {
   "cell_type": "code",
   "execution_count": 7,
   "id": "c7697b0c",
   "metadata": {},
   "outputs": [],
   "source": [
    "preprocess_(test_data)"
   ]
  },
  {
   "cell_type": "code",
   "execution_count": 8,
   "id": "1af12a24",
   "metadata": {},
   "outputs": [
    {
     "data": {
      "text/plain": [
       "((146182, 3), (49157, 3))"
      ]
     },
     "execution_count": 8,
     "metadata": {},
     "output_type": "execute_result"
    }
   ],
   "source": [
    "train_data.shape, test_data.shape"
   ]
  },
  {
   "cell_type": "markdown",
   "id": "54d81464",
   "metadata": {},
   "source": [
    "#### 특수기호 및 공백 제거"
   ]
  },
  {
   "cell_type": "code",
   "execution_count": 9,
   "id": "c78f5b8e",
   "metadata": {},
   "outputs": [],
   "source": [
    "train_data['document'] = train_data['document'].str.replace(pat=r'[^ㄱ-ㅎ|가-힣|a-z|A-Z|0-9]', repl=r' ', regex=True)\n",
    "train_data['document'] = train_data['document'].str.replace(pat=r' +', repl=r' ', regex=True)"
   ]
  },
  {
   "cell_type": "code",
   "execution_count": 10,
   "id": "edcfc71b",
   "metadata": {},
   "outputs": [
    {
     "data": {
      "text/plain": [
       "0                                         아 더빙 진짜 짜증나네요 목소리\n",
       "1                              흠 포스터보고 초딩영화줄 오버연기조차 가볍지 않구나\n",
       "2                                         너무재밓었다그래서보는것을추천한다\n",
       "3                                교도소 이야기구먼 솔직히 재미는 없다 평점 조정\n",
       "4         사이몬페그의 익살스런 연기가 돋보였던 영화 스파이더맨에서 늙어보이기만 했던 커스틴 ...\n",
       "                                ...                        \n",
       "149995                                     인간이 문제지 소는 뭔죄인가 \n",
       "149996                                          평점이 너무 낮아서 \n",
       "149997                       이게 뭐요 한국인은 거들먹거리고 필리핀 혼혈은 착하다 \n",
       "149998                          청춘 영화의 최고봉 방황과 우울했던 날들의 자화상\n",
       "149999                             한국 영화 최초로 수간하는 내용이 담긴 영화\n",
       "Name: document, Length: 146182, dtype: object"
      ]
     },
     "execution_count": 10,
     "metadata": {},
     "output_type": "execute_result"
    }
   ],
   "source": [
    "train_data['document']"
   ]
  },
  {
   "cell_type": "code",
   "execution_count": 11,
   "id": "6acae5d8",
   "metadata": {
    "scrolled": true
   },
   "outputs": [
    {
     "data": {
      "text/plain": [
       "'아 더빙 진짜 짜증나네요 목소리'"
      ]
     },
     "execution_count": 11,
     "metadata": {},
     "output_type": "execute_result"
    }
   ],
   "source": [
    "train_data['document'][0]"
   ]
  },
  {
   "cell_type": "code",
   "execution_count": 12,
   "id": "34504933",
   "metadata": {},
   "outputs": [],
   "source": [
    "test_data['document'] = test_data['document'].str.replace(pat=r'[^ㄱ-ㅎ|가-힣|a-z|A-Z|0-9]', repl=r' ', regex=True)\n",
    "test_data['document'] = test_data['document'].str.replace(pat=r' +', repl=r' ', regex=True)"
   ]
  },
  {
   "cell_type": "code",
   "execution_count": 13,
   "id": "eb54bc3c",
   "metadata": {},
   "outputs": [
    {
     "data": {
      "text/plain": [
       "'굳 ㅋ'"
      ]
     },
     "execution_count": 13,
     "metadata": {},
     "output_type": "execute_result"
    }
   ],
   "source": [
    "test_data['document'][0]"
   ]
  },
  {
   "cell_type": "markdown",
   "id": "498af90d",
   "metadata": {},
   "source": [
    "#### 사전 구성"
   ]
  },
  {
   "cell_type": "code",
   "execution_count": 14,
   "id": "a6c198c9",
   "metadata": {},
   "outputs": [],
   "source": [
    "from konlpy.tag import Mecab\n",
    "import numpy as np\n",
    "from collections import Counter\n",
    "\n",
    "tokenizer = Mecab()\n",
    "stopwords = ['의','가','이','은','들','는','좀','잘','걍','과','도','를','으로','자','에','와','한','하다']\n",
    "\n",
    "def load_data(train_data, test_data, num_words=10000):\n",
    "    \n",
    "    X_train = []\n",
    "    for sentence in train_data['document']:\n",
    "        temp_X = tokenizer.morphs(sentence)\n",
    "        temp_X = [word for word in temp_X if not word in stopwords]\n",
    "        X_train.append(temp_X)\n",
    "\n",
    "    X_test = []\n",
    "    for sentence in test_data['document']:\n",
    "        temp_X = tokenizer.morphs(sentence)\n",
    "        temp_X = [word for word in temp_X if not word in stopwords]\n",
    "        X_test.append(temp_X)\n",
    "    \n",
    "    words = np.concatenate(X_train).tolist()\n",
    "    counter = Counter(words)\n",
    "    counter = counter.most_common(10000-4)\n",
    "    vocab = ['', '', '', ''] + [key for key, _ in counter]\n",
    "    word_to_index = {word:index for index, word in enumerate(vocab)}\n",
    "        \n",
    "    def wordlist_to_indexlist(wordlist):\n",
    "        return [word_to_index[word] if word in word_to_index else word_to_index[''] for word in wordlist]\n",
    "        \n",
    "    X_train = list(map(wordlist_to_indexlist, X_train))\n",
    "    X_test = list(map(wordlist_to_indexlist, X_test))\n",
    "    \n",
    "    return X_train, np.array(list(train_data['label'])), X_test, np.array(list(test_data['label'])), word_to_index\n",
    "    \n",
    "X_train, y_train, X_test, y_test, word_to_index = load_data(train_data, test_data)"
   ]
  },
  {
   "cell_type": "code",
   "execution_count": 15,
   "id": "39199baa",
   "metadata": {},
   "outputs": [],
   "source": [
    "for idx, x in enumerate(X_train):\n",
    "    X_train[idx] = [1] + X_train[idx]\n",
    "\n",
    "for idx, x in enumerate(X_test):\n",
    "    X_test[idx] = [1] + X_test[idx]"
   ]
  },
  {
   "cell_type": "code",
   "execution_count": 16,
   "id": "a64ed8bf",
   "metadata": {},
   "outputs": [],
   "source": [
    "word_to_index[\"<PAD>\"] = 0\n",
    "word_to_index[\"<BOS>\"] = 1\n",
    "word_to_index[\"<UNK>\"] = 2\n",
    "word_to_index[\"<UNUSED>\"] = 3"
   ]
  },
  {
   "cell_type": "code",
   "execution_count": 17,
   "id": "7d1312f5",
   "metadata": {},
   "outputs": [],
   "source": [
    "index_to_word = {index:word for word, index in word_to_index.items()}"
   ]
  },
  {
   "cell_type": "code",
   "execution_count": 18,
   "id": "1d54acba",
   "metadata": {},
   "outputs": [
    {
     "data": {
      "text/plain": [
       "'<BOS>'"
      ]
     },
     "execution_count": 18,
     "metadata": {},
     "output_type": "execute_result"
    }
   ],
   "source": [
    "index_to_word[1]"
   ]
  },
  {
   "cell_type": "code",
   "execution_count": 19,
   "id": "ebb3a091",
   "metadata": {},
   "outputs": [
    {
     "name": "stdout",
     "output_type": "stream",
     "text": [
      "아 더 빙 진짜 짜증 나 네요 목소리\n",
      "라벨:  0\n"
     ]
    }
   ],
   "source": [
    "print(get_decoded_sentence(X_train[0], index_to_word))\n",
    "print('라벨: ', y_train[0])  # 1번째 리뷰데이터의 라벨"
   ]
  },
  {
   "cell_type": "code",
   "execution_count": 20,
   "id": "075b972a",
   "metadata": {},
   "outputs": [
    {
     "data": {
      "text/plain": [
       "[1, 27, 68, 912, 34, 216, 15, 28, 713]"
      ]
     },
     "execution_count": 20,
     "metadata": {},
     "output_type": "execute_result"
    }
   ],
   "source": [
    "X_train[0]"
   ]
  },
  {
   "cell_type": "code",
   "execution_count": 21,
   "id": "646426af",
   "metadata": {},
   "outputs": [
    {
     "name": "stdout",
     "output_type": "stream",
     "text": [
      "흠 포스터 보고 초딩 영화 줄 오버 연기 조차 가볍 지 않 구나\n",
      "라벨:  1\n"
     ]
    }
   ],
   "source": [
    "print(get_decoded_sentence(X_train[1], index_to_word))\n",
    "print('라벨: ', y_train[1])  # 1번째 리뷰데이터의 라벨"
   ]
  },
  {
   "cell_type": "markdown",
   "id": "549e936e",
   "metadata": {},
   "source": [
    "### 3 ) 모델 구성을 위한 데이터 분석 및 가공"
   ]
  },
  {
   "cell_type": "markdown",
   "id": "39808565",
   "metadata": {},
   "source": [
    "### 데이터셋 내 문장 길이 분포"
   ]
  },
  {
   "cell_type": "code",
   "execution_count": 22,
   "id": "ee704bcb",
   "metadata": {},
   "outputs": [],
   "source": [
    "import matplotlib.pyplot as plt"
   ]
  },
  {
   "cell_type": "code",
   "execution_count": 23,
   "id": "8730f549",
   "metadata": {},
   "outputs": [],
   "source": [
    "len_x = [len(x) for x in X_train]"
   ]
  },
  {
   "cell_type": "code",
   "execution_count": 24,
   "id": "135c9373",
   "metadata": {
    "scrolled": true
   },
   "outputs": [
    {
     "data": {
      "text/plain": [
       "(array([5.6288e+04, 5.1996e+04, 1.9533e+04, 6.5540e+03, 4.3660e+03,\n",
       "        4.0490e+03, 2.7460e+03, 5.8300e+02, 5.8000e+01, 9.0000e+00]),\n",
       " array([ 1. ,  9.4, 17.8, 26.2, 34.6, 43. , 51.4, 59.8, 68.2, 76.6, 85. ]),\n",
       " <BarContainer object of 10 artists>)"
      ]
     },
     "execution_count": 24,
     "metadata": {},
     "output_type": "execute_result"
    },
    {
     "data": {
      "image/png": "[encoded data removed]",
      "text/plain": [
       "<Figure size 432x288 with 1 Axes>"
      ]
     },
     "metadata": {
      "needs_background": "light"
     },
     "output_type": "display_data"
    }
   ],
   "source": [
    "plt.hist(len_x)"
   ]
  },
  {
   "cell_type": "code",
   "execution_count": 25,
   "id": "a0c4f28d",
   "metadata": {},
   "outputs": [
    {
     "data": {
      "text/plain": [
       "(array([56288, 51996, 19533,  6554,  4366,  4049,  2746,   583,    58,\n",
       "            9]),\n",
       " array([ 1. ,  9.4, 17.8, 26.2, 34.6, 43. , 51.4, 59.8, 68.2, 76.6, 85. ]))"
      ]
     },
     "execution_count": 25,
     "metadata": {},
     "output_type": "execute_result"
    }
   ],
   "source": [
    "np.histogram(len_x)"
   ]
  },
  {
   "cell_type": "markdown",
   "id": "875ad585",
   "metadata": {},
   "source": [
    "### 데이터셋 내 문장 길이가 38이하인 경우가 93%. 따라서 최대 길이를 38로 지정한다."
   ]
  },
  {
   "cell_type": "code",
   "execution_count": 26,
   "id": "f9e66ca9",
   "metadata": {
    "scrolled": true
   },
   "outputs": [
    {
     "name": "stdout",
     "output_type": "stream",
     "text": [
      "문장길이 평균 :  14.995003557917261\n",
      "문장길이 최대 :  106\n",
      "문장길이 표준편차 :  11.633012986583513\n",
      "pad_sequences maxlen :  38\n",
      "전체 문장의 0.935363649859987%가 maxlen 설정값 이내에 포함됩니다. \n"
     ]
    }
   ],
   "source": [
    "total_data_text = list(X_train) + list(X_test)\n",
    "num_tokens = [len(tokens) for tokens in total_data_text]\n",
    "num_tokens = np.array(num_tokens)\n",
    "\n",
    "print('문장길이 평균 : ', np.mean(num_tokens))\n",
    "print('문장길이 최대 : ', np.max(num_tokens))\n",
    "print('문장길이 표준편차 : ', np.std(num_tokens))\n",
    "\n",
    "max_tokens = np.mean(num_tokens) + 2 * np.std(num_tokens)\n",
    "maxlen = int(max_tokens)\n",
    "print('pad_sequences maxlen : ', maxlen)\n",
    "print('전체 문장의 {}%가 maxlen 설정값 이내에 포함됩니다. '.format(np.sum(num_tokens < max_tokens) / len(num_tokens)))"
   ]
  },
  {
   "cell_type": "code",
   "execution_count": 27,
   "id": "de5c717d",
   "metadata": {},
   "outputs": [],
   "source": [
    "import tensorflow as tf"
   ]
  },
  {
   "cell_type": "code",
   "execution_count": 28,
   "id": "10a2a778",
   "metadata": {
    "scrolled": true
   },
   "outputs": [
    {
     "name": "stdout",
     "output_type": "stream",
     "text": [
      "(146182, 38)\n"
     ]
    }
   ],
   "source": [
    "vocab_size = len(word_to_index) \n",
    "word_vector_dim = 38\n",
    "\n",
    "x_train = tf.keras.preprocessing.sequence.pad_sequences(X_train,\n",
    "                                                        value=word_to_index[\"<PAD>\"],\n",
    "                                                        padding='pre',\n",
    "                                                        maxlen=maxlen)\n",
    "\n",
    "x_test = tf.keras.preprocessing.sequence.pad_sequences(X_test,\n",
    "                                                       value=word_to_index[\"<PAD>\"],\n",
    "                                                       padding='pre',\n",
    "                                                       maxlen=maxlen)\n",
    "\n",
    "print(x_train.shape)"
   ]
  },
  {
   "cell_type": "markdown",
   "id": "b6494b4b",
   "metadata": {},
   "source": [
    "### 4 ) 모델 구성 및 validation set 구성 5 ) 모델 훈련 개시 6) Loss, Accuracy 그래프 시각화"
   ]
  },
  {
   "cell_type": "markdown",
   "id": "92055792",
   "metadata": {},
   "source": [
    "#### 1 ) 모델 1. 512, 256, 1"
   ]
  },
  {
   "cell_type": "code",
   "execution_count": 29,
   "id": "f310ee5c",
   "metadata": {},
   "outputs": [
    {
     "name": "stdout",
     "output_type": "stream",
     "text": [
      "Model: \"sequential\"\n",
      "_________________________________________________________________\n",
      "Layer (type)                 Output Shape              Param #   \n",
      "=================================================================\n",
      "embedding (Embedding)        (None, None, 38)          380038    \n",
      "_________________________________________________________________\n",
      "lstm (LSTM)                  (None, 38)                11704     \n",
      "_________________________________________________________________\n",
      "dropout (Dropout)            (None, 38)                0         \n",
      "_________________________________________________________________\n",
      "dense (Dense)                (None, 512)               19968     \n",
      "_________________________________________________________________\n",
      "dropout_1 (Dropout)          (None, 512)               0         \n",
      "_________________________________________________________________\n",
      "dense_1 (Dense)              (None, 256)               131328    \n",
      "_________________________________________________________________\n",
      "dense_2 (Dense)              (None, 1)                 257       \n",
      "=================================================================\n",
      "Total params: 543,295\n",
      "Trainable params: 543,295\n",
      "Non-trainable params: 0\n",
      "_________________________________________________________________\n"
     ]
    }
   ],
   "source": [
    "vocab_size = len(word_to_index)\n",
    "word_vector_dim = 38\n",
    "\n",
    "tf.random.set_seed(2022)\n",
    "model = tf.keras.Sequential()\n",
    "model.add(tf.keras.layers.Embedding(vocab_size, word_vector_dim, input_shape=(None,)))\n",
    "model.add(tf.keras.layers.LSTM(38))\n",
    "model.add(tf.keras.layers.Dropout(0.1))\n",
    "model.add(tf.keras.layers.Dense(512, activation='relu'))\n",
    "model.add(tf.keras.layers.Dropout(0.1))\n",
    "model.add(tf.keras.layers.Dense(256, activation='relu'))\n",
    "model.add(tf.keras.layers.Dense(1, activation='sigmoid'))\n",
    "\n",
    "model.summary()"
   ]
  },
  {
   "cell_type": "code",
   "execution_count": 30,
   "id": "77960fc6",
   "metadata": {},
   "outputs": [
    {
     "name": "stdout",
     "output_type": "stream",
     "text": [
      "(136182, 38)\n",
      "(136182,)\n"
     ]
    }
   ],
   "source": [
    "x_val = x_train[:10000]   \n",
    "y_val = y_train[:10000]\n",
    "\n",
    "partial_x_train = x_train[10000:]  \n",
    "partial_y_train = y_train[10000:]\n",
    "\n",
    "print(partial_x_train.shape)\n",
    "print(partial_y_train.shape)"
   ]
  },
  {
   "cell_type": "code",
   "execution_count": 31,
   "id": "e4b93098",
   "metadata": {},
   "outputs": [
    {
     "name": "stdout",
     "output_type": "stream",
     "text": [
      "Epoch 1/50\n",
      "266/266 [==============================] - 5s 8ms/step - loss: 0.6927 - accuracy: 0.5590 - val_loss: 0.6914 - val_accuracy: 0.6065\n",
      "Epoch 2/50\n",
      "266/266 [==============================] - 2s 7ms/step - loss: 0.6867 - accuracy: 0.6481 - val_loss: 0.6774 - val_accuracy: 0.6886\n",
      "Epoch 3/50\n",
      "266/266 [==============================] - 2s 7ms/step - loss: 0.6556 - accuracy: 0.7217 - val_loss: 0.6226 - val_accuracy: 0.7468\n",
      "Epoch 4/50\n",
      "266/266 [==============================] - 2s 6ms/step - loss: 0.5769 - accuracy: 0.7681 - val_loss: 0.5257 - val_accuracy: 0.7843\n",
      "Epoch 5/50\n",
      "266/266 [==============================] - 2s 6ms/step - loss: 0.4872 - accuracy: 0.7924 - val_loss: 0.4546 - val_accuracy: 0.8019\n",
      "Epoch 6/50\n",
      "266/266 [==============================] - 2s 6ms/step - loss: 0.4375 - accuracy: 0.8082 - val_loss: 0.4224 - val_accuracy: 0.8157\n",
      "Epoch 7/50\n",
      "266/266 [==============================] - 2s 6ms/step - loss: 0.4129 - accuracy: 0.8188 - val_loss: 0.4049 - val_accuracy: 0.8219\n",
      "Epoch 8/50\n",
      "266/266 [==============================] - 2s 7ms/step - loss: 0.3968 - accuracy: 0.8272 - val_loss: 0.3930 - val_accuracy: 0.8284\n",
      "Epoch 9/50\n",
      "266/266 [==============================] - 2s 6ms/step - loss: 0.3853 - accuracy: 0.8326 - val_loss: 0.3857 - val_accuracy: 0.8286\n",
      "Epoch 10/50\n",
      "266/266 [==============================] - 2s 6ms/step - loss: 0.3762 - accuracy: 0.8372 - val_loss: 0.3779 - val_accuracy: 0.8336\n",
      "Epoch 11/50\n",
      "266/266 [==============================] - 2s 6ms/step - loss: 0.3690 - accuracy: 0.8406 - val_loss: 0.3729 - val_accuracy: 0.8346\n",
      "Epoch 12/50\n",
      "266/266 [==============================] - 2s 6ms/step - loss: 0.3630 - accuracy: 0.8439 - val_loss: 0.3684 - val_accuracy: 0.8392\n",
      "Epoch 13/50\n",
      "266/266 [==============================] - 2s 7ms/step - loss: 0.3580 - accuracy: 0.8465 - val_loss: 0.3651 - val_accuracy: 0.8401\n",
      "Epoch 14/50\n",
      "266/266 [==============================] - 2s 7ms/step - loss: 0.3538 - accuracy: 0.8484 - val_loss: 0.3625 - val_accuracy: 0.8403\n",
      "Epoch 15/50\n",
      "266/266 [==============================] - 2s 6ms/step - loss: 0.3496 - accuracy: 0.8508 - val_loss: 0.3602 - val_accuracy: 0.8410\n",
      "Epoch 16/50\n",
      "266/266 [==============================] - 2s 6ms/step - loss: 0.3465 - accuracy: 0.8528 - val_loss: 0.3582 - val_accuracy: 0.8417\n",
      "Epoch 17/50\n",
      "266/266 [==============================] - 2s 6ms/step - loss: 0.3433 - accuracy: 0.8539 - val_loss: 0.3564 - val_accuracy: 0.8433\n",
      "Epoch 18/50\n",
      "266/266 [==============================] - 2s 6ms/step - loss: 0.3405 - accuracy: 0.8555 - val_loss: 0.3552 - val_accuracy: 0.8448\n",
      "Epoch 19/50\n",
      "266/266 [==============================] - 2s 7ms/step - loss: 0.3379 - accuracy: 0.8567 - val_loss: 0.3550 - val_accuracy: 0.8453\n",
      "Epoch 20/50\n",
      "266/266 [==============================] - 2s 7ms/step - loss: 0.3358 - accuracy: 0.8579 - val_loss: 0.3539 - val_accuracy: 0.8452\n",
      "Epoch 21/50\n",
      "266/266 [==============================] - 2s 7ms/step - loss: 0.3337 - accuracy: 0.8593 - val_loss: 0.3524 - val_accuracy: 0.8456\n",
      "Epoch 22/50\n",
      "266/266 [==============================] - 2s 7ms/step - loss: 0.3313 - accuracy: 0.8603 - val_loss: 0.3517 - val_accuracy: 0.8474\n",
      "Epoch 23/50\n",
      "266/266 [==============================] - 2s 6ms/step - loss: 0.3296 - accuracy: 0.8608 - val_loss: 0.3516 - val_accuracy: 0.8465\n",
      "Epoch 24/50\n",
      "266/266 [==============================] - 2s 6ms/step - loss: 0.3276 - accuracy: 0.8628 - val_loss: 0.3509 - val_accuracy: 0.8471\n",
      "Epoch 25/50\n",
      "266/266 [==============================] - 2s 6ms/step - loss: 0.3261 - accuracy: 0.8632 - val_loss: 0.3504 - val_accuracy: 0.8469\n",
      "Epoch 26/50\n",
      "266/266 [==============================] - 2s 6ms/step - loss: 0.3245 - accuracy: 0.8638 - val_loss: 0.3501 - val_accuracy: 0.8473\n",
      "Epoch 27/50\n",
      "266/266 [==============================] - 2s 7ms/step - loss: 0.3230 - accuracy: 0.8640 - val_loss: 0.3504 - val_accuracy: 0.8478\n",
      "Epoch 28/50\n",
      "266/266 [==============================] - 2s 7ms/step - loss: 0.3214 - accuracy: 0.8651 - val_loss: 0.3499 - val_accuracy: 0.8483\n",
      "Epoch 29/50\n",
      "266/266 [==============================] - 2s 6ms/step - loss: 0.3203 - accuracy: 0.8660 - val_loss: 0.3500 - val_accuracy: 0.8484\n",
      "Epoch 30/50\n",
      "266/266 [==============================] - 2s 6ms/step - loss: 0.3183 - accuracy: 0.8667 - val_loss: 0.3498 - val_accuracy: 0.8489\n",
      "Epoch 31/50\n",
      "266/266 [==============================] - 2s 6ms/step - loss: 0.3173 - accuracy: 0.8678 - val_loss: 0.3500 - val_accuracy: 0.8490\n",
      "Epoch 32/50\n",
      "266/266 [==============================] - 2s 7ms/step - loss: 0.3164 - accuracy: 0.8671 - val_loss: 0.3506 - val_accuracy: 0.8489\n",
      "Epoch 33/50\n",
      "266/266 [==============================] - 2s 7ms/step - loss: 0.3154 - accuracy: 0.8683 - val_loss: 0.3502 - val_accuracy: 0.8479\n",
      "Epoch 34/50\n",
      "266/266 [==============================] - 2s 7ms/step - loss: 0.3141 - accuracy: 0.8694 - val_loss: 0.3510 - val_accuracy: 0.8495\n",
      "Epoch 35/50\n",
      "266/266 [==============================] - 2s 7ms/step - loss: 0.3132 - accuracy: 0.8691 - val_loss: 0.3504 - val_accuracy: 0.8489\n",
      "Epoch 36/50\n",
      "266/266 [==============================] - 2s 7ms/step - loss: 0.3119 - accuracy: 0.8703 - val_loss: 0.3508 - val_accuracy: 0.8470\n",
      "Epoch 37/50\n",
      "266/266 [==============================] - 2s 6ms/step - loss: 0.3113 - accuracy: 0.8705 - val_loss: 0.3510 - val_accuracy: 0.8493\n",
      "Epoch 38/50\n",
      "266/266 [==============================] - 2s 6ms/step - loss: 0.3100 - accuracy: 0.8706 - val_loss: 0.3510 - val_accuracy: 0.8495\n",
      "Epoch 39/50\n",
      "266/266 [==============================] - 2s 6ms/step - loss: 0.3092 - accuracy: 0.8713 - val_loss: 0.3519 - val_accuracy: 0.8469\n",
      "Epoch 40/50\n",
      "266/266 [==============================] - 2s 6ms/step - loss: 0.3087 - accuracy: 0.8709 - val_loss: 0.3516 - val_accuracy: 0.8474\n",
      "Epoch 41/50\n",
      "266/266 [==============================] - 2s 7ms/step - loss: 0.3076 - accuracy: 0.8716 - val_loss: 0.3519 - val_accuracy: 0.8480\n",
      "Epoch 42/50\n",
      "266/266 [==============================] - 2s 6ms/step - loss: 0.3069 - accuracy: 0.8726 - val_loss: 0.3528 - val_accuracy: 0.8469\n",
      "Epoch 43/50\n",
      "266/266 [==============================] - 2s 6ms/step - loss: 0.3063 - accuracy: 0.8725 - val_loss: 0.3525 - val_accuracy: 0.8477\n",
      "Epoch 44/50\n",
      "266/266 [==============================] - 2s 6ms/step - loss: 0.3050 - accuracy: 0.8730 - val_loss: 0.3534 - val_accuracy: 0.8474\n",
      "Epoch 45/50\n",
      "266/266 [==============================] - 2s 6ms/step - loss: 0.3046 - accuracy: 0.8734 - val_loss: 0.3535 - val_accuracy: 0.8470\n",
      "Epoch 46/50\n",
      "266/266 [==============================] - 2s 7ms/step - loss: 0.3041 - accuracy: 0.8736 - val_loss: 0.3536 - val_accuracy: 0.8467\n",
      "Epoch 47/50\n",
      "266/266 [==============================] - 2s 7ms/step - loss: 0.3031 - accuracy: 0.8745 - val_loss: 0.3541 - val_accuracy: 0.8466\n",
      "Epoch 48/50\n",
      "266/266 [==============================] - 2s 6ms/step - loss: 0.3027 - accuracy: 0.8749 - val_loss: 0.3547 - val_accuracy: 0.8466\n",
      "Epoch 49/50\n",
      "266/266 [==============================] - 2s 6ms/step - loss: 0.3021 - accuracy: 0.8745 - val_loss: 0.3554 - val_accuracy: 0.8460\n",
      "Epoch 50/50\n",
      "266/266 [==============================] - 2s 6ms/step - loss: 0.3012 - accuracy: 0.8752 - val_loss: 0.3554 - val_accuracy: 0.8468\n"
     ]
    }
   ],
   "source": [
    "opt = tf.keras.optimizers.Adam(learning_rate=1e-5)\n",
    "model.compile(optimizer=opt,\n",
    "              loss='binary_crossentropy',\n",
    "              metrics=['accuracy'])\n",
    "              \n",
    "epochs=50 \n",
    "\n",
    "history = model.fit(partial_x_train,\n",
    "                    partial_y_train,\n",
    "                    epochs=epochs,\n",
    "                    batch_size=512,\n",
    "                    validation_data=(x_val, y_val),\n",
    "                    verbose=1)"
   ]
  },
  {
   "cell_type": "code",
   "execution_count": 32,
   "id": "01470de8",
   "metadata": {},
   "outputs": [
    {
     "name": "stdout",
     "output_type": "stream",
     "text": [
      "1537/1537 - 3s - loss: 0.3675 - accuracy: 0.8421\n",
      "[0.36752063035964966, 0.8421180844306946]\n"
     ]
    }
   ],
   "source": [
    "results = model.evaluate(x_test,  y_test, verbose=2)\n",
    "\n",
    "print(results)"
   ]
  },
  {
   "cell_type": "code",
   "execution_count": 33,
   "id": "b55d5f48",
   "metadata": {},
   "outputs": [
    {
     "name": "stdout",
     "output_type": "stream",
     "text": [
      "dict_keys(['loss', 'accuracy', 'val_loss', 'val_accuracy'])\n"
     ]
    }
   ],
   "source": [
    "history_dict = history.history\n",
    "print(history_dict.keys())"
   ]
  },
  {
   "cell_type": "code",
   "execution_count": 34,
   "id": "9a3a0c87",
   "metadata": {},
   "outputs": [
    {
     "data": {
      "image/png": "[encoded data removed]",
      "text/plain": [
       "<Figure size 432x288 with 1 Axes>"
      ]
     },
     "metadata": {
      "needs_background": "light"
     },
     "output_type": "display_data"
    }
   ],
   "source": [
    "import matplotlib.pyplot as plt\n",
    "\n",
    "acc = history_dict['accuracy']\n",
    "val_acc = history_dict['val_accuracy']\n",
    "loss = history_dict['loss']\n",
    "val_loss = history_dict['val_loss']\n",
    "\n",
    "epochs = range(1, len(acc) + 1)\n",
    "\n",
    "plt.plot(epochs, loss, color='red', label='Training loss')\n",
    "plt.plot(epochs, val_loss, color='blue', label='Validation loss')\n",
    "plt.title('Training and validation loss')\n",
    "plt.xlabel('Epochs')\n",
    "plt.ylabel('Loss')\n",
    "plt.legend()\n",
    "\n",
    "plt.show()"
   ]
  },
  {
   "cell_type": "code",
   "execution_count": 35,
   "id": "2afa26dc",
   "metadata": {
    "scrolled": false
   },
   "outputs": [
    {
     "data": {
      "image/png": "[encoded data removed]",
      "text/plain": [
       "<Figure size 432x288 with 1 Axes>"
      ]
     },
     "metadata": {
      "needs_background": "light"
     },
     "output_type": "display_data"
    }
   ],
   "source": [
    "plt.clf()\n",
    "\n",
    "plt.plot(epochs, acc, color='red', label='Training acc')\n",
    "plt.plot(epochs, val_acc, color='blue', label='Validation acc')\n",
    "plt.title('Training and validation accuracy')\n",
    "plt.xlabel('Epochs')\n",
    "plt.ylabel('Accuracy')\n",
    "plt.legend()\n",
    "\n",
    "plt.show()"
   ]
  },
  {
   "cell_type": "markdown",
   "id": "fabbb10b",
   "metadata": {},
   "source": [
    "#### 2 ) 모델 2. 256, 128, 1"
   ]
  },
  {
   "cell_type": "code",
   "execution_count": 36,
   "id": "3a509f68",
   "metadata": {},
   "outputs": [
    {
     "name": "stdout",
     "output_type": "stream",
     "text": [
      "Model: \"sequential_1\"\n",
      "_________________________________________________________________\n",
      "Layer (type)                 Output Shape              Param #   \n",
      "=================================================================\n",
      "embedding_1 (Embedding)      (None, None, 38)          380038    \n",
      "_________________________________________________________________\n",
      "lstm_1 (LSTM)                (None, 38)                11704     \n",
      "_________________________________________________________________\n",
      "dropout_2 (Dropout)          (None, 38)                0         \n",
      "_________________________________________________________________\n",
      "dense_3 (Dense)              (None, 256)               9984      \n",
      "_________________________________________________________________\n",
      "dropout_3 (Dropout)          (None, 256)               0         \n",
      "_________________________________________________________________\n",
      "dense_4 (Dense)              (None, 128)               32896     \n",
      "_________________________________________________________________\n",
      "dense_5 (Dense)              (None, 1)                 129       \n",
      "=================================================================\n",
      "Total params: 434,751\n",
      "Trainable params: 434,751\n",
      "Non-trainable params: 0\n",
      "_________________________________________________________________\n"
     ]
    }
   ],
   "source": [
    "vocab_size = len(word_to_index)\n",
    "word_vector_dim = 38\n",
    "\n",
    "tf.random.set_seed(2022)\n",
    "model = tf.keras.Sequential()\n",
    "model.add(tf.keras.layers.Embedding(vocab_size, word_vector_dim, input_shape=(None,)))\n",
    "model.add(tf.keras.layers.LSTM(38))\n",
    "model.add(tf.keras.layers.Dropout(0.1))\n",
    "model.add(tf.keras.layers.Dense(256, activation='relu'))\n",
    "model.add(tf.keras.layers.Dropout(0.1))\n",
    "model.add(tf.keras.layers.Dense(128, activation='relu'))\n",
    "model.add(tf.keras.layers.Dense(1, activation='sigmoid'))\n",
    "\n",
    "model.summary()"
   ]
  },
  {
   "cell_type": "code",
   "execution_count": 37,
   "id": "ff8d88f7",
   "metadata": {},
   "outputs": [
    {
     "name": "stdout",
     "output_type": "stream",
     "text": [
      "(136182, 38)\n",
      "(136182,)\n"
     ]
    }
   ],
   "source": [
    "x_val = x_train[:10000]   \n",
    "y_val = y_train[:10000]\n",
    "\n",
    "partial_x_train = x_train[10000:]  \n",
    "partial_y_train = y_train[10000:]\n",
    "\n",
    "print(partial_x_train.shape)\n",
    "print(partial_y_train.shape)"
   ]
  },
  {
   "cell_type": "code",
   "execution_count": 38,
   "id": "da872808",
   "metadata": {},
   "outputs": [
    {
     "name": "stdout",
     "output_type": "stream",
     "text": [
      "Epoch 1/50\n",
      "266/266 [==============================] - 4s 8ms/step - loss: 0.6928 - accuracy: 0.5528 - val_loss: 0.6920 - val_accuracy: 0.6050\n",
      "Epoch 2/50\n",
      "266/266 [==============================] - 2s 6ms/step - loss: 0.6897 - accuracy: 0.6375 - val_loss: 0.6854 - val_accuracy: 0.6765\n",
      "Epoch 3/50\n",
      "266/266 [==============================] - 2s 6ms/step - loss: 0.6768 - accuracy: 0.7088 - val_loss: 0.6632 - val_accuracy: 0.7362\n",
      "Epoch 4/50\n",
      "266/266 [==============================] - 2s 7ms/step - loss: 0.6409 - accuracy: 0.7555 - val_loss: 0.6106 - val_accuracy: 0.7717\n",
      "Epoch 5/50\n",
      "266/266 [==============================] - 2s 7ms/step - loss: 0.5727 - accuracy: 0.7844 - val_loss: 0.5304 - val_accuracy: 0.7919\n",
      "Epoch 6/50\n",
      "266/266 [==============================] - 2s 7ms/step - loss: 0.4969 - accuracy: 0.8000 - val_loss: 0.4662 - val_accuracy: 0.8081\n",
      "Epoch 7/50\n",
      "266/266 [==============================] - 2s 7ms/step - loss: 0.4494 - accuracy: 0.8104 - val_loss: 0.4345 - val_accuracy: 0.8154\n",
      "Epoch 8/50\n",
      "266/266 [==============================] - 2s 7ms/step - loss: 0.4236 - accuracy: 0.8188 - val_loss: 0.4153 - val_accuracy: 0.8208\n",
      "Epoch 9/50\n",
      "266/266 [==============================] - 2s 6ms/step - loss: 0.4063 - accuracy: 0.8260 - val_loss: 0.4029 - val_accuracy: 0.8243\n",
      "Epoch 10/50\n",
      "266/266 [==============================] - 2s 6ms/step - loss: 0.3940 - accuracy: 0.8309 - val_loss: 0.3921 - val_accuracy: 0.8285\n",
      "Epoch 11/50\n",
      "266/266 [==============================] - 2s 6ms/step - loss: 0.3847 - accuracy: 0.8350 - val_loss: 0.3848 - val_accuracy: 0.8323\n",
      "Epoch 12/50\n",
      "266/266 [==============================] - 2s 6ms/step - loss: 0.3766 - accuracy: 0.8384 - val_loss: 0.3783 - val_accuracy: 0.8351\n",
      "Epoch 13/50\n",
      "266/266 [==============================] - 2s 6ms/step - loss: 0.3702 - accuracy: 0.8411 - val_loss: 0.3735 - val_accuracy: 0.8371\n",
      "Epoch 14/50\n",
      "266/266 [==============================] - 2s 6ms/step - loss: 0.3650 - accuracy: 0.8436 - val_loss: 0.3697 - val_accuracy: 0.8390\n",
      "Epoch 15/50\n",
      "266/266 [==============================] - 2s 6ms/step - loss: 0.3603 - accuracy: 0.8460 - val_loss: 0.3665 - val_accuracy: 0.8410\n",
      "Epoch 16/50\n",
      "266/266 [==============================] - 2s 7ms/step - loss: 0.3564 - accuracy: 0.8479 - val_loss: 0.3636 - val_accuracy: 0.8409\n",
      "Epoch 17/50\n",
      "266/266 [==============================] - 2s 7ms/step - loss: 0.3525 - accuracy: 0.8497 - val_loss: 0.3610 - val_accuracy: 0.8420\n",
      "Epoch 18/50\n",
      "266/266 [==============================] - 2s 6ms/step - loss: 0.3492 - accuracy: 0.8511 - val_loss: 0.3591 - val_accuracy: 0.8423\n",
      "Epoch 19/50\n",
      "266/266 [==============================] - 2s 6ms/step - loss: 0.3467 - accuracy: 0.8528 - val_loss: 0.3584 - val_accuracy: 0.8420\n",
      "Epoch 20/50\n",
      "266/266 [==============================] - 2s 6ms/step - loss: 0.3438 - accuracy: 0.8543 - val_loss: 0.3568 - val_accuracy: 0.8423\n",
      "Epoch 21/50\n",
      "266/266 [==============================] - 2s 6ms/step - loss: 0.3418 - accuracy: 0.8550 - val_loss: 0.3549 - val_accuracy: 0.8462\n",
      "Epoch 22/50\n",
      "266/266 [==============================] - 2s 7ms/step - loss: 0.3391 - accuracy: 0.8572 - val_loss: 0.3539 - val_accuracy: 0.8465\n",
      "Epoch 23/50\n",
      "266/266 [==============================] - 2s 7ms/step - loss: 0.3371 - accuracy: 0.8575 - val_loss: 0.3531 - val_accuracy: 0.8474\n",
      "Epoch 24/50\n",
      "266/266 [==============================] - 2s 6ms/step - loss: 0.3353 - accuracy: 0.8586 - val_loss: 0.3524 - val_accuracy: 0.8478\n",
      "Epoch 25/50\n",
      "266/266 [==============================] - 2s 6ms/step - loss: 0.3333 - accuracy: 0.8596 - val_loss: 0.3516 - val_accuracy: 0.8484\n",
      "Epoch 26/50\n",
      "266/266 [==============================] - 2s 6ms/step - loss: 0.3317 - accuracy: 0.8600 - val_loss: 0.3510 - val_accuracy: 0.8490\n",
      "Epoch 27/50\n",
      "266/266 [==============================] - 2s 6ms/step - loss: 0.3301 - accuracy: 0.8612 - val_loss: 0.3510 - val_accuracy: 0.8493\n",
      "Epoch 28/50\n",
      "266/266 [==============================] - 2s 7ms/step - loss: 0.3284 - accuracy: 0.8617 - val_loss: 0.3502 - val_accuracy: 0.8496\n",
      "Epoch 29/50\n",
      "266/266 [==============================] - 2s 7ms/step - loss: 0.3272 - accuracy: 0.8627 - val_loss: 0.3501 - val_accuracy: 0.8498\n",
      "Epoch 30/50\n",
      "266/266 [==============================] - 2s 6ms/step - loss: 0.3254 - accuracy: 0.8634 - val_loss: 0.3496 - val_accuracy: 0.8493\n",
      "Epoch 31/50\n",
      "266/266 [==============================] - 2s 6ms/step - loss: 0.3242 - accuracy: 0.8641 - val_loss: 0.3496 - val_accuracy: 0.8502\n",
      "Epoch 32/50\n",
      "266/266 [==============================] - 2s 6ms/step - loss: 0.3232 - accuracy: 0.8646 - val_loss: 0.3498 - val_accuracy: 0.8498\n",
      "Epoch 33/50\n",
      "266/266 [==============================] - 2s 7ms/step - loss: 0.3219 - accuracy: 0.8655 - val_loss: 0.3494 - val_accuracy: 0.8496\n",
      "Epoch 34/50\n",
      "266/266 [==============================] - 2s 7ms/step - loss: 0.3206 - accuracy: 0.8656 - val_loss: 0.3500 - val_accuracy: 0.8509\n",
      "Epoch 35/50\n",
      "266/266 [==============================] - 2s 7ms/step - loss: 0.3195 - accuracy: 0.8663 - val_loss: 0.3492 - val_accuracy: 0.8497\n",
      "Epoch 36/50\n",
      "266/266 [==============================] - 2s 7ms/step - loss: 0.3183 - accuracy: 0.8668 - val_loss: 0.3495 - val_accuracy: 0.8499\n",
      "Epoch 37/50\n",
      "266/266 [==============================] - 2s 7ms/step - loss: 0.3174 - accuracy: 0.8675 - val_loss: 0.3493 - val_accuracy: 0.8503\n",
      "Epoch 38/50\n",
      "266/266 [==============================] - 2s 6ms/step - loss: 0.3164 - accuracy: 0.8674 - val_loss: 0.3493 - val_accuracy: 0.8501\n",
      "Epoch 39/50\n",
      "266/266 [==============================] - 2s 6ms/step - loss: 0.3149 - accuracy: 0.8690 - val_loss: 0.3500 - val_accuracy: 0.8488\n",
      "Epoch 40/50\n",
      "266/266 [==============================] - 2s 6ms/step - loss: 0.3146 - accuracy: 0.8678 - val_loss: 0.3495 - val_accuracy: 0.8488\n",
      "Epoch 41/50\n",
      "266/266 [==============================] - 2s 6ms/step - loss: 0.3134 - accuracy: 0.8690 - val_loss: 0.3497 - val_accuracy: 0.8492\n",
      "Epoch 42/50\n",
      "266/266 [==============================] - 2s 7ms/step - loss: 0.3126 - accuracy: 0.8698 - val_loss: 0.3505 - val_accuracy: 0.8487\n",
      "Epoch 43/50\n",
      "266/266 [==============================] - 2s 7ms/step - loss: 0.3119 - accuracy: 0.8705 - val_loss: 0.3501 - val_accuracy: 0.8498\n",
      "Epoch 44/50\n",
      "266/266 [==============================] - 2s 6ms/step - loss: 0.3105 - accuracy: 0.8703 - val_loss: 0.3507 - val_accuracy: 0.8504\n",
      "Epoch 45/50\n",
      "266/266 [==============================] - 2s 6ms/step - loss: 0.3101 - accuracy: 0.8707 - val_loss: 0.3506 - val_accuracy: 0.8497\n",
      "Epoch 46/50\n",
      "266/266 [==============================] - 2s 6ms/step - loss: 0.3093 - accuracy: 0.8709 - val_loss: 0.3507 - val_accuracy: 0.8501\n",
      "Epoch 47/50\n",
      "266/266 [==============================] - 2s 6ms/step - loss: 0.3085 - accuracy: 0.8718 - val_loss: 0.3510 - val_accuracy: 0.8502\n",
      "Epoch 48/50\n",
      "266/266 [==============================] - 2s 7ms/step - loss: 0.3082 - accuracy: 0.8720 - val_loss: 0.3514 - val_accuracy: 0.8490\n",
      "Epoch 49/50\n",
      "266/266 [==============================] - 2s 7ms/step - loss: 0.3074 - accuracy: 0.8721 - val_loss: 0.3520 - val_accuracy: 0.8491\n",
      "Epoch 50/50\n",
      "266/266 [==============================] - 2s 7ms/step - loss: 0.3068 - accuracy: 0.8726 - val_loss: 0.3517 - val_accuracy: 0.8498\n"
     ]
    }
   ],
   "source": [
    "opt = tf.keras.optimizers.Adam(learning_rate=1e-5)\n",
    "model.compile(optimizer=opt,\n",
    "              loss='binary_crossentropy',\n",
    "              metrics=['accuracy'])\n",
    "              \n",
    "epochs=50  \n",
    "\n",
    "history = model.fit(partial_x_train,\n",
    "                    partial_y_train,\n",
    "                    epochs=epochs,\n",
    "                    batch_size=512,\n",
    "                    validation_data=(x_val, y_val),\n",
    "                    verbose=1)"
   ]
  },
  {
   "cell_type": "code",
   "execution_count": 39,
   "id": "75625851",
   "metadata": {},
   "outputs": [
    {
     "name": "stdout",
     "output_type": "stream",
     "text": [
      "1537/1537 - 3s - loss: 0.3641 - accuracy: 0.8433\n",
      "[0.36410388350486755, 0.8433183431625366]\n"
     ]
    }
   ],
   "source": [
    "results = model.evaluate(x_test,  y_test, verbose=2)\n",
    "\n",
    "print(results)"
   ]
  },
  {
   "cell_type": "code",
   "execution_count": 40,
   "id": "fc14cc39",
   "metadata": {},
   "outputs": [
    {
     "name": "stdout",
     "output_type": "stream",
     "text": [
      "dict_keys(['loss', 'accuracy', 'val_loss', 'val_accuracy'])\n"
     ]
    }
   ],
   "source": [
    "history_dict = history.history\n",
    "print(history_dict.keys()) "
   ]
  },
  {
   "cell_type": "code",
   "execution_count": 41,
   "id": "6b907ecd",
   "metadata": {},
   "outputs": [
    {
     "data": {
      "image/png": "[encoded data removed]",
      "text/plain": [
       "<Figure size 432x288 with 1 Axes>"
      ]
     },
     "metadata": {
      "needs_background": "light"
     },
     "output_type": "display_data"
    }
   ],
   "source": [
    "import matplotlib.pyplot as plt\n",
    "\n",
    "acc = history_dict['accuracy']\n",
    "val_acc = history_dict['val_accuracy']\n",
    "loss = history_dict['loss']\n",
    "val_loss = history_dict['val_loss']\n",
    "\n",
    "epochs = range(1, len(acc) + 1)\n",
    "\n",
    "plt.plot(epochs, loss, color='red', label='Training loss')\n",
    "plt.plot(epochs, val_loss, color='blue', label='Validation loss')\n",
    "plt.title('Training and validation loss')\n",
    "plt.xlabel('Epochs')\n",
    "plt.ylabel('Loss')\n",
    "plt.legend()\n",
    "\n",
    "plt.show()"
   ]
  },
  {
   "cell_type": "code",
   "execution_count": 42,
   "id": "de1cd8a3",
   "metadata": {
    "scrolled": false
   },
   "outputs": [
    {
     "data": {
      "image/png": "[encoded data removed]",
      "text/plain": [
       "<Figure size 432x288 with 1 Axes>"
      ]
     },
     "metadata": {
      "needs_background": "light"
     },
     "output_type": "display_data"
    }
   ],
   "source": [
    "plt.clf()   \n",
    "\n",
    "plt.plot(epochs, acc, color='red', label='Training acc')\n",
    "plt.plot(epochs, val_acc, color='blue', label='Validation acc')\n",
    "plt.title('Training and validation accuracy')\n",
    "plt.xlabel('Epochs')\n",
    "plt.ylabel('Accuracy')\n",
    "plt.legend()\n",
    "\n",
    "plt.show()"
   ]
  },
  {
   "cell_type": "markdown",
   "id": "7cc5e860",
   "metadata": {},
   "source": [
    "#### 3 ) 모델 3. 128, 64, 1"
   ]
  },
  {
   "cell_type": "code",
   "execution_count": 43,
   "id": "c1f89448",
   "metadata": {},
   "outputs": [
    {
     "name": "stdout",
     "output_type": "stream",
     "text": [
      "Model: \"sequential_2\"\n",
      "_________________________________________________________________\n",
      "Layer (type)                 Output Shape              Param #   \n",
      "=================================================================\n",
      "embedding_2 (Embedding)      (None, None, 38)          380038    \n",
      "_________________________________________________________________\n",
      "lstm_2 (LSTM)                (None, 38)                11704     \n",
      "_________________________________________________________________\n",
      "dropout_4 (Dropout)          (None, 38)                0         \n",
      "_________________________________________________________________\n",
      "dense_6 (Dense)              (None, 128)               4992      \n",
      "_________________________________________________________________\n",
      "dropout_5 (Dropout)          (None, 128)               0         \n",
      "_________________________________________________________________\n",
      "dense_7 (Dense)              (None, 64)                8256      \n",
      "_________________________________________________________________\n",
      "dense_8 (Dense)              (None, 1)                 65        \n",
      "=================================================================\n",
      "Total params: 405,055\n",
      "Trainable params: 405,055\n",
      "Non-trainable params: 0\n",
      "_________________________________________________________________\n"
     ]
    }
   ],
   "source": [
    "vocab_size = len(word_to_index)\n",
    "word_vector_dim = 38\n",
    "\n",
    "tf.random.set_seed(2022)\n",
    "model = tf.keras.Sequential()\n",
    "model.add(tf.keras.layers.Embedding(vocab_size, word_vector_dim, input_shape=(None,)))\n",
    "model.add(tf.keras.layers.LSTM(38))\n",
    "model.add(tf.keras.layers.Dropout(0.1))\n",
    "model.add(tf.keras.layers.Dense(128, activation='relu'))\n",
    "model.add(tf.keras.layers.Dropout(0.1))\n",
    "model.add(tf.keras.layers.Dense(64, activation='relu'))\n",
    "model.add(tf.keras.layers.Dense(1, activation='sigmoid'))\n",
    "\n",
    "model.summary()"
   ]
  },
  {
   "cell_type": "code",
   "execution_count": 44,
   "id": "9060a360",
   "metadata": {},
   "outputs": [
    {
     "name": "stdout",
     "output_type": "stream",
     "text": [
      "(136182, 38)\n",
      "(136182,)\n"
     ]
    }
   ],
   "source": [
    "x_val = x_train[:10000]   \n",
    "y_val = y_train[:10000]\n",
    "\n",
    "partial_x_train = x_train[10000:]  \n",
    "partial_y_train = y_train[10000:]\n",
    "\n",
    "print(partial_x_train.shape)\n",
    "print(partial_y_train.shape)"
   ]
  },
  {
   "cell_type": "code",
   "execution_count": 45,
   "id": "9d073aa6",
   "metadata": {},
   "outputs": [
    {
     "name": "stdout",
     "output_type": "stream",
     "text": [
      "Epoch 1/50\n",
      "266/266 [==============================] - 3s 7ms/step - loss: 0.6930 - accuracy: 0.5074 - val_loss: 0.6927 - val_accuracy: 0.5222\n",
      "Epoch 2/50\n",
      "266/266 [==============================] - 2s 7ms/step - loss: 0.6919 - accuracy: 0.5269 - val_loss: 0.6904 - val_accuracy: 0.5638\n",
      "Epoch 3/50\n",
      "266/266 [==============================] - 2s 7ms/step - loss: 0.6877 - accuracy: 0.6006 - val_loss: 0.6829 - val_accuracy: 0.6470\n",
      "Epoch 4/50\n",
      "266/266 [==============================] - 2s 7ms/step - loss: 0.6761 - accuracy: 0.6803 - val_loss: 0.6651 - val_accuracy: 0.7085\n",
      "Epoch 5/50\n",
      "266/266 [==============================] - 2s 6ms/step - loss: 0.6508 - accuracy: 0.7347 - val_loss: 0.6301 - val_accuracy: 0.7455\n",
      "Epoch 6/50\n",
      "266/266 [==============================] - 2s 6ms/step - loss: 0.6070 - accuracy: 0.7689 - val_loss: 0.5781 - val_accuracy: 0.7847\n",
      "Epoch 7/50\n",
      "266/266 [==============================] - 2s 6ms/step - loss: 0.5558 - accuracy: 0.7896 - val_loss: 0.5312 - val_accuracy: 0.8003\n",
      "Epoch 8/50\n",
      "266/266 [==============================] - 2s 7ms/step - loss: 0.5149 - accuracy: 0.8005 - val_loss: 0.4976 - val_accuracy: 0.8066\n",
      "Epoch 9/50\n",
      "266/266 [==============================] - 2s 7ms/step - loss: 0.4844 - accuracy: 0.8076 - val_loss: 0.4729 - val_accuracy: 0.8082\n",
      "Epoch 10/50\n",
      "266/266 [==============================] - 2s 6ms/step - loss: 0.4611 - accuracy: 0.8138 - val_loss: 0.4523 - val_accuracy: 0.8154\n",
      "Epoch 11/50\n",
      "266/266 [==============================] - 2s 6ms/step - loss: 0.4417 - accuracy: 0.8202 - val_loss: 0.4361 - val_accuracy: 0.8191\n",
      "Epoch 12/50\n",
      "266/266 [==============================] - 2s 6ms/step - loss: 0.4255 - accuracy: 0.8249 - val_loss: 0.4223 - val_accuracy: 0.8236\n",
      "Epoch 13/50\n",
      "266/266 [==============================] - 2s 6ms/step - loss: 0.4121 - accuracy: 0.8291 - val_loss: 0.4114 - val_accuracy: 0.8268\n",
      "Epoch 14/50\n",
      "266/266 [==============================] - 2s 7ms/step - loss: 0.4012 - accuracy: 0.8326 - val_loss: 0.4012 - val_accuracy: 0.8300\n",
      "Epoch 15/50\n",
      "266/266 [==============================] - 2s 7ms/step - loss: 0.3914 - accuracy: 0.8358 - val_loss: 0.3938 - val_accuracy: 0.8313\n",
      "Epoch 16/50\n",
      "266/266 [==============================] - 2s 6ms/step - loss: 0.3835 - accuracy: 0.8385 - val_loss: 0.3872 - val_accuracy: 0.8341\n",
      "Epoch 17/50\n",
      "266/266 [==============================] - 2s 6ms/step - loss: 0.3768 - accuracy: 0.8414 - val_loss: 0.3809 - val_accuracy: 0.8353\n",
      "Epoch 18/50\n",
      "266/266 [==============================] - 2s 6ms/step - loss: 0.3708 - accuracy: 0.8440 - val_loss: 0.3763 - val_accuracy: 0.8395\n",
      "Epoch 19/50\n",
      "266/266 [==============================] - 2s 7ms/step - loss: 0.3656 - accuracy: 0.8459 - val_loss: 0.3734 - val_accuracy: 0.8398\n",
      "Epoch 20/50\n",
      "266/266 [==============================] - 2s 7ms/step - loss: 0.3612 - accuracy: 0.8473 - val_loss: 0.3699 - val_accuracy: 0.8414\n",
      "Epoch 21/50\n",
      "266/266 [==============================] - 2s 6ms/step - loss: 0.3578 - accuracy: 0.8486 - val_loss: 0.3657 - val_accuracy: 0.8434\n",
      "Epoch 22/50\n",
      "266/266 [==============================] - 2s 6ms/step - loss: 0.3537 - accuracy: 0.8509 - val_loss: 0.3636 - val_accuracy: 0.8442\n",
      "Epoch 23/50\n",
      "266/266 [==============================] - 2s 6ms/step - loss: 0.3505 - accuracy: 0.8520 - val_loss: 0.3613 - val_accuracy: 0.8449\n",
      "Epoch 24/50\n",
      "266/266 [==============================] - 2s 7ms/step - loss: 0.3483 - accuracy: 0.8526 - val_loss: 0.3595 - val_accuracy: 0.8459\n",
      "Epoch 25/50\n",
      "266/266 [==============================] - 2s 7ms/step - loss: 0.3451 - accuracy: 0.8551 - val_loss: 0.3578 - val_accuracy: 0.8462\n",
      "Epoch 26/50\n",
      "266/266 [==============================] - 2s 6ms/step - loss: 0.3431 - accuracy: 0.8554 - val_loss: 0.3562 - val_accuracy: 0.8478\n",
      "Epoch 27/50\n",
      "266/266 [==============================] - 2s 6ms/step - loss: 0.3410 - accuracy: 0.8563 - val_loss: 0.3552 - val_accuracy: 0.8483\n",
      "Epoch 28/50\n",
      "266/266 [==============================] - 2s 6ms/step - loss: 0.3386 - accuracy: 0.8573 - val_loss: 0.3540 - val_accuracy: 0.8482\n",
      "Epoch 29/50\n",
      "266/266 [==============================] - 2s 6ms/step - loss: 0.3371 - accuracy: 0.8578 - val_loss: 0.3535 - val_accuracy: 0.8490\n",
      "Epoch 30/50\n",
      "266/266 [==============================] - 2s 6ms/step - loss: 0.3354 - accuracy: 0.8589 - val_loss: 0.3523 - val_accuracy: 0.8488\n",
      "Epoch 31/50\n",
      "266/266 [==============================] - 2s 6ms/step - loss: 0.3340 - accuracy: 0.8597 - val_loss: 0.3517 - val_accuracy: 0.8484\n",
      "Epoch 32/50\n",
      "266/266 [==============================] - 2s 6ms/step - loss: 0.3323 - accuracy: 0.8606 - val_loss: 0.3512 - val_accuracy: 0.8495\n",
      "Epoch 33/50\n",
      "266/266 [==============================] - 2s 6ms/step - loss: 0.3308 - accuracy: 0.8609 - val_loss: 0.3509 - val_accuracy: 0.8491\n",
      "Epoch 34/50\n",
      "266/266 [==============================] - 2s 7ms/step - loss: 0.3291 - accuracy: 0.8619 - val_loss: 0.3505 - val_accuracy: 0.8503\n",
      "Epoch 35/50\n",
      "266/266 [==============================] - 2s 7ms/step - loss: 0.3280 - accuracy: 0.8628 - val_loss: 0.3499 - val_accuracy: 0.8493\n",
      "Epoch 36/50\n",
      "266/266 [==============================] - 2s 7ms/step - loss: 0.3270 - accuracy: 0.8630 - val_loss: 0.3498 - val_accuracy: 0.8497\n",
      "Epoch 37/50\n",
      "266/266 [==============================] - 2s 6ms/step - loss: 0.3260 - accuracy: 0.8634 - val_loss: 0.3494 - val_accuracy: 0.8500\n",
      "Epoch 38/50\n",
      "266/266 [==============================] - 2s 6ms/step - loss: 0.3244 - accuracy: 0.8642 - val_loss: 0.3492 - val_accuracy: 0.8502\n",
      "Epoch 39/50\n",
      "266/266 [==============================] - 2s 6ms/step - loss: 0.3231 - accuracy: 0.8652 - val_loss: 0.3497 - val_accuracy: 0.8499\n",
      "Epoch 40/50\n",
      "266/266 [==============================] - 2s 6ms/step - loss: 0.3223 - accuracy: 0.8657 - val_loss: 0.3491 - val_accuracy: 0.8498\n",
      "Epoch 41/50\n",
      "266/266 [==============================] - 2s 6ms/step - loss: 0.3210 - accuracy: 0.8654 - val_loss: 0.3490 - val_accuracy: 0.8497\n",
      "Epoch 42/50\n",
      "266/266 [==============================] - 2s 6ms/step - loss: 0.3200 - accuracy: 0.8665 - val_loss: 0.3495 - val_accuracy: 0.8495\n",
      "Epoch 43/50\n",
      "266/266 [==============================] - 2s 6ms/step - loss: 0.3195 - accuracy: 0.8663 - val_loss: 0.3490 - val_accuracy: 0.8505\n",
      "Epoch 44/50\n",
      "266/266 [==============================] - 2s 6ms/step - loss: 0.3182 - accuracy: 0.8676 - val_loss: 0.3491 - val_accuracy: 0.8505\n",
      "Epoch 45/50\n",
      "266/266 [==============================] - 2s 7ms/step - loss: 0.3173 - accuracy: 0.8679 - val_loss: 0.3491 - val_accuracy: 0.8499\n",
      "Epoch 46/50\n",
      "266/266 [==============================] - 2s 7ms/step - loss: 0.3167 - accuracy: 0.8681 - val_loss: 0.3490 - val_accuracy: 0.8494\n",
      "Epoch 47/50\n",
      "266/266 [==============================] - 2s 6ms/step - loss: 0.3155 - accuracy: 0.8693 - val_loss: 0.3493 - val_accuracy: 0.8497\n",
      "Epoch 48/50\n",
      "266/266 [==============================] - 2s 6ms/step - loss: 0.3148 - accuracy: 0.8694 - val_loss: 0.3493 - val_accuracy: 0.8507\n",
      "Epoch 49/50\n",
      "266/266 [==============================] - 2s 6ms/step - loss: 0.3142 - accuracy: 0.8692 - val_loss: 0.3496 - val_accuracy: 0.8502\n",
      "Epoch 50/50\n",
      "266/266 [==============================] - 2s 6ms/step - loss: 0.3130 - accuracy: 0.8701 - val_loss: 0.3496 - val_accuracy: 0.8494\n"
     ]
    }
   ],
   "source": [
    "opt = tf.keras.optimizers.Adam(learning_rate=1e-5)\n",
    "model.compile(optimizer=opt,\n",
    "              loss='binary_crossentropy',\n",
    "              metrics=['accuracy'])\n",
    "              \n",
    "epochs=50  \n",
    "\n",
    "history = model.fit(partial_x_train,\n",
    "                    partial_y_train,\n",
    "                    epochs=epochs,\n",
    "                    batch_size=512,\n",
    "                    validation_data=(x_val, y_val),\n",
    "                    verbose=1)"
   ]
  },
  {
   "cell_type": "code",
   "execution_count": 46,
   "id": "1d37dc07",
   "metadata": {
    "scrolled": true
   },
   "outputs": [
    {
     "name": "stdout",
     "output_type": "stream",
     "text": [
      "1537/1537 - 4s - loss: 0.3625 - accuracy: 0.8443\n",
      "[0.3624567985534668, 0.8443354964256287]\n"
     ]
    }
   ],
   "source": [
    "results = model.evaluate(x_test,  y_test, verbose=2)\n",
    "\n",
    "print(results)"
   ]
  },
  {
   "cell_type": "code",
   "execution_count": 47,
   "id": "1b9ad746",
   "metadata": {},
   "outputs": [
    {
     "name": "stdout",
     "output_type": "stream",
     "text": [
      "dict_keys(['loss', 'accuracy', 'val_loss', 'val_accuracy'])\n"
     ]
    }
   ],
   "source": [
    "history_dict = history.history\n",
    "print(history_dict.keys()) "
   ]
  },
  {
   "cell_type": "code",
   "execution_count": 48,
   "id": "aba5048e",
   "metadata": {},
   "outputs": [
    {
     "data": {
      "image/png": "[encoded data removed]",
      "text/plain": [
       "<Figure size 432x288 with 1 Axes>"
      ]
     },
     "metadata": {
      "needs_background": "light"
     },
     "output_type": "display_data"
    }
   ],
   "source": [
    "import matplotlib.pyplot as plt\n",
    "\n",
    "acc = history_dict['accuracy']\n",
    "val_acc = history_dict['val_accuracy']\n",
    "loss = history_dict['loss']\n",
    "val_loss = history_dict['val_loss']\n",
    "\n",
    "epochs = range(1, len(acc) + 1)\n",
    "\n",
    "plt.plot(epochs, loss, color='red', label='Training loss')\n",
    "plt.plot(epochs, val_loss, color='blue', label='Validation loss')\n",
    "plt.title('Training and validation loss')\n",
    "plt.xlabel('Epochs')\n",
    "plt.ylabel('Loss')\n",
    "plt.legend()\n",
    "\n",
    "plt.show()"
   ]
  },
  {
   "cell_type": "code",
   "execution_count": 49,
   "id": "399d4128",
   "metadata": {
    "scrolled": true
   },
   "outputs": [
    {
     "data": {
      "image/png": "[encoded data removed]",
      "text/plain": [
       "<Figure size 432x288 with 1 Axes>"
      ]
     },
     "metadata": {
      "needs_background": "light"
     },
     "output_type": "display_data"
    }
   ],
   "source": [
    "plt.clf()\n",
    "\n",
    "plt.plot(epochs, acc, color='red', label='Training acc')\n",
    "plt.plot(epochs, val_acc, color='blue', label='Validation acc')\n",
    "plt.title('Training and validation accuracy')\n",
    "plt.xlabel('Epochs')\n",
    "plt.ylabel('Accuracy')\n",
    "plt.legend()\n",
    "\n",
    "plt.show()"
   ]
  },
  {
   "cell_type": "markdown",
   "id": "aefcc4b8",
   "metadata": {},
   "source": [
    "### 7 ) 학습된 Embedding 레이어 분석"
   ]
  },
  {
   "cell_type": "code",
   "execution_count": 50,
   "id": "89c6446c",
   "metadata": {},
   "outputs": [],
   "source": [
    "import os"
   ]
  },
  {
   "cell_type": "code",
   "execution_count": 51,
   "id": "97974b05",
   "metadata": {},
   "outputs": [
    {
     "name": "stdout",
     "output_type": "stream",
     "text": [
      "(10001, 38)\n"
     ]
    }
   ],
   "source": [
    "embedding_layer = model.layers[0]\n",
    "weights = embedding_layer.get_weights()[0]\n",
    "print(weights.shape)    # shape: (vocab_size, embedding_dim)"
   ]
  },
  {
   "cell_type": "code",
   "execution_count": 52,
   "id": "d2c05de5",
   "metadata": {
    "scrolled": true
   },
   "outputs": [],
   "source": [
    "# 학습한 Embedding 파라미터를 파일에 써서 저장합니다. \n",
    "vocab_size = 10000\n",
    "word2vec_file_path = os.getenv('HOME')+'/aiffel/sentiment_classification/data/word2vec.txt'\n",
    "f = open(word2vec_file_path, 'w')\n",
    "f.write('{} {}\\n'.format(vocab_size-4, word_vector_dim))  # 몇개의 벡터를 얼마 사이즈로 기재할지 타이틀을 씁니다.\n",
    "\n",
    "# 단어 개수(에서 특수문자 4개는 제외하고)만큼의 워드 벡터를 파일에 기록합니다. \n",
    "vectors = model.get_weights()[0]\n",
    "for i in range(4,vocab_size):\n",
    "    f.write('{} {}\\n'.format(index_to_word[i], ' '.join(map(str, list(vectors[i, :])))))\n",
    "f.close()"
   ]
  },
  {
   "cell_type": "code",
   "execution_count": 53,
   "id": "7b5ff3e4",
   "metadata": {
    "scrolled": false
   },
   "outputs": [],
   "source": [
    "from gensim.models.keyedvectors import Word2VecKeyedVectors\n",
    "\n",
    "word_vectors = Word2VecKeyedVectors.load_word2vec_format(word2vec_file_path, binary=False)"
   ]
  },
  {
   "cell_type": "code",
   "execution_count": 54,
   "id": "84c14839",
   "metadata": {
    "scrolled": false
   },
   "outputs": [
    {
     "data": {
      "text/plain": [
       "{'': 3,\n",
       " '영화': 4,\n",
       " '다': 5,\n",
       " '고': 6,\n",
       " '하': 7,\n",
       " '을': 8,\n",
       " '보': 9,\n",
       " '게': 10,\n",
       " '지': 11,\n",
       " '있': 12,\n",
       " '없': 13,\n",
       " '좋': 14,\n",
       " '나': 15,\n",
       " '었': 16,\n",
       " '만': 17,\n",
       " '는데': 18,\n",
       " '너무': 19,\n",
       " '봤': 20,\n",
       " '적': 21,\n",
       " '안': 22,\n",
       " '정말': 23,\n",
       " '로': 24,\n",
       " '음': 25,\n",
       " '것': 26,\n",
       " '아': 27,\n",
       " '네요': 28,\n",
       " '재밌': 29,\n",
       " '어': 30,\n",
       " '지만': 31,\n",
       " '같': 32,\n",
       " '점': 33,\n",
       " '진짜': 34,\n",
       " '에서': 35,\n",
       " '했': 36,\n",
       " '기': 37,\n",
       " '네': 38,\n",
       " '않': 39,\n",
       " '거': 40,\n",
       " '았': 41,\n",
       " '수': 42,\n",
       " '되': 43,\n",
       " '면': 44,\n",
       " 'ㅋㅋ': 45,\n",
       " '인': 46,\n",
       " '말': 47,\n",
       " '연기': 48,\n",
       " '주': 49,\n",
       " '내': 50,\n",
       " '최고': 51,\n",
       " '평점': 52,\n",
       " '이런': 53,\n",
       " '던': 54,\n",
       " '어요': 55,\n",
       " '할': 56,\n",
       " '왜': 57,\n",
       " '겠': 58,\n",
       " '1': 59,\n",
       " '스토리': 60,\n",
       " '해': 61,\n",
       " '습니다': 62,\n",
       " 'ㅋㅋㅋ': 63,\n",
       " '듯': 64,\n",
       " '아니': 65,\n",
       " '드라마': 66,\n",
       " '생각': 67,\n",
       " '더': 68,\n",
       " '그': 69,\n",
       " '싶': 70,\n",
       " '사람': 71,\n",
       " '감동': 72,\n",
       " '때': 73,\n",
       " '배우': 74,\n",
       " '함': 75,\n",
       " '본': 76,\n",
       " '까지': 77,\n",
       " '뭐': 78,\n",
       " '알': 79,\n",
       " '만들': 80,\n",
       " '내용': 81,\n",
       " '볼': 82,\n",
       " '보다': 83,\n",
       " '라': 84,\n",
       " '감독': 85,\n",
       " '재미': 86,\n",
       " '그냥': 87,\n",
       " '시간': 88,\n",
       " '중': 89,\n",
       " '지루': 90,\n",
       " '재미있': 91,\n",
       " '년': 92,\n",
       " '10': 93,\n",
       " '였': 94,\n",
       " '잼': 95,\n",
       " '사랑': 96,\n",
       " '못': 97,\n",
       " '냐': 98,\n",
       " '재미없': 99,\n",
       " '쓰레기': 100,\n",
       " '서': 101,\n",
       " '라고': 102,\n",
       " '2': 103,\n",
       " '니': 104,\n",
       " '면서': 105,\n",
       " '번': 106,\n",
       " '다시': 107,\n",
       " '나오': 108,\n",
       " '야': 109,\n",
       " '작품': 110,\n",
       " '하나': 111,\n",
       " '이거': 112,\n",
       " '줄': 113,\n",
       " '해서': 114,\n",
       " '개': 115,\n",
       " '남': 116,\n",
       " '정도': 117,\n",
       " '마지막': 118,\n",
       " '끝': 119,\n",
       " '이건': 120,\n",
       " '액션': 121,\n",
       " 'ㅋ': 122,\n",
       " '임': 123,\n",
       " '기대': 124,\n",
       " '3': 125,\n",
       " '건': 126,\n",
       " '라는': 127,\n",
       " '입니다': 128,\n",
       " '분': 129,\n",
       " '완전': 130,\n",
       " '다는': 131,\n",
       " '참': 132,\n",
       " '많': 133,\n",
       " '처음': 134,\n",
       " '장면': 135,\n",
       " '대': 136,\n",
       " '아깝': 137,\n",
       " '다가': 138,\n",
       " '으면': 139,\n",
       " '지금': 140,\n",
       " '모르': 141,\n",
       " '이렇게': 142,\n",
       " '편': 143,\n",
       " '일': 144,\n",
       " '돈': 145,\n",
       " '이게': 146,\n",
       " '성': 147,\n",
       " '느낌': 148,\n",
       " '이야기': 149,\n",
       " '최악': 150,\n",
       " '시': 151,\n",
       " '된': 152,\n",
       " '봐도': 153,\n",
       " '님': 154,\n",
       " '어서': 155,\n",
       " '애': 156,\n",
       " '넘': 157,\n",
       " '전': 158,\n",
       " '인데': 159,\n",
       " '다고': 160,\n",
       " '이해': 161,\n",
       " '별로': 162,\n",
       " '걸': 163,\n",
       " '명작': 164,\n",
       " '난': 165,\n",
       " '그리고': 166,\n",
       " '여자': 167,\n",
       " '역시': 168,\n",
       " '또': 169,\n",
       " '이상': 170,\n",
       " '한국': 171,\n",
       " '는지': 172,\n",
       " '많이': 173,\n",
       " '에게': 174,\n",
       " '부터': 175,\n",
       " '주인공': 176,\n",
       " '받': 177,\n",
       " '합니다': 178,\n",
       " '두': 179,\n",
       " '살': 180,\n",
       " '우리': 181,\n",
       " '요': 182,\n",
       " '길': 183,\n",
       " '만든': 184,\n",
       " '엔': 185,\n",
       " '괜찮': 186,\n",
       " '기억': 187,\n",
       " '한다': 188,\n",
       " '연출': 189,\n",
       " '때문': 190,\n",
       " '이나': 191,\n",
       " 'ㅎㅎ': 192,\n",
       " '저': 193,\n",
       " '재': 194,\n",
       " '꼭': 195,\n",
       " '며': 196,\n",
       " '랑': 197,\n",
       " '현실': 198,\n",
       " '긴': 199,\n",
       " '무슨': 200,\n",
       " '내내': 201,\n",
       " '결말': 202,\n",
       " '죽': 203,\n",
       " '남자': 204,\n",
       " '전개': 205,\n",
       " '마음': 206,\n",
       " '세요': 207,\n",
       " '데': 208,\n",
       " '소재': 209,\n",
       " '속': 210,\n",
       " '공포': 211,\n",
       " '다른': 212,\n",
       " '아서': 213,\n",
       " '씨': 214,\n",
       " '인생': 215,\n",
       " '짜증': 216,\n",
       " '짱': 217,\n",
       " '뿐': 218,\n",
       " '별': 219,\n",
       " '아요': 220,\n",
       " '유치': 221,\n",
       " '은데': 222,\n",
       " '필요': 223,\n",
       " '가장': 224,\n",
       " '오': 225,\n",
       " '아이': 226,\n",
       " '음악': 227,\n",
       " '일본': 228,\n",
       " '낮': 229,\n",
       " '반전': 230,\n",
       " '수준': 231,\n",
       " '다니': 232,\n",
       " '웃': 233,\n",
       " '매력': 234,\n",
       " '인지': 235,\n",
       " '가슴': 236,\n",
       " '맞': 237,\n",
       " '없이': 238,\n",
       " 'ㄷ': 239,\n",
       " '원작': 240,\n",
       " '인간': 241,\n",
       " '굿': 242,\n",
       " '밋': 243,\n",
       " '높': 244,\n",
       " '만드': 245,\n",
       " '눈물': 246,\n",
       " '급': 247,\n",
       " '준': 248,\n",
       " '보여': 249,\n",
       " '찍': 250,\n",
       " '인가': 251,\n",
       " '노': 252,\n",
       " '코미디': 253,\n",
       " '용': 254,\n",
       " '신': 255,\n",
       " '마': 256,\n",
       " '여': 257,\n",
       " '쓰': 258,\n",
       " '모든': 259,\n",
       " '추천': 260,\n",
       " '화': 261,\n",
       " '5': 262,\n",
       " '아직': 263,\n",
       " '처럼': 264,\n",
       " '아닌': 265,\n",
       " '눈': 266,\n",
       " '울': 267,\n",
       " '자체': 268,\n",
       " '몰입': 269,\n",
       " '4': 270,\n",
       " '대박': 271,\n",
       " '란': 272,\n",
       " '몇': 273,\n",
       " '스럽': 274,\n",
       " '실망': 275,\n",
       " '을까': 276,\n",
       " '는다': 277,\n",
       " '대한': 278,\n",
       " '그런': 279,\n",
       " '죠': 280,\n",
       " 'ㅎ': 281,\n",
       " '솔직히': 282,\n",
       " '캐릭터': 283,\n",
       " '모두': 284,\n",
       " '아주': 285,\n",
       " '건지': 286,\n",
       " '가족': 287,\n",
       " '여운': 288,\n",
       " '전혀': 289,\n",
       " '연기력': 290,\n",
       " '후': 291,\n",
       " '다면': 292,\n",
       " '될': 293,\n",
       " '뭔가': 294,\n",
       " '그래도': 295,\n",
       " '근데': 296,\n",
       " '시리즈': 297,\n",
       " '나라': 298,\n",
       " '작': 299,\n",
       " '표현': 300,\n",
       " '모습': 301,\n",
       " '계속': 302,\n",
       " '공감': 303,\n",
       " '먹': 304,\n",
       " '비': 305,\n",
       " '이랑': 306,\n",
       " '제목': 307,\n",
       " '7': 308,\n",
       " '극장': 309,\n",
       " '치': 310,\n",
       " '이걸': 311,\n",
       " '진': 312,\n",
       " '대사': 313,\n",
       " '바': 314,\n",
       " '그렇': 315,\n",
       " '부분': 316,\n",
       " '개봉': 317,\n",
       " '0': 318,\n",
       " 'OO': 319,\n",
       " '어디': 320,\n",
       " '작가': 321,\n",
       " '대단': 322,\n",
       " '된다': 323,\n",
       " '기분': 324,\n",
       " '아쉽': 325,\n",
       " '제': 326,\n",
       " '진심': 327,\n",
       " '구': 328,\n",
       " '타임': 329,\n",
       " '놓': 330,\n",
       " '봐야': 331,\n",
       " '보이': 332,\n",
       " '해도': 333,\n",
       " '웃기': 334,\n",
       " '막장': 335,\n",
       " '물': 336,\n",
       " '삶': 337,\n",
       " '이제': 338,\n",
       " '친구': 339,\n",
       " '잔잔': 340,\n",
       " '씬': 341,\n",
       " '조금': 342,\n",
       " '억지': 343,\n",
       " '가지': 344,\n",
       " '영상': 345,\n",
       " '찾': 346,\n",
       " '요즘': 347,\n",
       " '딱': 348,\n",
       " '라도': 349,\n",
       " '같이': 350,\n",
       " '스릴러': 351,\n",
       " '싫': 352,\n",
       " '믿': 353,\n",
       " '아까운': 354,\n",
       " '8': 355,\n",
       " '나왔': 356,\n",
       " '중간': 357,\n",
       " '긴장감': 358,\n",
       " '점수': 359,\n",
       " '개인': 360,\n",
       " '제대로': 361,\n",
       " '부족': 362,\n",
       " '이유': 363,\n",
       " '노래': 364,\n",
       " '만큼': 365,\n",
       " '어떻게': 366,\n",
       " '시작': 367,\n",
       " '라면': 368,\n",
       " '잇': 369,\n",
       " '구나': 370,\n",
       " '한테': 371,\n",
       " '특히': 372,\n",
       " '려고': 373,\n",
       " '날': 374,\n",
       " '제일': 375,\n",
       " '아름다운': 376,\n",
       " '니까': 377,\n",
       " '시대': 378,\n",
       " '엔딩': 379,\n",
       " '당시': 380,\n",
       " '나름': 381,\n",
       " '명': 382,\n",
       " '무섭': 383,\n",
       " '해요': 384,\n",
       " '나온': 385,\n",
       " '사': 386,\n",
       " '팬': 387,\n",
       " '오랜만': 388,\n",
       " '이것': 389,\n",
       " '봐': 390,\n",
       " '9': 391,\n",
       " '차라리': 392,\n",
       " '절대': 393,\n",
       " '세상': 394,\n",
       " '세': 395,\n",
       " '못하': 396,\n",
       " '의미': 397,\n",
       " '욕': 398,\n",
       " '봄': 399,\n",
       " '훌륭': 400,\n",
       " '감': 401,\n",
       " '너무나': 402,\n",
       " '강추': 403,\n",
       " '됨': 404,\n",
       " '따뜻': 405,\n",
       " '드': 406,\n",
       " '빼': 407,\n",
       " '느끼': 408,\n",
       " '던데': 409,\n",
       " '해야': 410,\n",
       " '뻔': 411,\n",
       " '글': 412,\n",
       " '도대체': 413,\n",
       " '마다': 414,\n",
       " '답답': 415,\n",
       " '어야': 416,\n",
       " '전쟁': 417,\n",
       " '놈': 418,\n",
       " '설정': 419,\n",
       " '무엇': 420,\n",
       " '흥미': 421,\n",
       " '수작': 422,\n",
       " '만화': 423,\n",
       " '준다': 424,\n",
       " '그저': 425,\n",
       " '감정': 426,\n",
       " '미국': 427,\n",
       " '행복': 428,\n",
       " '신선': 429,\n",
       " '앞': 430,\n",
       " '형': 431,\n",
       " '허접': 432,\n",
       " '시절': 433,\n",
       " '어도': 434,\n",
       " '관객': 435,\n",
       " '배경': 436,\n",
       " '6': 437,\n",
       " '사실': 438,\n",
       " '웃음': 439,\n",
       " '답': 440,\n",
       " '엄청': 441,\n",
       " '초반': 442,\n",
       " '질': 443,\n",
       " '더라': 444,\n",
       " '자신': 445,\n",
       " '추억': 446,\n",
       " '류': 447,\n",
       " '군': 448,\n",
       " '캐스팅': 449,\n",
       " '라니': 450,\n",
       " '첨': 451,\n",
       " '멋있': 452,\n",
       " '시나리오': 453,\n",
       " '슬프': 454,\n",
       " '어색': 455,\n",
       " '머': 456,\n",
       " '정신': 457,\n",
       " 'OOO': 458,\n",
       " '분위기': 459,\n",
       " '밖에': 460,\n",
       " '소름': 461,\n",
       " '멋진': 462,\n",
       " '오늘': 463,\n",
       " '힘들': 464,\n",
       " '간': 465,\n",
       " '어이없': 466,\n",
       " '집': 467,\n",
       " '잡': 468,\n",
       " '봐서': 469,\n",
       " '구성': 470,\n",
       " '엄마': 471,\n",
       " '이딴': 472,\n",
       " '함께': 473,\n",
       " '졸작': 474,\n",
       " '위해': 475,\n",
       " '잊': 476,\n",
       " '등': 477,\n",
       " '문제': 478,\n",
       " '킬링': 479,\n",
       " '유쾌': 480,\n",
       " '스러운': 481,\n",
       " '낫': 482,\n",
       " '제발': 483,\n",
       " '소리': 484,\n",
       " '결국': 485,\n",
       " '뭘': 486,\n",
       " '뭔': 487,\n",
       " '한데': 488,\n",
       " '20': 489,\n",
       " '역사': 490,\n",
       " '포스터': 491,\n",
       " '아무리': 492,\n",
       " '코믹': 493,\n",
       " '러': 494,\n",
       " '어떤': 495,\n",
       " '완벽': 496,\n",
       " '맘': 497,\n",
       " '얼마나': 498,\n",
       " '애니메이션': 499,\n",
       " '주연': 500,\n",
       " 'ㅅ': 501,\n",
       " '원': 502,\n",
       " '후회': 503,\n",
       " '버리': 504,\n",
       " '나요': 505,\n",
       " '뻔한': 506,\n",
       " '진부': 507,\n",
       " '나올': 508,\n",
       " '어릴': 509,\n",
       " '장난': 510,\n",
       " '보단': 511,\n",
       " '책': 512,\n",
       " '출연': 513,\n",
       " '됐': 514,\n",
       " '큰': 515,\n",
       " '더니': 516,\n",
       " '밖': 517,\n",
       " '보고': 518,\n",
       " '영화관': 519,\n",
       " '개연': 520,\n",
       " '둘': 521,\n",
       " '극': 522,\n",
       " '난다': 523,\n",
       " '여기': 524,\n",
       " '충격': 525,\n",
       " '평가': 526,\n",
       " '잔인': 527,\n",
       " '아름답': 528,\n",
       " '얘기': 529,\n",
       " '줬': 530,\n",
       " '예술': 531,\n",
       " '갈수록': 532,\n",
       " '꺼': 533,\n",
       " '매우': 534,\n",
       " '든': 535,\n",
       " '이리': 536,\n",
       " '위한': 537,\n",
       " '이후': 538,\n",
       " '이쁘': 539,\n",
       " '자기': 540,\n",
       " '불': 541,\n",
       " '얼굴': 542,\n",
       " '읽': 543,\n",
       " '티비': 544,\n",
       " '꽤': 545,\n",
       " '별점': 546,\n",
       " '옛날': 547,\n",
       " '깊': 548,\n",
       " '못한': 549,\n",
       " '반': 550,\n",
       " '겟': 551,\n",
       " '순수': 552,\n",
       " '불쌍': 553,\n",
       " '라서': 554,\n",
       " '시청': 555,\n",
       " '텐데': 556,\n",
       " '언제': 557,\n",
       " '봐라': 558,\n",
       " '건가': 559,\n",
       " '엇': 560,\n",
       " '배': 561,\n",
       " '으나': 562,\n",
       " '미': 563,\n",
       " '낭비': 564,\n",
       " '비디오': 565,\n",
       " '머리': 566,\n",
       " '장르': 567,\n",
       " '애니': 568,\n",
       " '그래서': 569,\n",
       " '다운': 570,\n",
       " '생각나': 571,\n",
       " '하지만': 572,\n",
       " '아님': 573,\n",
       " '주제': 574,\n",
       " '궁금': 575,\n",
       " '다큐': 576,\n",
       " '다음': 577,\n",
       " '시키': 578,\n",
       " '그렇게': 579,\n",
       " '누구': 580,\n",
       " '동안': 581,\n",
       " '예전': 582,\n",
       " '그만': 583,\n",
       " '시즌': 584,\n",
       " '뒤': 585,\n",
       " '상황': 586,\n",
       " '크': 587,\n",
       " '진정': 588,\n",
       " '그러': 589,\n",
       " '인상': 590,\n",
       " '이름': 591,\n",
       " '감사': 592,\n",
       " '미친': 593,\n",
       " '스릴': 594,\n",
       " '아무': 595,\n",
       " '너': 596,\n",
       " '오래': 597,\n",
       " 'B': 598,\n",
       " '본다': 599,\n",
       " '집중': 600,\n",
       " '어느': 601,\n",
       " '로맨스': 602,\n",
       " '방송': 603,\n",
       " '약간': 604,\n",
       " '나와서': 605,\n",
       " '까': 606,\n",
       " '그나마': 607,\n",
       " '식': 608,\n",
       " '마세요': 609,\n",
       " '존나': 610,\n",
       " '짜리': 611,\n",
       " '여주인공': 612,\n",
       " '소설': 613,\n",
       " '회': 614,\n",
       " '걸작': 615,\n",
       " '평': 616,\n",
       " '그대로': 617,\n",
       " '떨어지': 618,\n",
       " '인물': 619,\n",
       " '났': 620,\n",
       " '그것': 621,\n",
       " '힘': 622,\n",
       " '케': 623,\n",
       " '몰': 624,\n",
       " '죽이': 625,\n",
       " '해라': 626,\n",
       " '실화': 627,\n",
       " '꿈': 628,\n",
       " '에요': 629,\n",
       " '대체': 630,\n",
       " '훨씬': 631,\n",
       " '무': 632,\n",
       " '짓': 633,\n",
       " '사회': 634,\n",
       " '발연기': 635,\n",
       " '누가': 636,\n",
       " '만점': 637,\n",
       " '전체': 638,\n",
       " '비슷': 639,\n",
       " '엉성': 640,\n",
       " '막': 641,\n",
       " '30': 642,\n",
       " '끝나': 643,\n",
       " '왔': 644,\n",
       " 'CG': 645,\n",
       " '여주': 646,\n",
       " '햇': 647,\n",
       " '귀엽': 648,\n",
       " '단': 649,\n",
       " '중국': 650,\n",
       " '입': 651,\n",
       " '영상미': 652,\n",
       " '비교': 653,\n",
       " '초딩': 654,\n",
       " '네이버': 655,\n",
       " '감성': 656,\n",
       " '세계': 657,\n",
       " '여배우': 658,\n",
       " '구만': 659,\n",
       " '는가': 660,\n",
       " '나이': 661,\n",
       " '느껴': 662,\n",
       " 'ㅎㅎㅎ': 663,\n",
       " '순간': 664,\n",
       " '망': 665,\n",
       " '려는': 666,\n",
       " '상': 667,\n",
       " '대해': 668,\n",
       " '꿀': 669,\n",
       " '어렸': 670,\n",
       " '쯤': 671,\n",
       " '첫': 672,\n",
       " '돋': 673,\n",
       " '어설픈': 674,\n",
       " '더럽': 675,\n",
       " '갔': 676,\n",
       " '학교': 677,\n",
       " '판': 678,\n",
       " '생': 679,\n",
       " '아들': 680,\n",
       " '셨': 681,\n",
       " '성룡': 682,\n",
       " '100': 683,\n",
       " '혼자': 684,\n",
       " '아야': 685,\n",
       " '느낄': 686,\n",
       " '졸': 687,\n",
       " '가능': 688,\n",
       " '타': 689,\n",
       " '어린': 690,\n",
       " '바로': 691,\n",
       " '교훈': 692,\n",
       " '멋지': 693,\n",
       " '잘못': 694,\n",
       " '나가': 695,\n",
       " '맛': 696,\n",
       " '한마디': 697,\n",
       " '티': 698,\n",
       " '딸': 699,\n",
       " '길래': 700,\n",
       " '당신': 701,\n",
       " '화려': 702,\n",
       " '끌': 703,\n",
       " '존': 704,\n",
       " '판타지': 705,\n",
       " '잠': 706,\n",
       " '달': 707,\n",
       " '땜': 708,\n",
       " '맨': 709,\n",
       " '빨리': 710,\n",
       " '영': 711,\n",
       " '지루함': 712,\n",
       " '목소리': 713,\n",
       " '든다': 714,\n",
       " '초': 715,\n",
       " '똥': 716,\n",
       " '차': 717,\n",
       " '삼류': 718,\n",
       " '거의': 719,\n",
       " '나온다': 720,\n",
       " '듣': 721,\n",
       " '봤었': 722,\n",
       " '건데': 723,\n",
       " '전부': 724,\n",
       " '독특': 725,\n",
       " '위': 726,\n",
       " '다르': 727,\n",
       " 'ㅉㅉ': 728,\n",
       " '어른': 729,\n",
       " '한번': 730,\n",
       " '가치': 731,\n",
       " '률': 732,\n",
       " '상당히': 733,\n",
       " '씩': 734,\n",
       " '아까움': 735,\n",
       " '90': 736,\n",
       " '다만': 737,\n",
       " '아버지': 738,\n",
       " '당': 739,\n",
       " '질질': 740,\n",
       " 'ㅂ': 741,\n",
       " '스타일': 742,\n",
       " '넣': 743,\n",
       " '갑자기': 744,\n",
       " '줄거리': 745,\n",
       " 'ㄱ': 746,\n",
       " '이번': 747,\n",
       " '평론가': 748,\n",
       " '군요': 749,\n",
       " '저런': 750,\n",
       " '여러': 751,\n",
       " '허무': 752,\n",
       " '그러나': 753,\n",
       " '의도': 754,\n",
       " '존재': 755,\n",
       " '대로': 756,\n",
       " '밑': 757,\n",
       " '에선': 758,\n",
       " '째': 759,\n",
       " '각본': 760,\n",
       " '이러': 761,\n",
       " '성우': 762,\n",
       " '예상': 763,\n",
       " '너무너무': 764,\n",
       " '으면서': 765,\n",
       " '화면': 766,\n",
       " '그녀': 767,\n",
       " '버린': 768,\n",
       " '부': 769,\n",
       " '비해': 770,\n",
       " '떠나': 771,\n",
       " '자연': 772,\n",
       " '예쁘': 773,\n",
       " '그런지': 774,\n",
       " '스': 775,\n",
       " '담': 776,\n",
       " '슬픈': 777,\n",
       " '굉장히': 778,\n",
       " '관람': 779,\n",
       " '평범': 780,\n",
       " '뻔하': 781,\n",
       " '복수': 782,\n",
       " '단순': 783,\n",
       " '앗': 784,\n",
       " '돼': 785,\n",
       " '만나': 786,\n",
       " '줌': 787,\n",
       " '댓글': 788,\n",
       " '중요': 789,\n",
       " '낸': 790,\n",
       " '제작': 791,\n",
       " '갖': 792,\n",
       " '새로운': 793,\n",
       " '극장판': 794,\n",
       " '굳': 795,\n",
       " '피': 796,\n",
       " '일단': 797,\n",
       " '만족': 798,\n",
       " '선택': 799,\n",
       " '한편': 800,\n",
       " '못했': 801,\n",
       " '버렸': 802,\n",
       " '쉽': 803,\n",
       " '아빠': 804,\n",
       " '항상': 805,\n",
       " '쓴': 806,\n",
       " 'TV': 807,\n",
       " '요소': 808,\n",
       " '불편': 809,\n",
       " '나옴': 810,\n",
       " '연출력': 811,\n",
       " '거기': 812,\n",
       " '한다는': 813,\n",
       " '지나': 814,\n",
       " '그때': 815,\n",
       " '에로': 816,\n",
       " '롭': 817,\n",
       " '잃': 818,\n",
       " '탄탄': 819,\n",
       " '흥행': 820,\n",
       " '발': 821,\n",
       " '한심': 822,\n",
       " '려': 823,\n",
       " '예요': 824,\n",
       " '물론': 825,\n",
       " '거나': 826,\n",
       " '삼': 827,\n",
       " '조': 828,\n",
       " '산': 829,\n",
       " '점점': 830,\n",
       " '관계': 831,\n",
       " '진행': 832,\n",
       " '따라': 833,\n",
       " '전형': 834,\n",
       " '역대': 835,\n",
       " '따': 836,\n",
       " '이하': 837,\n",
       " '편집': 838,\n",
       " '충분히': 839,\n",
       " '총': 840,\n",
       " '멜': 841,\n",
       " '짧': 842,\n",
       " '법': 843,\n",
       " '던가': 844,\n",
       " '안타깝': 845,\n",
       " '에겐': 846,\n",
       " '아닌가': 847,\n",
       " '식상': 848,\n",
       " '도록': 849,\n",
       " '훈훈': 850,\n",
       " '자꾸': 851,\n",
       " '화이팅': 852,\n",
       " '미안': 853,\n",
       " '김': 854,\n",
       " '80': 855,\n",
       " '몰랐': 856,\n",
       " '게임': 857,\n",
       " '원래': 858,\n",
       " '장': 859,\n",
       " '잖아': 860,\n",
       " '아까워': 861,\n",
       " '곳': 862,\n",
       " '그게': 863,\n",
       " '구요': 864,\n",
       " '자극': 865,\n",
       " '풀': 866,\n",
       " '몸': 867,\n",
       " '손': 868,\n",
       " '어쩔': 869,\n",
       " '똑같': 870,\n",
       " '귀신': 871,\n",
       " '뭔지': 872,\n",
       " '나쁜': 873,\n",
       " '사건': 874,\n",
       " '그래픽': 875,\n",
       " '설명': 876,\n",
       " '간다': 877,\n",
       " '어울리': 878,\n",
       " '팔': 879,\n",
       " '짜': 880,\n",
       " '과거': 881,\n",
       " '노력': 882,\n",
       " '짐': 883,\n",
       " '도저히': 884,\n",
       " '상상': 885,\n",
       " '황당': 886,\n",
       " '아프': 887,\n",
       " '조차': 888,\n",
       " '닿': 889,\n",
       " '개그': 890,\n",
       " '됬': 891,\n",
       " '듬': 892,\n",
       " '취향': 893,\n",
       " '죽음': 894,\n",
       " '프랑스': 895,\n",
       " '홍콩': 896,\n",
       " '코메디': 897,\n",
       " '했었': 898,\n",
       " '무조건': 899,\n",
       " '미치': 900,\n",
       " '중반': 901,\n",
       " '역': 902,\n",
       " '빠': 903,\n",
       " '속편': 904,\n",
       " '빠져': 905,\n",
       " '간만에': 906,\n",
       " '소중': 907,\n",
       " '프로': 908,\n",
       " '리': 909,\n",
       " '무비': 910,\n",
       " '더빙': 911,\n",
       " '빙': 912,\n",
       " '아쉬운': 913,\n",
       " '좋아하': 914,\n",
       " '짱짱': 915,\n",
       " '나쁘': 916,\n",
       " '멋': 917,\n",
       " '상영': 918,\n",
       " '진지': 919,\n",
       " 'ㄴ': 920,\n",
       " '넘치': 921,\n",
       " '병맛': 922,\n",
       " '특유': 923,\n",
       " '괜히': 924,\n",
       " '빠지': 925,\n",
       " '척': 926,\n",
       " '끝내': 927,\n",
       " '쳐': 928,\n",
       " '더욱': 929,\n",
       " '결혼': 930,\n",
       " '참신': 931,\n",
       " '전설': 932,\n",
       " '또한': 933,\n",
       " '헐': 934,\n",
       " '유명': 935,\n",
       " 'ost': 936,\n",
       " '심리': 937,\n",
       " '무서운': 938,\n",
       " '엄청난': 939,\n",
       " '숨': 940,\n",
       " '예고편': 941,\n",
       " '오히려': 942,\n",
       " '후반부': 943,\n",
       " '틀': 944,\n",
       " '왕': 945,\n",
       " '연기자': 946,\n",
       " '아저씨': 947,\n",
       " '고자': 948,\n",
       " '심하': 949,\n",
       " '바보': 950,\n",
       " '촬영': 951,\n",
       " '조연': 952,\n",
       " '천재': 953,\n",
       " '최근': 954,\n",
       " '소녀': 955,\n",
       " '느꼈': 956,\n",
       " '아도': 957,\n",
       " '쩔': 958,\n",
       " '그리': 959,\n",
       " '로맨틱': 960,\n",
       " '비추': 961,\n",
       " '희망': 962,\n",
       " '으니': 963,\n",
       " '억지로': 964,\n",
       " '가볍': 965,\n",
       " '이란': 966,\n",
       " '새끼': 967,\n",
       " '는구나': 968,\n",
       " '마무리': 969,\n",
       " 'SF': 970,\n",
       " '표정': 971,\n",
       " '온': 972,\n",
       " '현재': 973,\n",
       " '전편': 974,\n",
       " '어라': 975,\n",
       " '힘든': 976,\n",
       " '아무것': 977,\n",
       " '로서': 978,\n",
       " '저질': 979,\n",
       " '동화': 980,\n",
       " '던지': 981,\n",
       " '부모': 982,\n",
       " '순': 983,\n",
       " '이야': 984,\n",
       " '대작': 985,\n",
       " '아쉬움': 986,\n",
       " '이래': 987,\n",
       " '흠': 988,\n",
       " '으': 989,\n",
       " '오빠': 990,\n",
       " '진실': 991,\n",
       " '노출': 992,\n",
       " '즐겁': 993,\n",
       " '우연히': 994,\n",
       " '서로': 995,\n",
       " '적당': 996,\n",
       " '빨': 997,\n",
       " '메세지': 998,\n",
       " '여성': 999,\n",
       " '이미': 1000,\n",
       " '그런데': 1001,\n",
       " '그림': 1002,\n",
       " ...}"
      ]
     },
     "execution_count": 54,
     "metadata": {},
     "output_type": "execute_result"
    }
   ],
   "source": [
    "word_to_index"
   ]
  },
  {
   "cell_type": "code",
   "execution_count": 55,
   "id": "79bfbd31",
   "metadata": {
    "scrolled": true
   },
   "outputs": [
    {
     "data": {
      "text/plain": [
       "array([ 1.87586527e-02, -2.91616861e-02, -2.00320296e-02,  4.80549224e-02,\n",
       "       -4.64905612e-02,  1.82736512e-05,  3.07295527e-02, -3.74986231e-03,\n",
       "        1.82349682e-02,  3.57452035e-02, -4.38800901e-02,  2.67890487e-02,\n",
       "       -3.25750932e-02,  2.52633654e-02,  1.16334716e-02, -2.47889776e-02,\n",
       "       -1.72875694e-03, -1.64814778e-02,  2.10837536e-02, -3.83780501e-03,\n",
       "        4.78179045e-02, -2.54159663e-02, -2.98091080e-02, -5.18589765e-02,\n",
       "        3.48485559e-02,  1.46036185e-02, -3.03494520e-02,  1.35493930e-02,\n",
       "        3.24948840e-02, -9.30166524e-03, -4.08736020e-02, -4.11469415e-02,\n",
       "       -1.66952182e-02,  5.84030943e-03, -1.48667470e-02,  9.59829427e-04,\n",
       "       -3.39156725e-02,  2.25021746e-02], dtype=float32)"
      ]
     },
     "execution_count": 55,
     "metadata": {},
     "output_type": "execute_result"
    }
   ],
   "source": [
    "vector = word_vectors['영화']\n",
    "vector"
   ]
  },
  {
   "cell_type": "code",
   "execution_count": 56,
   "id": "a4b8c9bc",
   "metadata": {},
   "outputs": [
    {
     "data": {
      "text/plain": [
       "[('심은하', 0.6053353548049927),\n",
       " ('차원', 0.559093713760376),\n",
       " ('간다고', 0.5295854210853577),\n",
       " ('거늘', 0.5033552050590515),\n",
       " ('메기', 0.4922638237476349),\n",
       " ('장소', 0.48905104398727417),\n",
       " ('넘길', 0.48435238003730774),\n",
       " ('으으으', 0.48420578241348267),\n",
       " ('탄생', 0.4786781668663025),\n",
       " ('마라', 0.473793625831604)]"
      ]
     },
     "execution_count": 56,
     "metadata": {},
     "output_type": "execute_result"
    }
   ],
   "source": [
    "word_vectors.similar_by_word(\"영화\")"
   ]
  },
  {
   "cell_type": "code",
   "execution_count": 57,
   "id": "5e85be24",
   "metadata": {
    "scrolled": true
   },
   "outputs": [
    {
     "data": {
      "text/plain": [
       "[('적어도', 0.6218013763427734),\n",
       " ('섬세', 0.6073476672172546),\n",
       " ('정점', 0.5957375168800354),\n",
       " ('편도', 0.591017484664917),\n",
       " ('평온', 0.5794827938079834),\n",
       " ('경이', 0.5695465803146362),\n",
       " ('흥미진진', 0.5666174292564392),\n",
       " ('한동안', 0.5598949193954468),\n",
       " ('최소', 0.5581011176109314),\n",
       " ('재발견', 0.5571665167808533)]"
      ]
     },
     "execution_count": 57,
     "metadata": {},
     "output_type": "execute_result"
    }
   ],
   "source": [
    "word_vectors.similar_by_word(\"참신\")"
   ]
  },
  {
   "cell_type": "code",
   "execution_count": 58,
   "id": "0ee69ce5",
   "metadata": {},
   "outputs": [
    {
     "data": {
      "text/plain": [
       "[('힙', 0.6319668889045715),\n",
       " ('끼리', 0.6080080270767212),\n",
       " ('싱겁', 0.5846025347709656),\n",
       " ('뽀로로', 0.55429607629776),\n",
       " ('죽도', 0.5469654202461243),\n",
       " ('김정훈', 0.541936993598938),\n",
       " ('멀', 0.530286967754364),\n",
       " ('앉', 0.5281303524971008),\n",
       " ('거슬린다', 0.522792637348175),\n",
       " ('저질', 0.5226380228996277)]"
      ]
     },
     "execution_count": 58,
     "metadata": {},
     "output_type": "execute_result"
    }
   ],
   "source": [
    "word_vectors.similar_by_word(\"호러\")"
   ]
  },
  {
   "cell_type": "markdown",
   "id": "a5392649",
   "metadata": {},
   "source": [
    "### 8 ) 한국어 Word2Vec 임베딩 활용하여 성능 개선"
   ]
  },
  {
   "cell_type": "code",
   "execution_count": 59,
   "id": "a368d9f5",
   "metadata": {},
   "outputs": [],
   "source": [
    "import os"
   ]
  },
  {
   "cell_type": "code",
   "execution_count": 60,
   "id": "82cc62fd",
   "metadata": {},
   "outputs": [],
   "source": [
    "from gensim.models.keyedvectors import Word2VecKeyedVectors\n",
    "word2vec_file_path = os.getenv('HOME') + '/data/word2vec_ko.model'\n",
    "word_vectors = Word2VecKeyedVectors(vector_size=38).load(word2vec_file_path)\n",
    "vector = word_vectors.wv['끝']"
   ]
  },
  {
   "cell_type": "code",
   "execution_count": 61,
   "id": "ef70810a",
   "metadata": {},
   "outputs": [],
   "source": [
    "word_vector_dim = 100 \n",
    "embedding_matrix = np.random.rand(10000, word_vector_dim)\n",
    "for i in range(4,10000):\n",
    "    if index_to_word[i] in word_vectors.wv:\n",
    "        embedding_matrix[i] = word_vectors.wv[index_to_word[i]]"
   ]
  },
  {
   "cell_type": "code",
   "execution_count": 62,
   "id": "0b6339da",
   "metadata": {},
   "outputs": [
    {
     "name": "stdout",
     "output_type": "stream",
     "text": [
      "Model: \"sequential_3\"\n",
      "_________________________________________________________________\n",
      "Layer (type)                 Output Shape              Param #   \n",
      "=================================================================\n",
      "embedding_3 (Embedding)      (None, None, 38)          380038    \n",
      "_________________________________________________________________\n",
      "lstm_3 (LSTM)                (None, 38)                11704     \n",
      "_________________________________________________________________\n",
      "dropout_6 (Dropout)          (None, 38)                0         \n",
      "_________________________________________________________________\n",
      "dense_9 (Dense)              (None, 128)               4992      \n",
      "_________________________________________________________________\n",
      "dropout_7 (Dropout)          (None, 128)               0         \n",
      "_________________________________________________________________\n",
      "dense_10 (Dense)             (None, 64)                8256      \n",
      "_________________________________________________________________\n",
      "dense_11 (Dense)             (None, 1)                 65        \n",
      "=================================================================\n",
      "Total params: 405,055\n",
      "Trainable params: 405,055\n",
      "Non-trainable params: 0\n",
      "_________________________________________________________________\n"
     ]
    }
   ],
   "source": [
    "vocab_size = len(word_to_index)\n",
    "word_vector_dim = 38\n",
    "\n",
    "tf.random.set_seed(2022)\n",
    "model = tf.keras.Sequential()\n",
    "model.add(tf.keras.layers.Embedding(vocab_size, word_vector_dim, input_shape=(None,)))\n",
    "model.add(tf.keras.layers.LSTM(38))\n",
    "model.add(tf.keras.layers.Dropout(0.1))\n",
    "model.add(tf.keras.layers.Dense(128, activation='relu'))\n",
    "model.add(tf.keras.layers.Dropout(0.1))\n",
    "model.add(tf.keras.layers.Dense(64, activation='relu'))\n",
    "model.add(tf.keras.layers.Dense(1, activation='sigmoid'))\n",
    "\n",
    "model.summary()"
   ]
  },
  {
   "cell_type": "code",
   "execution_count": 63,
   "id": "74306ce0",
   "metadata": {},
   "outputs": [],
   "source": [
    "from tensorflow.keras.initializers import Constant"
   ]
  },
  {
   "cell_type": "code",
   "execution_count": 64,
   "id": "43ad8aee",
   "metadata": {},
   "outputs": [
    {
     "data": {
      "text/plain": [
       "(10000, 100)"
      ]
     },
     "execution_count": 64,
     "metadata": {},
     "output_type": "execute_result"
    }
   ],
   "source": [
    "embedding_matrix.shape"
   ]
  },
  {
   "cell_type": "code",
   "execution_count": 65,
   "id": "342193f8",
   "metadata": {},
   "outputs": [
    {
     "name": "stdout",
     "output_type": "stream",
     "text": [
      "Model: \"sequential_4\"\n",
      "_________________________________________________________________\n",
      "Layer (type)                 Output Shape              Param #   \n",
      "=================================================================\n",
      "embedding_4 (Embedding)      (None, 38, 100)           1000000   \n",
      "_________________________________________________________________\n",
      "lstm_4 (LSTM)                (None, 38)                21128     \n",
      "_________________________________________________________________\n",
      "dense_12 (Dense)             (None, 64)                2496      \n",
      "_________________________________________________________________\n",
      "dropout_8 (Dropout)          (None, 64)                0         \n",
      "_________________________________________________________________\n",
      "dense_13 (Dense)             (None, 1)                 65        \n",
      "=================================================================\n",
      "Total params: 1,023,689\n",
      "Trainable params: 1,023,689\n",
      "Non-trainable params: 0\n",
      "_________________________________________________________________\n"
     ]
    }
   ],
   "source": [
    "vocab_size = len(word_to_index)\n",
    "word_vector_dim = 38\n",
    "\n",
    "tf.random.set_seed(2022)\n",
    "model = tf.keras.Sequential()\n",
    "model.add(tf.keras.layers.Embedding(10000, 100, \n",
    "                                 embeddings_initializer=Constant(embedding_matrix),\n",
    "                                 input_length=maxlen, \n",
    "                                 trainable=True))\n",
    "model.add(tf.keras.layers.LSTM(38))\n",
    "model.add(tf.keras.layers.Dense(64, activation='relu'))\n",
    "model.add(tf.keras.layers.Dropout(0.3))\n",
    "model.add(tf.keras.layers.Dense(1, activation='sigmoid'))\n",
    "\n",
    "model.summary()"
   ]
  },
  {
   "cell_type": "code",
   "execution_count": 66,
   "id": "fd815ac1",
   "metadata": {},
   "outputs": [
    {
     "name": "stdout",
     "output_type": "stream",
     "text": [
      "(136182, 38)\n",
      "(136182,)\n"
     ]
    }
   ],
   "source": [
    "x_val = x_train[:10000]   \n",
    "y_val = y_train[:10000]\n",
    "\n",
    "partial_x_train = x_train[10000:]  \n",
    "partial_y_train = y_train[10000:]\n",
    "\n",
    "print(partial_x_train.shape)\n",
    "print(partial_y_train.shape)"
   ]
  },
  {
   "cell_type": "code",
   "execution_count": 67,
   "id": "d837276a",
   "metadata": {},
   "outputs": [
    {
     "name": "stdout",
     "output_type": "stream",
     "text": [
      "Epoch 1/45\n",
      "266/266 [==============================] - 4s 8ms/step - loss: 0.6505 - accuracy: 0.6201 - val_loss: 0.5909 - val_accuracy: 0.6988\n",
      "Epoch 2/45\n",
      "266/266 [==============================] - 2s 6ms/step - loss: 0.5499 - accuracy: 0.7252 - val_loss: 0.5082 - val_accuracy: 0.7554\n",
      "Epoch 3/45\n",
      "266/266 [==============================] - 2s 6ms/step - loss: 0.4970 - accuracy: 0.7618 - val_loss: 0.4734 - val_accuracy: 0.7789\n",
      "Epoch 4/45\n",
      "266/266 [==============================] - 2s 6ms/step - loss: 0.4673 - accuracy: 0.7817 - val_loss: 0.4509 - val_accuracy: 0.7906\n",
      "Epoch 5/45\n",
      "266/266 [==============================] - 2s 7ms/step - loss: 0.4454 - accuracy: 0.7947 - val_loss: 0.4331 - val_accuracy: 0.7997\n",
      "Epoch 6/45\n",
      "266/266 [==============================] - 2s 7ms/step - loss: 0.4299 - accuracy: 0.8048 - val_loss: 0.4187 - val_accuracy: 0.8080\n",
      "Epoch 7/45\n",
      "266/266 [==============================] - 2s 6ms/step - loss: 0.4153 - accuracy: 0.8124 - val_loss: 0.4068 - val_accuracy: 0.8157\n",
      "Epoch 8/45\n",
      "266/266 [==============================] - 2s 6ms/step - loss: 0.4031 - accuracy: 0.8196 - val_loss: 0.3975 - val_accuracy: 0.8211\n",
      "Epoch 9/45\n",
      "266/266 [==============================] - 2s 6ms/step - loss: 0.3920 - accuracy: 0.8250 - val_loss: 0.3901 - val_accuracy: 0.8258\n",
      "Epoch 10/45\n",
      "266/266 [==============================] - 2s 6ms/step - loss: 0.3826 - accuracy: 0.8304 - val_loss: 0.3816 - val_accuracy: 0.8298\n",
      "Epoch 11/45\n",
      "266/266 [==============================] - 2s 6ms/step - loss: 0.3751 - accuracy: 0.8347 - val_loss: 0.3754 - val_accuracy: 0.8348\n",
      "Epoch 12/45\n",
      "266/266 [==============================] - 2s 6ms/step - loss: 0.3675 - accuracy: 0.8383 - val_loss: 0.3707 - val_accuracy: 0.8350\n",
      "Epoch 13/45\n",
      "266/266 [==============================] - 2s 6ms/step - loss: 0.3599 - accuracy: 0.8420 - val_loss: 0.3661 - val_accuracy: 0.8362\n",
      "Epoch 14/45\n",
      "266/266 [==============================] - 2s 7ms/step - loss: 0.3538 - accuracy: 0.8456 - val_loss: 0.3610 - val_accuracy: 0.8407\n",
      "Epoch 15/45\n",
      "266/266 [==============================] - 2s 7ms/step - loss: 0.3474 - accuracy: 0.8490 - val_loss: 0.3582 - val_accuracy: 0.8423\n",
      "Epoch 16/45\n",
      "266/266 [==============================] - 2s 6ms/step - loss: 0.3424 - accuracy: 0.8521 - val_loss: 0.3566 - val_accuracy: 0.8431\n",
      "Epoch 17/45\n",
      "266/266 [==============================] - 2s 6ms/step - loss: 0.3374 - accuracy: 0.8541 - val_loss: 0.3519 - val_accuracy: 0.8452\n",
      "Epoch 18/45\n",
      "266/266 [==============================] - 2s 6ms/step - loss: 0.3323 - accuracy: 0.8566 - val_loss: 0.3500 - val_accuracy: 0.8466\n",
      "Epoch 19/45\n",
      "266/266 [==============================] - 2s 6ms/step - loss: 0.3280 - accuracy: 0.8589 - val_loss: 0.3479 - val_accuracy: 0.8478\n",
      "Epoch 20/45\n",
      "266/266 [==============================] - 2s 7ms/step - loss: 0.3237 - accuracy: 0.8614 - val_loss: 0.3457 - val_accuracy: 0.8489\n",
      "Epoch 21/45\n",
      "266/266 [==============================] - 2s 7ms/step - loss: 0.3198 - accuracy: 0.8639 - val_loss: 0.3447 - val_accuracy: 0.8503\n",
      "Epoch 22/45\n",
      "266/266 [==============================] - 2s 7ms/step - loss: 0.3158 - accuracy: 0.8660 - val_loss: 0.3429 - val_accuracy: 0.8499\n",
      "Epoch 23/45\n",
      "266/266 [==============================] - 2s 7ms/step - loss: 0.3137 - accuracy: 0.8670 - val_loss: 0.3421 - val_accuracy: 0.8528\n",
      "Epoch 24/45\n",
      "266/266 [==============================] - 2s 6ms/step - loss: 0.3087 - accuracy: 0.8701 - val_loss: 0.3412 - val_accuracy: 0.8533\n",
      "Epoch 25/45\n",
      "266/266 [==============================] - 2s 6ms/step - loss: 0.3063 - accuracy: 0.8707 - val_loss: 0.3391 - val_accuracy: 0.8523\n",
      "Epoch 26/45\n",
      "266/266 [==============================] - 2s 6ms/step - loss: 0.3028 - accuracy: 0.8724 - val_loss: 0.3395 - val_accuracy: 0.8532\n",
      "Epoch 27/45\n",
      "266/266 [==============================] - 2s 6ms/step - loss: 0.3001 - accuracy: 0.8738 - val_loss: 0.3382 - val_accuracy: 0.8529\n",
      "Epoch 28/45\n",
      "266/266 [==============================] - 2s 6ms/step - loss: 0.2969 - accuracy: 0.8754 - val_loss: 0.3382 - val_accuracy: 0.8556\n",
      "Epoch 29/45\n",
      "266/266 [==============================] - 2s 6ms/step - loss: 0.2940 - accuracy: 0.8766 - val_loss: 0.3380 - val_accuracy: 0.8544\n",
      "Epoch 30/45\n",
      "266/266 [==============================] - 2s 6ms/step - loss: 0.2920 - accuracy: 0.8774 - val_loss: 0.3374 - val_accuracy: 0.8539\n",
      "Epoch 31/45\n",
      "266/266 [==============================] - 2s 6ms/step - loss: 0.2889 - accuracy: 0.8797 - val_loss: 0.3362 - val_accuracy: 0.8561\n",
      "Epoch 32/45\n",
      "266/266 [==============================] - 2s 7ms/step - loss: 0.2866 - accuracy: 0.8807 - val_loss: 0.3396 - val_accuracy: 0.8551\n",
      "Epoch 33/45\n",
      "266/266 [==============================] - 2s 6ms/step - loss: 0.2844 - accuracy: 0.8817 - val_loss: 0.3366 - val_accuracy: 0.8560\n",
      "Epoch 34/45\n",
      "266/266 [==============================] - 2s 6ms/step - loss: 0.2817 - accuracy: 0.8829 - val_loss: 0.3395 - val_accuracy: 0.8540\n",
      "Epoch 35/45\n",
      "266/266 [==============================] - 2s 6ms/step - loss: 0.2794 - accuracy: 0.8844 - val_loss: 0.3380 - val_accuracy: 0.8575\n",
      "Epoch 36/45\n",
      "266/266 [==============================] - 2s 6ms/step - loss: 0.2772 - accuracy: 0.8855 - val_loss: 0.3390 - val_accuracy: 0.8578\n",
      "Epoch 37/45\n",
      "266/266 [==============================] - 2s 6ms/step - loss: 0.2753 - accuracy: 0.8864 - val_loss: 0.3387 - val_accuracy: 0.8572\n",
      "Epoch 38/45\n",
      "266/266 [==============================] - 2s 6ms/step - loss: 0.2726 - accuracy: 0.8875 - val_loss: 0.3399 - val_accuracy: 0.8564\n",
      "Epoch 39/45\n",
      "266/266 [==============================] - 2s 6ms/step - loss: 0.2702 - accuracy: 0.8890 - val_loss: 0.3435 - val_accuracy: 0.8568\n",
      "Epoch 40/45\n",
      "266/266 [==============================] - 2s 6ms/step - loss: 0.2683 - accuracy: 0.8899 - val_loss: 0.3397 - val_accuracy: 0.8567\n",
      "Epoch 41/45\n",
      "266/266 [==============================] - 2s 7ms/step - loss: 0.2666 - accuracy: 0.8910 - val_loss: 0.3397 - val_accuracy: 0.8583\n",
      "Epoch 42/45\n",
      "266/266 [==============================] - 2s 7ms/step - loss: 0.2650 - accuracy: 0.8917 - val_loss: 0.3406 - val_accuracy: 0.8571\n",
      "Epoch 43/45\n",
      "266/266 [==============================] - 2s 6ms/step - loss: 0.2627 - accuracy: 0.8927 - val_loss: 0.3419 - val_accuracy: 0.8594\n",
      "Epoch 44/45\n",
      "266/266 [==============================] - 2s 6ms/step - loss: 0.2599 - accuracy: 0.8941 - val_loss: 0.3416 - val_accuracy: 0.8576\n",
      "Epoch 45/45\n",
      "266/266 [==============================] - 2s 6ms/step - loss: 0.2587 - accuracy: 0.8947 - val_loss: 0.3425 - val_accuracy: 0.8592\n"
     ]
    }
   ],
   "source": [
    "opt = tf.keras.optimizers.Adam(learning_rate=1e-4)\n",
    "model.compile(optimizer=opt,\n",
    "              loss='binary_crossentropy',\n",
    "              metrics=['accuracy'])\n",
    "              \n",
    "epochs=45  \n",
    "\n",
    "history = model.fit(partial_x_train,\n",
    "                    partial_y_train,\n",
    "                    epochs=epochs,\n",
    "                    batch_size=512,\n",
    "                    validation_data=(x_val, y_val),\n",
    "                    verbose=1)"
   ]
  },
  {
   "cell_type": "code",
   "execution_count": 68,
   "id": "7497f2f3",
   "metadata": {
    "scrolled": true
   },
   "outputs": [
    {
     "name": "stdout",
     "output_type": "stream",
     "text": [
      "1537/1537 - 3s - loss: 0.3519 - accuracy: 0.8525\n",
      "[0.35187575221061707, 0.8525133728981018]\n"
     ]
    }
   ],
   "source": [
    "results = model.evaluate(x_test,  y_test, verbose=2)\n",
    "\n",
    "print(results)"
   ]
  },
  {
   "cell_type": "code",
   "execution_count": 69,
   "id": "837cefa5",
   "metadata": {},
   "outputs": [
    {
     "name": "stdout",
     "output_type": "stream",
     "text": [
      "dict_keys(['loss', 'accuracy', 'val_loss', 'val_accuracy'])\n"
     ]
    }
   ],
   "source": [
    "history_dict = history.history\n",
    "print(history_dict.keys()) "
   ]
  },
  {
   "cell_type": "code",
   "execution_count": 70,
   "id": "a91494c5",
   "metadata": {},
   "outputs": [
    {
     "data": {
      "image/png": "[encoded data removed]",
      "text/plain": [
       "<Figure size 432x288 with 1 Axes>"
      ]
     },
     "metadata": {
      "needs_background": "light"
     },
     "output_type": "display_data"
    }
   ],
   "source": [
    "import matplotlib.pyplot as plt\n",
    "\n",
    "acc = history_dict['accuracy']\n",
    "val_acc = history_dict['val_accuracy']\n",
    "loss = history_dict['loss']\n",
    "val_loss = history_dict['val_loss']\n",
    "\n",
    "epochs = range(1, len(acc) + 1)\n",
    "\n",
    "plt.plot(epochs, loss, color='red', label='Training loss')\n",
    "plt.plot(epochs, val_loss, color='blue', label='Validation loss')\n",
    "plt.title('Training and validation loss')\n",
    "plt.xlabel('Epochs')\n",
    "plt.ylabel('Loss')\n",
    "plt.legend()\n",
    "\n",
    "plt.show()"
   ]
  },
  {
   "cell_type": "code",
   "execution_count": 71,
   "id": "e775613e",
   "metadata": {
    "scrolled": true
   },
   "outputs": [
    {
     "data": {
      "image/png": "[encoded data removed]",
      "text/plain": [
       "<Figure size 432x288 with 1 Axes>"
      ]
     },
     "metadata": {
      "needs_background": "light"
     },
     "output_type": "display_data"
    }
   ],
   "source": [
    "plt.clf()\n",
    "\n",
    "plt.plot(epochs, acc, color='red', label='Training acc')\n",
    "plt.plot(epochs, val_acc, color='blue', label='Validation acc')\n",
    "plt.title('Training and validation accuracy')\n",
    "plt.xlabel('Epochs')\n",
    "plt.ylabel('Accuracy')\n",
    "plt.legend()\n",
    "\n",
    "plt.show()"
   ]
  },
  {
   "cell_type": "markdown",
   "id": "c6ae8df2",
   "metadata": {},
   "source": [
    "### 9 ) 회고"
   ]
  },
  {
   "cell_type": "markdown",
   "id": "2add8bf4",
   "metadata": {},
   "source": [
    "#### NLP는 전처리 과정이 꽤나 많이 존재하고, 성능이 이에 상당히 의존하는 듯 보였다. 따라서, NLP 임베딩과정에 대해서 더욱 공부해 볼 계획이다.\n",
    "\n",
    "#### Mecab을 사용했을 때, '더빙'이라는 단어가 '더'와 '빙'으로 나뉘었다. 물론 모든 단어를 커버할 순 없겠지만, 약간의 아쉬움이 있었고, 다른 토크나이저의 종류를 찾아보고 내 데이터셋에 알맞은 토크나이저를 선택하는 것이 중요한 것 같다."
   ]
  },
  {
   "cell_type": "code",
   "execution_count": null,
   "id": "87a3b676",
   "metadata": {},
   "outputs": [],
   "source": []
  }
 ],
 "metadata": {
  "kernelspec": {
   "display_name": "Python 3 (ipykernel)",
   "language": "python",
   "name": "python3"
  },
  "language_info": {
   "codemirror_mode": {
    "name": "ipython",
    "version": 3
   },
   "file_extension": ".py",
   "mimetype": "text/x-python",
   "name": "python",
   "nbconvert_exporter": "python",
   "pygments_lexer": "ipython3",
   "version": "3.9.7"
  }
 },
 "nbformat": 4,
 "nbformat_minor": 5
}
