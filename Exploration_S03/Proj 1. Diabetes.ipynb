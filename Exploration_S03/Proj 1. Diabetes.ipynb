{
 "cells": [
  {
   "cell_type": "markdown",
   "id": "6b80fd57",
   "metadata": {},
   "source": [
    "### ( 1 ) 데이터 가져오기"
   ]
  },
  {
   "cell_type": "code",
   "execution_count": 1,
   "id": "714d65ce",
   "metadata": {},
   "outputs": [],
   "source": [
    "import numpy as np\n",
    "import pandas as pd\n",
    "import matplotlib.pyplot as plt\n",
    "\n",
    "from sklearn.datasets import load_diabetes"
   ]
  },
  {
   "cell_type": "code",
   "execution_count": 2,
   "id": "47774b6c",
   "metadata": {},
   "outputs": [],
   "source": [
    "diabetes = load_diabetes()"
   ]
  },
  {
   "cell_type": "code",
   "execution_count": 3,
   "id": "6860e420",
   "metadata": {},
   "outputs": [],
   "source": [
    "df_X = diabetes.data"
   ]
  },
  {
   "cell_type": "code",
   "execution_count": 4,
   "id": "d446bb9a",
   "metadata": {},
   "outputs": [
    {
     "data": {
      "text/plain": [
       "((442, 10), numpy.ndarray)"
      ]
     },
     "execution_count": 4,
     "metadata": {},
     "output_type": "execute_result"
    }
   ],
   "source": [
    "df_X.shape, type(df_X)"
   ]
  },
  {
   "cell_type": "code",
   "execution_count": 5,
   "id": "473905aa",
   "metadata": {},
   "outputs": [],
   "source": [
    "df_y = diabetes.target"
   ]
  },
  {
   "cell_type": "code",
   "execution_count": 6,
   "id": "8dbb0a21",
   "metadata": {
    "scrolled": true
   },
   "outputs": [
    {
     "data": {
      "text/plain": [
       "((442,), numpy.ndarray)"
      ]
     },
     "execution_count": 6,
     "metadata": {},
     "output_type": "execute_result"
    }
   ],
   "source": [
    "df_y.shape, type(df_y)"
   ]
  },
  {
   "cell_type": "markdown",
   "id": "7de88fc3",
   "metadata": {},
   "source": [
    "### ( 2 ) 모델에 입력할 데이터 X 준비하기 "
   ]
  },
  {
   "cell_type": "code",
   "execution_count": 7,
   "id": "97dd8c56",
   "metadata": {},
   "outputs": [],
   "source": [
    "df_X = np.array(df_X)"
   ]
  },
  {
   "cell_type": "code",
   "execution_count": 8,
   "id": "402c84a6",
   "metadata": {},
   "outputs": [
    {
     "data": {
      "text/plain": [
       "numpy.ndarray"
      ]
     },
     "execution_count": 8,
     "metadata": {},
     "output_type": "execute_result"
    }
   ],
   "source": [
    "type(df_X)"
   ]
  },
  {
   "cell_type": "markdown",
   "id": "05f9bbc3",
   "metadata": {},
   "source": [
    "### ( 3 ) 모델에 예측할 데이터 y 준비하기"
   ]
  },
  {
   "cell_type": "code",
   "execution_count": 9,
   "id": "91a6198e",
   "metadata": {},
   "outputs": [],
   "source": [
    "df_y = np.array(df_y)"
   ]
  },
  {
   "cell_type": "code",
   "execution_count": 10,
   "id": "87b363a3",
   "metadata": {},
   "outputs": [
    {
     "data": {
      "text/plain": [
       "numpy.ndarray"
      ]
     },
     "execution_count": 10,
     "metadata": {},
     "output_type": "execute_result"
    }
   ],
   "source": [
    "type(df_y)"
   ]
  },
  {
   "cell_type": "markdown",
   "id": "673b23d2",
   "metadata": {},
   "source": [
    "### ( 4 ) train 데이터와 test 데이터로 분리하기"
   ]
  },
  {
   "cell_type": "code",
   "execution_count": 11,
   "id": "8aadd04f",
   "metadata": {},
   "outputs": [],
   "source": [
    "from sklearn.model_selection import train_test_split"
   ]
  },
  {
   "cell_type": "code",
   "execution_count": 12,
   "id": "96b9b792",
   "metadata": {},
   "outputs": [],
   "source": [
    "X_train, X_test, y_train, y_test = train_test_split(df_X, df_y, test_size = 0.2, random_state = 32)"
   ]
  },
  {
   "cell_type": "markdown",
   "id": "8a55da08",
   "metadata": {},
   "source": [
    "### ( 5 ) 모델 준비하기"
   ]
  },
  {
   "cell_type": "code",
   "execution_count": 13,
   "id": "2fa3af5a",
   "metadata": {},
   "outputs": [],
   "source": [
    "np.random.seed(10)\n",
    "w = np.random.rand((df_X.shape[1]))\n",
    "b = np.random.rand((1))"
   ]
  },
  {
   "cell_type": "code",
   "execution_count": 14,
   "id": "728414a1",
   "metadata": {},
   "outputs": [
    {
     "data": {
      "text/plain": [
       "((10,), (1,))"
      ]
     },
     "execution_count": 14,
     "metadata": {},
     "output_type": "execute_result"
    }
   ],
   "source": [
    "w.shape, b.shape"
   ]
  },
  {
   "cell_type": "code",
   "execution_count": 15,
   "id": "0bff2110",
   "metadata": {},
   "outputs": [
    {
     "data": {
      "text/plain": [
       "array([0.77132064, 0.02075195, 0.63364823, 0.74880388, 0.49850701,\n",
       "       0.22479665, 0.19806286, 0.76053071, 0.16911084, 0.08833981])"
      ]
     },
     "execution_count": 15,
     "metadata": {},
     "output_type": "execute_result"
    }
   ],
   "source": [
    "w"
   ]
  },
  {
   "cell_type": "code",
   "execution_count": 16,
   "id": "cd5df4dd",
   "metadata": {
    "scrolled": true
   },
   "outputs": [
    {
     "data": {
      "text/plain": [
       "array([0.68535982])"
      ]
     },
     "execution_count": 16,
     "metadata": {},
     "output_type": "execute_result"
    }
   ],
   "source": [
    "b"
   ]
  },
  {
   "cell_type": "code",
   "execution_count": 17,
   "id": "d50b91ed",
   "metadata": {},
   "outputs": [],
   "source": [
    "def model(w, b, x):\n",
    "    y = np.dot(x, w) + b\n",
    "    return y"
   ]
  },
  {
   "cell_type": "markdown",
   "id": "9b76b42d",
   "metadata": {},
   "source": [
    "### ( 6 ) 손실함수 loss 정의하기"
   ]
  },
  {
   "cell_type": "code",
   "execution_count": 18,
   "id": "09bc2972",
   "metadata": {},
   "outputs": [],
   "source": [
    "def MSE(y_pred, y_true):\n",
    "    loss = np.mean((y_true - y_pred) ** 2)\n",
    "    return loss"
   ]
  },
  {
   "cell_type": "code",
   "execution_count": 19,
   "id": "04ae380a",
   "metadata": {},
   "outputs": [
    {
     "data": {
      "text/plain": [
       "28856.38666849961"
      ]
     },
     "execution_count": 19,
     "metadata": {},
     "output_type": "execute_result"
    }
   ],
   "source": [
    "MSE(model(w, b, df_X), df_y)"
   ]
  },
  {
   "cell_type": "markdown",
   "id": "c9f238b0",
   "metadata": {},
   "source": [
    "### ( 7 ) 기울기를 구하는 gradient 함수 구현하기"
   ]
  },
  {
   "cell_type": "code",
   "execution_count": 20,
   "id": "c0aa95a4",
   "metadata": {},
   "outputs": [],
   "source": [
    "def gradient_descent(w, b, x, y, lr = 0.1):\n",
    "    N = len(w)\n",
    "    y_pred = model(w, b, x)\n",
    "    \n",
    "    dw = 1/N * 2 * np.dot(x.T,(y_pred - y))\n",
    "    db = 2 * (y_pred - y).mean()\n",
    "    \n",
    "    w = w - dw * lr\n",
    "    b = b - db * lr\n",
    "    \n",
    "    return w, b"
   ]
  },
  {
   "cell_type": "markdown",
   "id": "d885c95e",
   "metadata": {},
   "source": [
    "### ( 8 ) 하이퍼 파라미터인 학습률 설정하기"
   ]
  },
  {
   "cell_type": "code",
   "execution_count": 21,
   "id": "fae99ea9",
   "metadata": {},
   "outputs": [],
   "source": [
    "lr = 1e-2"
   ]
  },
  {
   "cell_type": "markdown",
   "id": "3ce1a10f",
   "metadata": {},
   "source": [
    "### ( 9 ) 모델 학습하기 & ( 10 ) test 데이터에 대한 성능 확인하기"
   ]
  },
  {
   "cell_type": "code",
   "execution_count": 22,
   "id": "5dc328c9",
   "metadata": {},
   "outputs": [
    {
     "name": "stdout",
     "output_type": "stream",
     "text": [
      "Epoch : 0, Train_loss : 28527.04, Test_loss : 25471.25\n",
      "Epoch : 100, Train_loss : 4755.40, Test_loss : 3783.85\n",
      "Epoch : 200, Train_loss : 3725.59, Test_loss : 3162.29\n",
      "Epoch : 300, Train_loss : 3425.47, Test_loss : 3009.36\n",
      "Epoch : 400, Train_loss : 3263.73, Test_loss : 2928.67\n",
      "Epoch : 500, Train_loss : 3162.52, Test_loss : 2880.60\n",
      "Epoch : 600, Train_loss : 3094.54, Test_loss : 2849.90\n",
      "Epoch : 700, Train_loss : 3047.23, Test_loss : 2829.70\n",
      "Epoch : 800, Train_loss : 3013.66, Test_loss : 2816.38\n",
      "Epoch : 900, Train_loss : 2989.56, Test_loss : 2807.72\n",
      "Epoch : 1000, Train_loss : 2972.08, Test_loss : 2802.21\n",
      "Epoch : 1100, Train_loss : 2959.32, Test_loss : 2798.84\n",
      "Epoch : 1200, Train_loss : 2949.92, Test_loss : 2796.90\n",
      "Epoch : 1300, Train_loss : 2942.96, Test_loss : 2795.90\n",
      "Epoch : 1400, Train_loss : 2937.76, Test_loss : 2795.50\n",
      "Epoch : 1500, Train_loss : 2933.85, Test_loss : 2795.48\n",
      "Epoch : 1600, Train_loss : 2930.88, Test_loss : 2795.67\n",
      "Epoch : 1700, Train_loss : 2928.62, Test_loss : 2795.98\n",
      "Epoch : 1800, Train_loss : 2926.88, Test_loss : 2796.34\n",
      "Epoch : 1900, Train_loss : 2925.53, Test_loss : 2796.71\n",
      "Epoch : 2000, Train_loss : 2924.47, Test_loss : 2797.06\n",
      "Epoch : 2100, Train_loss : 2923.63, Test_loss : 2797.39\n",
      "Epoch : 2200, Train_loss : 2922.96, Test_loss : 2797.68\n",
      "Epoch : 2300, Train_loss : 2922.42, Test_loss : 2797.93\n",
      "Epoch : 2400, Train_loss : 2921.98, Test_loss : 2798.14\n",
      "Epoch : 2500, Train_loss : 2921.62, Test_loss : 2798.31\n",
      "Epoch : 2600, Train_loss : 2921.32, Test_loss : 2798.46\n",
      "Epoch : 2700, Train_loss : 2921.06, Test_loss : 2798.57\n",
      "Epoch : 2800, Train_loss : 2920.84, Test_loss : 2798.65\n",
      "Epoch : 2900, Train_loss : 2920.65, Test_loss : 2798.72\n",
      "Epoch : 3000, Train_loss : 2920.48, Test_loss : 2798.76\n",
      "Epoch : 3100, Train_loss : 2920.33, Test_loss : 2798.79\n",
      "Epoch : 3200, Train_loss : 2920.19, Test_loss : 2798.80\n",
      "Epoch : 3300, Train_loss : 2920.07, Test_loss : 2798.80\n",
      "Epoch : 3400, Train_loss : 2919.96, Test_loss : 2798.79\n",
      "Epoch : 3500, Train_loss : 2919.85, Test_loss : 2798.77\n",
      "Epoch : 3600, Train_loss : 2919.75, Test_loss : 2798.75\n",
      "Epoch : 3700, Train_loss : 2919.66, Test_loss : 2798.71\n",
      "Epoch : 3800, Train_loss : 2919.57, Test_loss : 2798.68\n",
      "Epoch : 3900, Train_loss : 2919.48, Test_loss : 2798.64\n",
      "Epoch : 4000, Train_loss : 2919.40, Test_loss : 2798.59\n",
      "Epoch : 4100, Train_loss : 2919.32, Test_loss : 2798.54\n",
      "Epoch : 4200, Train_loss : 2919.24, Test_loss : 2798.50\n",
      "Epoch : 4300, Train_loss : 2919.16, Test_loss : 2798.44\n",
      "Epoch : 4400, Train_loss : 2919.09, Test_loss : 2798.39\n",
      "Epoch : 4500, Train_loss : 2919.02, Test_loss : 2798.34\n",
      "Epoch : 4600, Train_loss : 2918.94, Test_loss : 2798.29\n",
      "Epoch : 4700, Train_loss : 2918.87, Test_loss : 2798.23\n",
      "Epoch : 4800, Train_loss : 2918.80, Test_loss : 2798.18\n",
      "Epoch : 4900, Train_loss : 2918.73, Test_loss : 2798.12\n",
      "Epoch : 5000, Train_loss : 2918.66, Test_loss : 2798.07\n",
      "Epoch : 5100, Train_loss : 2918.60, Test_loss : 2798.02\n",
      "Epoch : 5200, Train_loss : 2918.53, Test_loss : 2797.96\n",
      "Epoch : 5300, Train_loss : 2918.46, Test_loss : 2797.91\n",
      "Epoch : 5400, Train_loss : 2918.40, Test_loss : 2797.85\n",
      "Epoch : 5500, Train_loss : 2918.33, Test_loss : 2797.80\n",
      "Epoch : 5600, Train_loss : 2918.27, Test_loss : 2797.75\n",
      "Epoch : 5700, Train_loss : 2918.20, Test_loss : 2797.70\n",
      "Epoch : 5800, Train_loss : 2918.14, Test_loss : 2797.65\n",
      "Epoch : 5900, Train_loss : 2918.07, Test_loss : 2797.60\n",
      "Epoch : 6000, Train_loss : 2918.01, Test_loss : 2797.55\n",
      "Epoch : 6100, Train_loss : 2917.95, Test_loss : 2797.50\n",
      "Epoch : 6200, Train_loss : 2917.88, Test_loss : 2797.45\n",
      "Epoch : 6300, Train_loss : 2917.82, Test_loss : 2797.40\n",
      "Epoch : 6400, Train_loss : 2917.76, Test_loss : 2797.35\n",
      "Epoch : 6500, Train_loss : 2917.70, Test_loss : 2797.30\n",
      "Epoch : 6600, Train_loss : 2917.63, Test_loss : 2797.26\n",
      "Epoch : 6700, Train_loss : 2917.57, Test_loss : 2797.21\n",
      "Epoch : 6800, Train_loss : 2917.51, Test_loss : 2797.17\n",
      "Epoch : 6900, Train_loss : 2917.45, Test_loss : 2797.12\n",
      "Epoch : 7000, Train_loss : 2917.39, Test_loss : 2797.08\n",
      "Epoch : 7100, Train_loss : 2917.33, Test_loss : 2797.03\n",
      "Epoch : 7200, Train_loss : 2917.27, Test_loss : 2796.99\n",
      "Epoch : 7300, Train_loss : 2917.21, Test_loss : 2796.95\n",
      "Epoch : 7400, Train_loss : 2917.15, Test_loss : 2796.90\n",
      "Epoch : 7500, Train_loss : 2917.09, Test_loss : 2796.86\n",
      "Epoch : 7600, Train_loss : 2917.03, Test_loss : 2796.82\n",
      "Epoch : 7700, Train_loss : 2916.97, Test_loss : 2796.78\n",
      "Epoch : 7800, Train_loss : 2916.91, Test_loss : 2796.74\n",
      "Epoch : 7900, Train_loss : 2916.85, Test_loss : 2796.70\n",
      "Epoch : 8000, Train_loss : 2916.79, Test_loss : 2796.66\n",
      "Epoch : 8100, Train_loss : 2916.74, Test_loss : 2796.62\n",
      "Epoch : 8200, Train_loss : 2916.68, Test_loss : 2796.58\n",
      "Epoch : 8300, Train_loss : 2916.62, Test_loss : 2796.54\n",
      "Epoch : 8400, Train_loss : 2916.56, Test_loss : 2796.50\n",
      "Epoch : 8500, Train_loss : 2916.51, Test_loss : 2796.46\n",
      "Epoch : 8600, Train_loss : 2916.45, Test_loss : 2796.42\n",
      "Epoch : 8700, Train_loss : 2916.39, Test_loss : 2796.38\n",
      "Epoch : 8800, Train_loss : 2916.34, Test_loss : 2796.35\n",
      "Epoch : 8900, Train_loss : 2916.28, Test_loss : 2796.31\n",
      "Epoch : 9000, Train_loss : 2916.22, Test_loss : 2796.27\n",
      "Epoch : 9100, Train_loss : 2916.17, Test_loss : 2796.24\n",
      "Epoch : 9200, Train_loss : 2916.11, Test_loss : 2796.20\n",
      "Epoch : 9300, Train_loss : 2916.06, Test_loss : 2796.16\n",
      "Epoch : 9400, Train_loss : 2916.00, Test_loss : 2796.13\n",
      "Epoch : 9500, Train_loss : 2915.95, Test_loss : 2796.09\n",
      "Epoch : 9600, Train_loss : 2915.89, Test_loss : 2796.06\n",
      "Epoch : 9700, Train_loss : 2915.84, Test_loss : 2796.02\n",
      "Epoch : 9800, Train_loss : 2915.78, Test_loss : 2795.99\n",
      "Epoch : 9900, Train_loss : 2915.73, Test_loss : 2795.95\n"
     ]
    },
    {
     "data": {
      "text/plain": [
       "<matplotlib.legend.Legend at 0x7f96fd5e5610>"
      ]
     },
     "execution_count": 22,
     "metadata": {},
     "output_type": "execute_result"
    },
    {
     "data": {
      "image/png": "[encoded data removed]",
      "text/plain": [
       "<Figure size 432x288 with 1 Axes>"
      ]
     },
     "metadata": {
      "needs_background": "light"
     },
     "output_type": "display_data"
    }
   ],
   "source": [
    "train_loss = []\n",
    "test_loss = []\n",
    "\n",
    "for epoch in range(10000):\n",
    "    \n",
    "    w, b = gradient_descent(w, b, X_train, y_train, lr)\n",
    "    loss_1 = MSE(model(w, b, X_train), y_train)\n",
    "    loss_2 = MSE(model(w, b, X_test), y_test)\n",
    "    \n",
    "    train_loss.append(loss_1)\n",
    "    test_loss.append(loss_2)\n",
    "    \n",
    "    if epoch % 100 == 0:\n",
    "        print('Epoch : {}, Train_loss : {:.2f}, Test_loss : {:.2f}'.format(epoch, loss_1, loss_2))\n",
    "\n",
    "plt.plot(train_loss, label='train')\n",
    "plt.plot(test_loss, label = 'test')\n",
    "plt.legend()"
   ]
  },
  {
   "cell_type": "code",
   "execution_count": 23,
   "id": "4a8fdca3",
   "metadata": {},
   "outputs": [
    {
     "data": {
      "text/plain": [
       "['age', 'sex', 'bmi', 'bp', 's1', 's2', 's3', 's4', 's5', 's6']"
      ]
     },
     "execution_count": 23,
     "metadata": {},
     "output_type": "execute_result"
    }
   ],
   "source": [
    "diabetes.feature_names"
   ]
  },
  {
   "cell_type": "code",
   "execution_count": 24,
   "id": "a89f05c4",
   "metadata": {},
   "outputs": [],
   "source": [
    "df = pd.DataFrame(df_X, columns = diabetes.feature_names)"
   ]
  },
  {
   "cell_type": "code",
   "execution_count": 25,
   "id": "deb2df59",
   "metadata": {},
   "outputs": [],
   "source": [
    "df['label'] = diabetes.target"
   ]
  },
  {
   "cell_type": "code",
   "execution_count": 26,
   "id": "deb9a04e",
   "metadata": {},
   "outputs": [
    {
     "data": {
      "text/html": [
       "<div>\n",
       "<style scoped>\n",
       "    .dataframe tbody tr th:only-of-type {\n",
       "        vertical-align: middle;\n",
       "    }\n",
       "\n",
       "    .dataframe tbody tr th {\n",
       "        vertical-align: top;\n",
       "    }\n",
       "\n",
       "    .dataframe thead th {\n",
       "        text-align: right;\n",
       "    }\n",
       "</style>\n",
       "<table border=\"1\" class=\"dataframe\">\n",
       "  <thead>\n",
       "    <tr style=\"text-align: right;\">\n",
       "      <th></th>\n",
       "      <th>age</th>\n",
       "      <th>sex</th>\n",
       "      <th>bmi</th>\n",
       "      <th>bp</th>\n",
       "      <th>s1</th>\n",
       "      <th>s2</th>\n",
       "      <th>s3</th>\n",
       "      <th>s4</th>\n",
       "      <th>s5</th>\n",
       "      <th>s6</th>\n",
       "      <th>label</th>\n",
       "    </tr>\n",
       "  </thead>\n",
       "  <tbody>\n",
       "    <tr>\n",
       "      <th>0</th>\n",
       "      <td>0.038076</td>\n",
       "      <td>0.050680</td>\n",
       "      <td>0.061696</td>\n",
       "      <td>0.021872</td>\n",
       "      <td>-0.044223</td>\n",
       "      <td>-0.034821</td>\n",
       "      <td>-0.043401</td>\n",
       "      <td>-0.002592</td>\n",
       "      <td>0.019908</td>\n",
       "      <td>-0.017646</td>\n",
       "      <td>151.0</td>\n",
       "    </tr>\n",
       "    <tr>\n",
       "      <th>1</th>\n",
       "      <td>-0.001882</td>\n",
       "      <td>-0.044642</td>\n",
       "      <td>-0.051474</td>\n",
       "      <td>-0.026328</td>\n",
       "      <td>-0.008449</td>\n",
       "      <td>-0.019163</td>\n",
       "      <td>0.074412</td>\n",
       "      <td>-0.039493</td>\n",
       "      <td>-0.068330</td>\n",
       "      <td>-0.092204</td>\n",
       "      <td>75.0</td>\n",
       "    </tr>\n",
       "    <tr>\n",
       "      <th>2</th>\n",
       "      <td>0.085299</td>\n",
       "      <td>0.050680</td>\n",
       "      <td>0.044451</td>\n",
       "      <td>-0.005671</td>\n",
       "      <td>-0.045599</td>\n",
       "      <td>-0.034194</td>\n",
       "      <td>-0.032356</td>\n",
       "      <td>-0.002592</td>\n",
       "      <td>0.002864</td>\n",
       "      <td>-0.025930</td>\n",
       "      <td>141.0</td>\n",
       "    </tr>\n",
       "    <tr>\n",
       "      <th>3</th>\n",
       "      <td>-0.089063</td>\n",
       "      <td>-0.044642</td>\n",
       "      <td>-0.011595</td>\n",
       "      <td>-0.036656</td>\n",
       "      <td>0.012191</td>\n",
       "      <td>0.024991</td>\n",
       "      <td>-0.036038</td>\n",
       "      <td>0.034309</td>\n",
       "      <td>0.022692</td>\n",
       "      <td>-0.009362</td>\n",
       "      <td>206.0</td>\n",
       "    </tr>\n",
       "    <tr>\n",
       "      <th>4</th>\n",
       "      <td>0.005383</td>\n",
       "      <td>-0.044642</td>\n",
       "      <td>-0.036385</td>\n",
       "      <td>0.021872</td>\n",
       "      <td>0.003935</td>\n",
       "      <td>0.015596</td>\n",
       "      <td>0.008142</td>\n",
       "      <td>-0.002592</td>\n",
       "      <td>-0.031991</td>\n",
       "      <td>-0.046641</td>\n",
       "      <td>135.0</td>\n",
       "    </tr>\n",
       "    <tr>\n",
       "      <th>...</th>\n",
       "      <td>...</td>\n",
       "      <td>...</td>\n",
       "      <td>...</td>\n",
       "      <td>...</td>\n",
       "      <td>...</td>\n",
       "      <td>...</td>\n",
       "      <td>...</td>\n",
       "      <td>...</td>\n",
       "      <td>...</td>\n",
       "      <td>...</td>\n",
       "      <td>...</td>\n",
       "    </tr>\n",
       "    <tr>\n",
       "      <th>437</th>\n",
       "      <td>0.041708</td>\n",
       "      <td>0.050680</td>\n",
       "      <td>0.019662</td>\n",
       "      <td>0.059744</td>\n",
       "      <td>-0.005697</td>\n",
       "      <td>-0.002566</td>\n",
       "      <td>-0.028674</td>\n",
       "      <td>-0.002592</td>\n",
       "      <td>0.031193</td>\n",
       "      <td>0.007207</td>\n",
       "      <td>178.0</td>\n",
       "    </tr>\n",
       "    <tr>\n",
       "      <th>438</th>\n",
       "      <td>-0.005515</td>\n",
       "      <td>0.050680</td>\n",
       "      <td>-0.015906</td>\n",
       "      <td>-0.067642</td>\n",
       "      <td>0.049341</td>\n",
       "      <td>0.079165</td>\n",
       "      <td>-0.028674</td>\n",
       "      <td>0.034309</td>\n",
       "      <td>-0.018118</td>\n",
       "      <td>0.044485</td>\n",
       "      <td>104.0</td>\n",
       "    </tr>\n",
       "    <tr>\n",
       "      <th>439</th>\n",
       "      <td>0.041708</td>\n",
       "      <td>0.050680</td>\n",
       "      <td>-0.015906</td>\n",
       "      <td>0.017282</td>\n",
       "      <td>-0.037344</td>\n",
       "      <td>-0.013840</td>\n",
       "      <td>-0.024993</td>\n",
       "      <td>-0.011080</td>\n",
       "      <td>-0.046879</td>\n",
       "      <td>0.015491</td>\n",
       "      <td>132.0</td>\n",
       "    </tr>\n",
       "    <tr>\n",
       "      <th>440</th>\n",
       "      <td>-0.045472</td>\n",
       "      <td>-0.044642</td>\n",
       "      <td>0.039062</td>\n",
       "      <td>0.001215</td>\n",
       "      <td>0.016318</td>\n",
       "      <td>0.015283</td>\n",
       "      <td>-0.028674</td>\n",
       "      <td>0.026560</td>\n",
       "      <td>0.044528</td>\n",
       "      <td>-0.025930</td>\n",
       "      <td>220.0</td>\n",
       "    </tr>\n",
       "    <tr>\n",
       "      <th>441</th>\n",
       "      <td>-0.045472</td>\n",
       "      <td>-0.044642</td>\n",
       "      <td>-0.073030</td>\n",
       "      <td>-0.081414</td>\n",
       "      <td>0.083740</td>\n",
       "      <td>0.027809</td>\n",
       "      <td>0.173816</td>\n",
       "      <td>-0.039493</td>\n",
       "      <td>-0.004220</td>\n",
       "      <td>0.003064</td>\n",
       "      <td>57.0</td>\n",
       "    </tr>\n",
       "  </tbody>\n",
       "</table>\n",
       "<p>442 rows × 11 columns</p>\n",
       "</div>"
      ],
      "text/plain": [
       "          age       sex       bmi        bp        s1        s2        s3  \\\n",
       "0    0.038076  0.050680  0.061696  0.021872 -0.044223 -0.034821 -0.043401   \n",
       "1   -0.001882 -0.044642 -0.051474 -0.026328 -0.008449 -0.019163  0.074412   \n",
       "2    0.085299  0.050680  0.044451 -0.005671 -0.045599 -0.034194 -0.032356   \n",
       "3   -0.089063 -0.044642 -0.011595 -0.036656  0.012191  0.024991 -0.036038   \n",
       "4    0.005383 -0.044642 -0.036385  0.021872  0.003935  0.015596  0.008142   \n",
       "..        ...       ...       ...       ...       ...       ...       ...   \n",
       "437  0.041708  0.050680  0.019662  0.059744 -0.005697 -0.002566 -0.028674   \n",
       "438 -0.005515  0.050680 -0.015906 -0.067642  0.049341  0.079165 -0.028674   \n",
       "439  0.041708  0.050680 -0.015906  0.017282 -0.037344 -0.013840 -0.024993   \n",
       "440 -0.045472 -0.044642  0.039062  0.001215  0.016318  0.015283 -0.028674   \n",
       "441 -0.045472 -0.044642 -0.073030 -0.081414  0.083740  0.027809  0.173816   \n",
       "\n",
       "           s4        s5        s6  label  \n",
       "0   -0.002592  0.019908 -0.017646  151.0  \n",
       "1   -0.039493 -0.068330 -0.092204   75.0  \n",
       "2   -0.002592  0.002864 -0.025930  141.0  \n",
       "3    0.034309  0.022692 -0.009362  206.0  \n",
       "4   -0.002592 -0.031991 -0.046641  135.0  \n",
       "..        ...       ...       ...    ...  \n",
       "437 -0.002592  0.031193  0.007207  178.0  \n",
       "438  0.034309 -0.018118  0.044485  104.0  \n",
       "439 -0.011080 -0.046879  0.015491  132.0  \n",
       "440  0.026560  0.044528 -0.025930  220.0  \n",
       "441 -0.039493 -0.004220  0.003064   57.0  \n",
       "\n",
       "[442 rows x 11 columns]"
      ]
     },
     "execution_count": 26,
     "metadata": {},
     "output_type": "execute_result"
    }
   ],
   "source": [
    "df"
   ]
  },
  {
   "cell_type": "markdown",
   "id": "be376a6f",
   "metadata": {},
   "source": [
    "#### test 1. s6 feature 제거"
   ]
  },
  {
   "cell_type": "code",
   "execution_count": 27,
   "id": "fcbbc07d",
   "metadata": {},
   "outputs": [],
   "source": [
    "X_train, X_test, y_train, y_test = train_test_split(df[['age', 'sex', 'bmi', 'bp', 's1', 's2', 's3']], df_y, test_size = 0.2, random_state = 32)"
   ]
  },
  {
   "cell_type": "code",
   "execution_count": 28,
   "id": "71a99136",
   "metadata": {},
   "outputs": [],
   "source": [
    "np.random.seed(10)\n",
    "w = np.random.rand((X_train.shape[1]))\n",
    "b = np.random.rand((1))"
   ]
  },
  {
   "cell_type": "code",
   "execution_count": 29,
   "id": "cb68a435",
   "metadata": {},
   "outputs": [],
   "source": [
    "lr = 1e-2"
   ]
  },
  {
   "cell_type": "code",
   "execution_count": 30,
   "id": "a5d341e0",
   "metadata": {},
   "outputs": [
    {
     "name": "stdout",
     "output_type": "stream",
     "text": [
      "Epoch : 0, Train_loss : 28513.55, Test_loss : 25460.59\n",
      "Epoch : 100, Train_loss : 4998.19, Test_loss : 4031.98\n",
      "Epoch : 200, Train_loss : 3970.18, Test_loss : 3414.47\n",
      "Epoch : 300, Train_loss : 3653.45, Test_loss : 3258.69\n",
      "Epoch : 400, Train_loss : 3487.92, Test_loss : 3187.15\n",
      "Epoch : 500, Train_loss : 3392.05, Test_loss : 3154.38\n",
      "Epoch : 600, Train_loss : 3332.80, Test_loss : 3139.68\n",
      "Epoch : 700, Train_loss : 3294.25, Test_loss : 3133.53\n",
      "Epoch : 800, Train_loss : 3268.04, Test_loss : 3131.41\n",
      "Epoch : 900, Train_loss : 3249.44, Test_loss : 3131.09\n",
      "Epoch : 1000, Train_loss : 3235.69, Test_loss : 3131.37\n",
      "Epoch : 1100, Train_loss : 3225.08, Test_loss : 3131.65\n",
      "Epoch : 1200, Train_loss : 3216.54, Test_loss : 3131.61\n",
      "Epoch : 1300, Train_loss : 3209.41, Test_loss : 3131.12\n",
      "Epoch : 1400, Train_loss : 3203.24, Test_loss : 3130.14\n",
      "Epoch : 1500, Train_loss : 3197.75, Test_loss : 3128.69\n",
      "Epoch : 1600, Train_loss : 3192.75, Test_loss : 3126.80\n",
      "Epoch : 1700, Train_loss : 3188.12, Test_loss : 3124.54\n",
      "Epoch : 1800, Train_loss : 3183.77, Test_loss : 3121.97\n",
      "Epoch : 1900, Train_loss : 3179.66, Test_loss : 3119.13\n",
      "Epoch : 2000, Train_loss : 3175.73, Test_loss : 3116.08\n",
      "Epoch : 2100, Train_loss : 3171.96, Test_loss : 3112.86\n",
      "Epoch : 2200, Train_loss : 3168.34, Test_loss : 3109.52\n",
      "Epoch : 2300, Train_loss : 3164.84, Test_loss : 3106.09\n",
      "Epoch : 2400, Train_loss : 3161.46, Test_loss : 3102.59\n",
      "Epoch : 2500, Train_loss : 3158.19, Test_loss : 3099.05\n",
      "Epoch : 2600, Train_loss : 3155.02, Test_loss : 3095.50\n",
      "Epoch : 2700, Train_loss : 3151.95, Test_loss : 3091.94\n",
      "Epoch : 2800, Train_loss : 3148.96, Test_loss : 3088.39\n",
      "Epoch : 2900, Train_loss : 3146.07, Test_loss : 3084.86\n",
      "Epoch : 3000, Train_loss : 3143.26, Test_loss : 3081.36\n",
      "Epoch : 3100, Train_loss : 3140.53, Test_loss : 3077.90\n",
      "Epoch : 3200, Train_loss : 3137.88, Test_loss : 3074.48\n",
      "Epoch : 3300, Train_loss : 3135.31, Test_loss : 3071.10\n",
      "Epoch : 3400, Train_loss : 3132.81, Test_loss : 3067.78\n",
      "Epoch : 3500, Train_loss : 3130.38, Test_loss : 3064.50\n",
      "Epoch : 3600, Train_loss : 3128.02, Test_loss : 3061.29\n",
      "Epoch : 3700, Train_loss : 3125.72, Test_loss : 3058.13\n",
      "Epoch : 3800, Train_loss : 3123.49, Test_loss : 3055.02\n",
      "Epoch : 3900, Train_loss : 3121.33, Test_loss : 3051.98\n",
      "Epoch : 4000, Train_loss : 3119.22, Test_loss : 3048.99\n",
      "Epoch : 4100, Train_loss : 3117.18, Test_loss : 3046.06\n",
      "Epoch : 4200, Train_loss : 3115.19, Test_loss : 3043.19\n",
      "Epoch : 4300, Train_loss : 3113.26, Test_loss : 3040.37\n",
      "Epoch : 4400, Train_loss : 3111.38, Test_loss : 3037.62\n",
      "Epoch : 4500, Train_loss : 3109.56, Test_loss : 3034.92\n",
      "Epoch : 4600, Train_loss : 3107.78, Test_loss : 3032.27\n",
      "Epoch : 4700, Train_loss : 3106.06, Test_loss : 3029.69\n",
      "Epoch : 4800, Train_loss : 3104.38, Test_loss : 3027.15\n",
      "Epoch : 4900, Train_loss : 3102.76, Test_loss : 3024.67\n",
      "Epoch : 5000, Train_loss : 3101.17, Test_loss : 3022.25\n",
      "Epoch : 5100, Train_loss : 3099.63, Test_loss : 3019.87\n",
      "Epoch : 5200, Train_loss : 3098.14, Test_loss : 3017.55\n",
      "Epoch : 5300, Train_loss : 3096.69, Test_loss : 3015.28\n",
      "Epoch : 5400, Train_loss : 3095.27, Test_loss : 3013.06\n",
      "Epoch : 5500, Train_loss : 3093.90, Test_loss : 3010.88\n",
      "Epoch : 5600, Train_loss : 3092.57, Test_loss : 3008.75\n",
      "Epoch : 5700, Train_loss : 3091.27, Test_loss : 3006.67\n",
      "Epoch : 5800, Train_loss : 3090.01, Test_loss : 3004.63\n",
      "Epoch : 5900, Train_loss : 3088.79, Test_loss : 3002.64\n",
      "Epoch : 6000, Train_loss : 3087.60, Test_loss : 3000.70\n",
      "Epoch : 6100, Train_loss : 3086.44, Test_loss : 2998.79\n",
      "Epoch : 6200, Train_loss : 3085.31, Test_loss : 2996.93\n",
      "Epoch : 6300, Train_loss : 3084.22, Test_loss : 2995.10\n",
      "Epoch : 6400, Train_loss : 3083.16, Test_loss : 2993.32\n",
      "Epoch : 6500, Train_loss : 3082.12, Test_loss : 2991.57\n",
      "Epoch : 6600, Train_loss : 3081.12, Test_loss : 2989.87\n",
      "Epoch : 6700, Train_loss : 3080.15, Test_loss : 2988.20\n",
      "Epoch : 6800, Train_loss : 3079.20, Test_loss : 2986.57\n",
      "Epoch : 6900, Train_loss : 3078.28, Test_loss : 2984.97\n",
      "Epoch : 7000, Train_loss : 3077.38, Test_loss : 2983.41\n",
      "Epoch : 7100, Train_loss : 3076.51, Test_loss : 2981.88\n",
      "Epoch : 7200, Train_loss : 3075.66, Test_loss : 2980.38\n",
      "Epoch : 7300, Train_loss : 3074.84, Test_loss : 2978.92\n",
      "Epoch : 7400, Train_loss : 3074.04, Test_loss : 2977.49\n",
      "Epoch : 7500, Train_loss : 3073.26, Test_loss : 2976.09\n",
      "Epoch : 7600, Train_loss : 3072.51, Test_loss : 2974.72\n",
      "Epoch : 7700, Train_loss : 3071.77, Test_loss : 2973.38\n",
      "Epoch : 7800, Train_loss : 3071.06, Test_loss : 2972.07\n",
      "Epoch : 7900, Train_loss : 3070.37, Test_loss : 2970.78\n",
      "Epoch : 8000, Train_loss : 3069.69, Test_loss : 2969.53\n",
      "Epoch : 8100, Train_loss : 3069.04, Test_loss : 2968.30\n",
      "Epoch : 8200, Train_loss : 3068.40, Test_loss : 2967.10\n",
      "Epoch : 8300, Train_loss : 3067.78, Test_loss : 2965.92\n",
      "Epoch : 8400, Train_loss : 3067.18, Test_loss : 2964.77\n",
      "Epoch : 8500, Train_loss : 3066.60, Test_loss : 2963.64\n",
      "Epoch : 8600, Train_loss : 3066.03, Test_loss : 2962.53\n",
      "Epoch : 8700, Train_loss : 3065.48, Test_loss : 2961.45\n",
      "Epoch : 8800, Train_loss : 3064.94, Test_loss : 2960.40\n",
      "Epoch : 8900, Train_loss : 3064.42, Test_loss : 2959.36\n",
      "Epoch : 9000, Train_loss : 3063.91, Test_loss : 2958.35\n",
      "Epoch : 9100, Train_loss : 3063.42, Test_loss : 2957.35\n",
      "Epoch : 9200, Train_loss : 3062.94, Test_loss : 2956.38\n",
      "Epoch : 9300, Train_loss : 3062.47, Test_loss : 2955.43\n",
      "Epoch : 9400, Train_loss : 3062.02, Test_loss : 2954.50\n",
      "Epoch : 9500, Train_loss : 3061.58, Test_loss : 2953.59\n",
      "Epoch : 9600, Train_loss : 3061.15, Test_loss : 2952.70\n",
      "Epoch : 9700, Train_loss : 3060.74, Test_loss : 2951.82\n",
      "Epoch : 9800, Train_loss : 3060.33, Test_loss : 2950.96\n",
      "Epoch : 9900, Train_loss : 3059.94, Test_loss : 2950.13\n"
     ]
    },
    {
     "data": {
      "text/plain": [
       "<matplotlib.legend.Legend at 0x7f96fd4638b0>"
      ]
     },
     "execution_count": 30,
     "metadata": {},
     "output_type": "execute_result"
    },
    {
     "data": {
      "image/png": "[encoded data removed]",
      "text/plain": [
       "<Figure size 432x288 with 1 Axes>"
      ]
     },
     "metadata": {
      "needs_background": "light"
     },
     "output_type": "display_data"
    }
   ],
   "source": [
    "train_loss = []\n",
    "test_loss = []\n",
    "\n",
    "for epoch in range(10000):\n",
    "    \n",
    "    w, b = gradient_descent(w, b, X_train, y_train, lr)\n",
    "    loss_1 = MSE(model(w, b, X_train), y_train)\n",
    "    loss_2 = MSE(model(w, b, X_test), y_test)\n",
    "    \n",
    "    train_loss.append(loss_1)\n",
    "    test_loss.append(loss_2)\n",
    "    \n",
    "    if epoch % 100 == 0:\n",
    "        print('Epoch : {}, Train_loss : {:.2f}, Test_loss : {:.2f}'.format(epoch, loss_1, loss_2))\n",
    "\n",
    "plt.plot(train_loss, label='train')\n",
    "plt.plot(test_loss, label = 'test')\n",
    "plt.legend()"
   ]
  },
  {
   "cell_type": "markdown",
   "id": "b52a4ca7",
   "metadata": {},
   "source": [
    "#### test 2. s5 feature 제거"
   ]
  },
  {
   "cell_type": "code",
   "execution_count": 31,
   "id": "20d042e8",
   "metadata": {},
   "outputs": [
    {
     "name": "stdout",
     "output_type": "stream",
     "text": [
      "Epoch : 0, Train_loss : 28706.30, Test_loss : 25643.84\n",
      "Epoch : 100, Train_loss : 4943.74, Test_loss : 3966.03\n",
      "Epoch : 200, Train_loss : 3946.09, Test_loss : 3369.37\n",
      "Epoch : 300, Train_loss : 3649.72, Test_loss : 3228.49\n",
      "Epoch : 400, Train_loss : 3487.56, Test_loss : 3157.96\n",
      "Epoch : 500, Train_loss : 3386.13, Test_loss : 3119.16\n",
      "Epoch : 600, Train_loss : 3318.22, Test_loss : 3096.55\n",
      "Epoch : 700, Train_loss : 3270.91, Test_loss : 3083.13\n",
      "Epoch : 800, Train_loss : 3237.08, Test_loss : 3075.30\n",
      "Epoch : 900, Train_loss : 3212.37, Test_loss : 3070.95\n",
      "Epoch : 1000, Train_loss : 3193.97, Test_loss : 3068.75\n",
      "Epoch : 1100, Train_loss : 3180.00, Test_loss : 3067.81\n",
      "Epoch : 1200, Train_loss : 3169.18, Test_loss : 3067.57\n",
      "Epoch : 1300, Train_loss : 3160.62, Test_loss : 3067.62\n",
      "Epoch : 1400, Train_loss : 3153.69, Test_loss : 3067.75\n",
      "Epoch : 1500, Train_loss : 3147.95, Test_loss : 3067.80\n",
      "Epoch : 1600, Train_loss : 3143.11, Test_loss : 3067.68\n",
      "Epoch : 1700, Train_loss : 3138.92, Test_loss : 3067.37\n",
      "Epoch : 1800, Train_loss : 3135.24, Test_loss : 3066.84\n",
      "Epoch : 1900, Train_loss : 3131.94, Test_loss : 3066.10\n",
      "Epoch : 2000, Train_loss : 3128.94, Test_loss : 3065.17\n",
      "Epoch : 2100, Train_loss : 3126.18, Test_loss : 3064.05\n",
      "Epoch : 2200, Train_loss : 3123.60, Test_loss : 3062.77\n",
      "Epoch : 2300, Train_loss : 3121.19, Test_loss : 3061.36\n",
      "Epoch : 2400, Train_loss : 3118.90, Test_loss : 3059.83\n",
      "Epoch : 2500, Train_loss : 3116.72, Test_loss : 3058.20\n",
      "Epoch : 2600, Train_loss : 3114.64, Test_loss : 3056.49\n",
      "Epoch : 2700, Train_loss : 3112.64, Test_loss : 3054.71\n",
      "Epoch : 2800, Train_loss : 3110.72, Test_loss : 3052.89\n",
      "Epoch : 2900, Train_loss : 3108.86, Test_loss : 3051.02\n",
      "Epoch : 3000, Train_loss : 3107.07, Test_loss : 3049.13\n",
      "Epoch : 3100, Train_loss : 3105.33, Test_loss : 3047.22\n",
      "Epoch : 3200, Train_loss : 3103.64, Test_loss : 3045.30\n",
      "Epoch : 3300, Train_loss : 3102.00, Test_loss : 3043.37\n",
      "Epoch : 3400, Train_loss : 3100.41, Test_loss : 3041.45\n",
      "Epoch : 3500, Train_loss : 3098.86, Test_loss : 3039.53\n",
      "Epoch : 3600, Train_loss : 3097.35, Test_loss : 3037.62\n",
      "Epoch : 3700, Train_loss : 3095.89, Test_loss : 3035.73\n",
      "Epoch : 3800, Train_loss : 3094.46, Test_loss : 3033.85\n",
      "Epoch : 3900, Train_loss : 3093.06, Test_loss : 3032.00\n",
      "Epoch : 4000, Train_loss : 3091.71, Test_loss : 3030.16\n",
      "Epoch : 4100, Train_loss : 3090.38, Test_loss : 3028.35\n",
      "Epoch : 4200, Train_loss : 3089.09, Test_loss : 3026.56\n",
      "Epoch : 4300, Train_loss : 3087.84, Test_loss : 3024.79\n",
      "Epoch : 4400, Train_loss : 3086.61, Test_loss : 3023.06\n",
      "Epoch : 4500, Train_loss : 3085.41, Test_loss : 3021.34\n",
      "Epoch : 4600, Train_loss : 3084.24, Test_loss : 3019.66\n",
      "Epoch : 4700, Train_loss : 3083.10, Test_loss : 3018.00\n",
      "Epoch : 4800, Train_loss : 3081.98, Test_loss : 3016.37\n",
      "Epoch : 4900, Train_loss : 3080.89, Test_loss : 3014.77\n",
      "Epoch : 5000, Train_loss : 3079.83, Test_loss : 3013.20\n",
      "Epoch : 5100, Train_loss : 3078.79, Test_loss : 3011.65\n",
      "Epoch : 5200, Train_loss : 3077.77, Test_loss : 3010.13\n",
      "Epoch : 5300, Train_loss : 3076.78, Test_loss : 3008.64\n",
      "Epoch : 5400, Train_loss : 3075.81, Test_loss : 3007.17\n",
      "Epoch : 5500, Train_loss : 3074.86, Test_loss : 3005.73\n",
      "Epoch : 5600, Train_loss : 3073.94, Test_loss : 3004.32\n",
      "Epoch : 5700, Train_loss : 3073.03, Test_loss : 3002.93\n",
      "Epoch : 5800, Train_loss : 3072.14, Test_loss : 3001.57\n",
      "Epoch : 5900, Train_loss : 3071.28, Test_loss : 3000.23\n",
      "Epoch : 6000, Train_loss : 3070.43, Test_loss : 2998.92\n",
      "Epoch : 6100, Train_loss : 3069.60, Test_loss : 2997.63\n",
      "Epoch : 6200, Train_loss : 3068.79, Test_loss : 2996.37\n",
      "Epoch : 6300, Train_loss : 3068.00, Test_loss : 2995.13\n",
      "Epoch : 6400, Train_loss : 3067.22, Test_loss : 2993.91\n",
      "Epoch : 6500, Train_loss : 3066.46, Test_loss : 2992.72\n",
      "Epoch : 6600, Train_loss : 3065.72, Test_loss : 2991.55\n",
      "Epoch : 6700, Train_loss : 3064.99, Test_loss : 2990.40\n",
      "Epoch : 6800, Train_loss : 3064.28, Test_loss : 2989.27\n",
      "Epoch : 6900, Train_loss : 3063.58, Test_loss : 2988.16\n",
      "Epoch : 7000, Train_loss : 3062.89, Test_loss : 2987.07\n",
      "Epoch : 7100, Train_loss : 3062.22, Test_loss : 2986.00\n",
      "Epoch : 7200, Train_loss : 3061.57, Test_loss : 2984.96\n",
      "Epoch : 7300, Train_loss : 3060.93, Test_loss : 2983.93\n",
      "Epoch : 7400, Train_loss : 3060.30, Test_loss : 2982.92\n",
      "Epoch : 7500, Train_loss : 3059.68, Test_loss : 2981.93\n",
      "Epoch : 7600, Train_loss : 3059.08, Test_loss : 2980.95\n",
      "Epoch : 7700, Train_loss : 3058.48, Test_loss : 2980.00\n",
      "Epoch : 7800, Train_loss : 3057.90, Test_loss : 2979.06\n",
      "Epoch : 7900, Train_loss : 3057.33, Test_loss : 2978.14\n",
      "Epoch : 8000, Train_loss : 3056.78, Test_loss : 2977.23\n",
      "Epoch : 8100, Train_loss : 3056.23, Test_loss : 2976.35\n",
      "Epoch : 8200, Train_loss : 3055.69, Test_loss : 2975.47\n",
      "Epoch : 8300, Train_loss : 3055.17, Test_loss : 2974.62\n",
      "Epoch : 8400, Train_loss : 3054.65, Test_loss : 2973.77\n",
      "Epoch : 8500, Train_loss : 3054.15, Test_loss : 2972.95\n",
      "Epoch : 8600, Train_loss : 3053.65, Test_loss : 2972.14\n",
      "Epoch : 8700, Train_loss : 3053.17, Test_loss : 2971.34\n",
      "Epoch : 8800, Train_loss : 3052.69, Test_loss : 2970.55\n",
      "Epoch : 8900, Train_loss : 3052.22, Test_loss : 2969.78\n",
      "Epoch : 9000, Train_loss : 3051.76, Test_loss : 2969.03\n",
      "Epoch : 9100, Train_loss : 3051.31, Test_loss : 2968.28\n",
      "Epoch : 9200, Train_loss : 3050.87, Test_loss : 2967.55\n",
      "Epoch : 9300, Train_loss : 3050.43, Test_loss : 2966.83\n",
      "Epoch : 9400, Train_loss : 3050.01, Test_loss : 2966.12\n",
      "Epoch : 9500, Train_loss : 3049.59, Test_loss : 2965.43\n",
      "Epoch : 9600, Train_loss : 3049.18, Test_loss : 2964.75\n",
      "Epoch : 9700, Train_loss : 3048.78, Test_loss : 2964.08\n",
      "Epoch : 9800, Train_loss : 3048.38, Test_loss : 2963.42\n",
      "Epoch : 9900, Train_loss : 3047.99, Test_loss : 2962.77\n"
     ]
    },
    {
     "data": {
      "text/plain": [
       "<matplotlib.legend.Legend at 0x7f96fd6d66d0>"
      ]
     },
     "execution_count": 31,
     "metadata": {},
     "output_type": "execute_result"
    },
    {
     "data": {
      "image/png": "[encoded data removed]",
      "text/plain": [
       "<Figure size 432x288 with 1 Axes>"
      ]
     },
     "metadata": {
      "needs_background": "light"
     },
     "output_type": "display_data"
    }
   ],
   "source": [
    "X_train, X_test, y_train, y_test = train_test_split(df[['age', 'sex', 'bmi', 'bp', 's1', 's2', 's3', 's4', 's6']], df_y, test_size = 0.2, random_state = 32)\n",
    "\n",
    "np.random.seed(10)\n",
    "w = np.random.rand((X_train.shape[1]))\n",
    "b = np.random.rand((1))\n",
    "\n",
    "train_loss = []\n",
    "test_loss = []\n",
    "\n",
    "for epoch in range(10000):\n",
    "    \n",
    "    w, b = gradient_descent(w, b, X_train, y_train, lr)\n",
    "    loss_1 = MSE(model(w, b, X_train), y_train)\n",
    "    loss_2 = MSE(model(w, b, X_test), y_test)\n",
    "    \n",
    "    train_loss.append(loss_1)\n",
    "    test_loss.append(loss_2)\n",
    "    \n",
    "    if epoch % 100 == 0:\n",
    "        print('Epoch : {}, Train_loss : {:.2f}, Test_loss : {:.2f}'.format(epoch, loss_1, loss_2))\n",
    "\n",
    "plt.plot(train_loss, label='train')\n",
    "plt.plot(test_loss, label = 'test')\n",
    "plt.legend()"
   ]
  },
  {
   "cell_type": "markdown",
   "id": "10ff4a1a",
   "metadata": {},
   "source": [
    "#### test 3. sex feature 제거"
   ]
  },
  {
   "cell_type": "code",
   "execution_count": 32,
   "id": "d868bc0c",
   "metadata": {
    "scrolled": true
   },
   "outputs": [
    {
     "name": "stdout",
     "output_type": "stream",
     "text": [
      "Epoch : 0, Train_loss : 28700.60, Test_loss : 25638.57\n",
      "Epoch : 100, Train_loss : 4662.89, Test_loss : 3703.55\n",
      "Epoch : 200, Train_loss : 3672.67, Test_loss : 3112.68\n",
      "Epoch : 300, Train_loss : 3419.76, Test_loss : 2989.34\n",
      "Epoch : 400, Train_loss : 3295.43, Test_loss : 2926.15\n",
      "Epoch : 500, Train_loss : 3222.73, Test_loss : 2887.48\n",
      "Epoch : 600, Train_loss : 3176.30, Test_loss : 2861.07\n",
      "Epoch : 700, Train_loss : 3145.08, Test_loss : 2841.81\n",
      "Epoch : 800, Train_loss : 3123.33, Test_loss : 2827.16\n",
      "Epoch : 900, Train_loss : 3107.75, Test_loss : 2815.67\n",
      "Epoch : 1000, Train_loss : 3096.32, Test_loss : 2806.41\n",
      "Epoch : 1100, Train_loss : 3087.77, Test_loss : 2798.79\n",
      "Epoch : 1200, Train_loss : 3081.25, Test_loss : 2792.39\n",
      "Epoch : 1300, Train_loss : 3076.20, Test_loss : 2786.94\n",
      "Epoch : 1400, Train_loss : 3072.25, Test_loss : 2782.25\n",
      "Epoch : 1500, Train_loss : 3069.11, Test_loss : 2778.17\n",
      "Epoch : 1600, Train_loss : 3066.60, Test_loss : 2774.60\n",
      "Epoch : 1700, Train_loss : 3064.58, Test_loss : 2771.47\n",
      "Epoch : 1800, Train_loss : 3062.94, Test_loss : 2768.70\n",
      "Epoch : 1900, Train_loss : 3061.60, Test_loss : 2766.26\n",
      "Epoch : 2000, Train_loss : 3060.49, Test_loss : 2764.10\n",
      "Epoch : 2100, Train_loss : 3059.58, Test_loss : 2762.19\n",
      "Epoch : 2200, Train_loss : 3058.82, Test_loss : 2760.49\n",
      "Epoch : 2300, Train_loss : 3058.19, Test_loss : 2758.98\n",
      "Epoch : 2400, Train_loss : 3057.65, Test_loss : 2757.64\n",
      "Epoch : 2500, Train_loss : 3057.20, Test_loss : 2756.45\n",
      "Epoch : 2600, Train_loss : 3056.81, Test_loss : 2755.39\n",
      "Epoch : 2700, Train_loss : 3056.48, Test_loss : 2754.45\n",
      "Epoch : 2800, Train_loss : 3056.20, Test_loss : 2753.61\n",
      "Epoch : 2900, Train_loss : 3055.94, Test_loss : 2752.87\n",
      "Epoch : 3000, Train_loss : 3055.72, Test_loss : 2752.21\n",
      "Epoch : 3100, Train_loss : 3055.53, Test_loss : 2751.61\n",
      "Epoch : 3200, Train_loss : 3055.35, Test_loss : 2751.09\n",
      "Epoch : 3300, Train_loss : 3055.19, Test_loss : 2750.62\n",
      "Epoch : 3400, Train_loss : 3055.04, Test_loss : 2750.20\n",
      "Epoch : 3500, Train_loss : 3054.91, Test_loss : 2749.83\n",
      "Epoch : 3600, Train_loss : 3054.79, Test_loss : 2749.49\n",
      "Epoch : 3700, Train_loss : 3054.67, Test_loss : 2749.20\n",
      "Epoch : 3800, Train_loss : 3054.56, Test_loss : 2748.93\n",
      "Epoch : 3900, Train_loss : 3054.45, Test_loss : 2748.69\n",
      "Epoch : 4000, Train_loss : 3054.35, Test_loss : 2748.48\n",
      "Epoch : 4100, Train_loss : 3054.26, Test_loss : 2748.29\n",
      "Epoch : 4200, Train_loss : 3054.17, Test_loss : 2748.12\n",
      "Epoch : 4300, Train_loss : 3054.08, Test_loss : 2747.97\n",
      "Epoch : 4400, Train_loss : 3053.99, Test_loss : 2747.83\n",
      "Epoch : 4500, Train_loss : 3053.90, Test_loss : 2747.71\n",
      "Epoch : 4600, Train_loss : 3053.82, Test_loss : 2747.60\n",
      "Epoch : 4700, Train_loss : 3053.74, Test_loss : 2747.51\n",
      "Epoch : 4800, Train_loss : 3053.66, Test_loss : 2747.42\n",
      "Epoch : 4900, Train_loss : 3053.58, Test_loss : 2747.34\n",
      "Epoch : 5000, Train_loss : 3053.50, Test_loss : 2747.27\n",
      "Epoch : 5100, Train_loss : 3053.43, Test_loss : 2747.21\n",
      "Epoch : 5200, Train_loss : 3053.35, Test_loss : 2747.15\n",
      "Epoch : 5300, Train_loss : 3053.28, Test_loss : 2747.10\n",
      "Epoch : 5400, Train_loss : 3053.20, Test_loss : 2747.05\n",
      "Epoch : 5500, Train_loss : 3053.13, Test_loss : 2747.01\n",
      "Epoch : 5600, Train_loss : 3053.06, Test_loss : 2746.98\n",
      "Epoch : 5700, Train_loss : 3052.98, Test_loss : 2746.94\n",
      "Epoch : 5800, Train_loss : 3052.91, Test_loss : 2746.91\n",
      "Epoch : 5900, Train_loss : 3052.84, Test_loss : 2746.89\n",
      "Epoch : 6000, Train_loss : 3052.77, Test_loss : 2746.86\n",
      "Epoch : 6100, Train_loss : 3052.70, Test_loss : 2746.84\n",
      "Epoch : 6200, Train_loss : 3052.63, Test_loss : 2746.82\n",
      "Epoch : 6300, Train_loss : 3052.56, Test_loss : 2746.80\n",
      "Epoch : 6400, Train_loss : 3052.50, Test_loss : 2746.79\n",
      "Epoch : 6500, Train_loss : 3052.43, Test_loss : 2746.77\n",
      "Epoch : 6600, Train_loss : 3052.36, Test_loss : 2746.76\n",
      "Epoch : 6700, Train_loss : 3052.29, Test_loss : 2746.75\n",
      "Epoch : 6800, Train_loss : 3052.23, Test_loss : 2746.74\n",
      "Epoch : 6900, Train_loss : 3052.16, Test_loss : 2746.73\n",
      "Epoch : 7000, Train_loss : 3052.09, Test_loss : 2746.72\n",
      "Epoch : 7100, Train_loss : 3052.03, Test_loss : 2746.71\n",
      "Epoch : 7200, Train_loss : 3051.96, Test_loss : 2746.71\n",
      "Epoch : 7300, Train_loss : 3051.90, Test_loss : 2746.70\n",
      "Epoch : 7400, Train_loss : 3051.83, Test_loss : 2746.70\n",
      "Epoch : 7500, Train_loss : 3051.77, Test_loss : 2746.69\n",
      "Epoch : 7600, Train_loss : 3051.71, Test_loss : 2746.69\n",
      "Epoch : 7700, Train_loss : 3051.64, Test_loss : 2746.68\n",
      "Epoch : 7800, Train_loss : 3051.58, Test_loss : 2746.68\n",
      "Epoch : 7900, Train_loss : 3051.52, Test_loss : 2746.67\n",
      "Epoch : 8000, Train_loss : 3051.45, Test_loss : 2746.67\n",
      "Epoch : 8100, Train_loss : 3051.39, Test_loss : 2746.67\n",
      "Epoch : 8200, Train_loss : 3051.33, Test_loss : 2746.66\n",
      "Epoch : 8300, Train_loss : 3051.27, Test_loss : 2746.66\n",
      "Epoch : 8400, Train_loss : 3051.21, Test_loss : 2746.66\n",
      "Epoch : 8500, Train_loss : 3051.15, Test_loss : 2746.66\n",
      "Epoch : 8600, Train_loss : 3051.09, Test_loss : 2746.65\n",
      "Epoch : 8700, Train_loss : 3051.03, Test_loss : 2746.65\n",
      "Epoch : 8800, Train_loss : 3050.97, Test_loss : 2746.65\n",
      "Epoch : 8900, Train_loss : 3050.91, Test_loss : 2746.65\n",
      "Epoch : 9000, Train_loss : 3050.85, Test_loss : 2746.64\n",
      "Epoch : 9100, Train_loss : 3050.79, Test_loss : 2746.64\n",
      "Epoch : 9200, Train_loss : 3050.73, Test_loss : 2746.64\n",
      "Epoch : 9300, Train_loss : 3050.67, Test_loss : 2746.64\n",
      "Epoch : 9400, Train_loss : 3050.61, Test_loss : 2746.63\n",
      "Epoch : 9500, Train_loss : 3050.55, Test_loss : 2746.63\n",
      "Epoch : 9600, Train_loss : 3050.50, Test_loss : 2746.63\n",
      "Epoch : 9700, Train_loss : 3050.44, Test_loss : 2746.63\n",
      "Epoch : 9800, Train_loss : 3050.38, Test_loss : 2746.63\n",
      "Epoch : 9900, Train_loss : 3050.32, Test_loss : 2746.62\n"
     ]
    },
    {
     "data": {
      "text/plain": [
       "<matplotlib.legend.Legend at 0x7f96fd3d1fd0>"
      ]
     },
     "execution_count": 32,
     "metadata": {},
     "output_type": "execute_result"
    },
    {
     "data": {
      "image/png": "[encoded data removed]",
      "text/plain": [
       "<Figure size 432x288 with 1 Axes>"
      ]
     },
     "metadata": {
      "needs_background": "light"
     },
     "output_type": "display_data"
    }
   ],
   "source": [
    "X_train, X_test, y_train, y_test = train_test_split(df[['age', 'bmi', 'bp', 's1', 's2', 's3', 's4', 's5', 's6']], df_y, test_size = 0.2, random_state = 32)\n",
    "\n",
    "np.random.seed(10)\n",
    "w = np.random.rand((X_train.shape[1]))\n",
    "b = np.random.rand((1))\n",
    "\n",
    "train_loss = []\n",
    "test_loss = []\n",
    "\n",
    "for epoch in range(10000):\n",
    "    \n",
    "    w, b = gradient_descent(w, b, X_train, y_train, lr)\n",
    "    loss_1 = MSE(model(w, b, X_train), y_train)\n",
    "    loss_2 = MSE(model(w, b, X_test), y_test)\n",
    "    \n",
    "    train_loss.append(loss_1)\n",
    "    test_loss.append(loss_2)\n",
    "    \n",
    "    if epoch % 100 == 0:\n",
    "        print('Epoch : {}, Train_loss : {:.2f}, Test_loss : {:.2f}'.format(epoch, loss_1, loss_2))\n",
    "\n",
    "plt.plot(train_loss, label='train')\n",
    "plt.plot(test_loss, label = 'test')\n",
    "plt.legend()"
   ]
  },
  {
   "cell_type": "markdown",
   "id": "eb2731f3",
   "metadata": {},
   "source": [
    "### ( 11 ) 정답 데이터와 예측한 데이터 시각화하기"
   ]
  },
  {
   "cell_type": "code",
   "execution_count": 33,
   "id": "a38df14c",
   "metadata": {},
   "outputs": [],
   "source": [
    "y_pred = model(w, b , X_test)"
   ]
  },
  {
   "cell_type": "code",
   "execution_count": 34,
   "id": "f7b9b624",
   "metadata": {
    "scrolled": true
   },
   "outputs": [
    {
     "data": {
      "text/plain": [
       "<matplotlib.legend.Legend at 0x7f96fd42da00>"
      ]
     },
     "execution_count": 34,
     "metadata": {},
     "output_type": "execute_result"
    },
    {
     "data": {
      "image/png": "[encoded data removed]",
      "text/plain": [
       "<Figure size 432x288 with 1 Axes>"
      ]
     },
     "metadata": {
      "needs_background": "light"
     },
     "output_type": "display_data"
    }
   ],
   "source": [
    "plt.scatter(X_test.iloc[:,0], y_test, label='Train')\n",
    "plt.scatter(X_test.iloc[:,0], y_pred, label='Test')\n",
    "plt.legend()"
   ]
  },
  {
   "cell_type": "markdown",
   "id": "43a9b03d",
   "metadata": {},
   "source": [
    "### ( 12 ) Discussion"
   ]
  },
  {
   "cell_type": "markdown",
   "id": "7ba360c5",
   "metadata": {},
   "source": [
    "#### 성급한 일반화일수도 있으나, 모든 feature를 다 사용했을 때보다 적절한 feature를 선택하여 사용하는 것이 성능개선에 더 도움이 될 수 있는 것 같다. \n",
    "#### 그 예시로 성별 feature를 제거 했을 떄의 loss값이 모든 feature를 다 사용했을 때보다 더 loss가 작았다."
   ]
  },
  {
   "cell_type": "code",
   "execution_count": null,
   "id": "b153ad1b",
   "metadata": {},
   "outputs": [],
   "source": []
  }
 ],
 "metadata": {
  "kernelspec": {
   "display_name": "Python 3 (ipykernel)",
   "language": "python",
   "name": "python3"
  },
  "language_info": {
   "codemirror_mode": {
    "name": "ipython",
    "version": 3
   },
   "file_extension": ".py",
   "mimetype": "text/x-python",
   "name": "python",
   "nbconvert_exporter": "python",
   "pygments_lexer": "ipython3",
   "version": "3.9.7"
  }
 },
 "nbformat": 4,
 "nbformat_minor": 5
}
